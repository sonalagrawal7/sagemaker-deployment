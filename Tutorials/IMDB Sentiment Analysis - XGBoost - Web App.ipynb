{
 "cells": [
  {
   "cell_type": "markdown",
   "metadata": {},
   "source": [
    "# Sentiment Analysis Web App\n",
    "\n",
    "_Deep Learning Nanodegree Program | Deployment_\n",
    "\n",
    "---\n",
    "\n",
    "In this notebook we will use Amazon's SageMaker service to construct a random tree model to predict the sentiment of a movie review. In addition, we will deploy this model to an endpoint and construct a very simple web app which will interact with our model's deployed endpoint.\n",
    "\n",
    "## General Outline\n",
    "\n",
    "Typically, when using a notebook instance with SageMaker, you will proceed through the following steps. Of course, not every step will need to be done with each project. Also, there is quite a lot of room for variation in many of the steps, as you will see throughout these lessons.\n",
    "\n",
    "1. Download or otherwise retrieve the data.\n",
    "2. Process / Prepare the data.\n",
    "3. Upload the processed data to S3.\n",
    "4. Train a chosen model.\n",
    "5. Test the trained model (typically using a batch transform job).\n",
    "6. Deploy the trained model.\n",
    "7. Use the deployed model.\n",
    "\n",
    "In this notebook we will progress through each of the steps above. We will also see that the final step, using the deployed model, can be quite challenging."
   ]
  },
  {
   "cell_type": "code",
   "execution_count": 1,
   "metadata": {},
   "outputs": [
    {
     "name": "stdout",
     "output_type": "stream",
     "text": [
      "Collecting sagemaker==1.72.0\n",
      "  Downloading sagemaker-1.72.0.tar.gz (297 kB)\n",
      "\u001b[K     |████████████████████████████████| 297 kB 3.8 MB/s eta 0:00:01\n",
      "\u001b[?25hRequirement already satisfied: boto3>=1.14.12 in /home/ec2-user/anaconda3/envs/pytorch_p36/lib/python3.6/site-packages (from sagemaker==1.72.0) (1.17.55)\n",
      "Requirement already satisfied: numpy>=1.9.0 in /home/ec2-user/anaconda3/envs/pytorch_p36/lib/python3.6/site-packages (from sagemaker==1.72.0) (1.19.5)\n",
      "Requirement already satisfied: protobuf>=3.1 in /home/ec2-user/anaconda3/envs/pytorch_p36/lib/python3.6/site-packages (from sagemaker==1.72.0) (3.15.2)\n",
      "Requirement already satisfied: scipy>=0.19.0 in /home/ec2-user/anaconda3/envs/pytorch_p36/lib/python3.6/site-packages (from sagemaker==1.72.0) (1.5.3)\n",
      "Requirement already satisfied: protobuf3-to-dict>=0.1.5 in /home/ec2-user/anaconda3/envs/pytorch_p36/lib/python3.6/site-packages (from sagemaker==1.72.0) (0.1.5)\n",
      "Collecting smdebug-rulesconfig==0.1.4\n",
      "  Downloading smdebug_rulesconfig-0.1.4-py2.py3-none-any.whl (10 kB)\n",
      "Requirement already satisfied: importlib-metadata>=1.4.0 in /home/ec2-user/anaconda3/envs/pytorch_p36/lib/python3.6/site-packages (from sagemaker==1.72.0) (3.7.0)\n",
      "Requirement already satisfied: packaging>=20.0 in /home/ec2-user/anaconda3/envs/pytorch_p36/lib/python3.6/site-packages (from sagemaker==1.72.0) (20.9)\n",
      "Requirement already satisfied: jmespath<1.0.0,>=0.7.1 in /home/ec2-user/anaconda3/envs/pytorch_p36/lib/python3.6/site-packages (from boto3>=1.14.12->sagemaker==1.72.0) (0.10.0)\n",
      "Requirement already satisfied: botocore<1.21.0,>=1.20.55 in /home/ec2-user/anaconda3/envs/pytorch_p36/lib/python3.6/site-packages (from boto3>=1.14.12->sagemaker==1.72.0) (1.20.55)\n",
      "Requirement already satisfied: s3transfer<0.5.0,>=0.4.0 in /home/ec2-user/anaconda3/envs/pytorch_p36/lib/python3.6/site-packages (from boto3>=1.14.12->sagemaker==1.72.0) (0.4.1)\n",
      "Requirement already satisfied: python-dateutil<3.0.0,>=2.1 in /home/ec2-user/anaconda3/envs/pytorch_p36/lib/python3.6/site-packages (from botocore<1.21.0,>=1.20.55->boto3>=1.14.12->sagemaker==1.72.0) (2.8.1)\n",
      "Requirement already satisfied: urllib3<1.27,>=1.25.4 in /home/ec2-user/anaconda3/envs/pytorch_p36/lib/python3.6/site-packages (from botocore<1.21.0,>=1.20.55->boto3>=1.14.12->sagemaker==1.72.0) (1.26.4)\n",
      "Requirement already satisfied: typing-extensions>=3.6.4 in /home/ec2-user/anaconda3/envs/pytorch_p36/lib/python3.6/site-packages (from importlib-metadata>=1.4.0->sagemaker==1.72.0) (3.7.4.3)\n",
      "Requirement already satisfied: zipp>=0.5 in /home/ec2-user/anaconda3/envs/pytorch_p36/lib/python3.6/site-packages (from importlib-metadata>=1.4.0->sagemaker==1.72.0) (3.4.0)\n",
      "Requirement already satisfied: pyparsing>=2.0.2 in /home/ec2-user/anaconda3/envs/pytorch_p36/lib/python3.6/site-packages (from packaging>=20.0->sagemaker==1.72.0) (2.4.7)\n",
      "Requirement already satisfied: six>=1.9 in /home/ec2-user/anaconda3/envs/pytorch_p36/lib/python3.6/site-packages (from protobuf>=3.1->sagemaker==1.72.0) (1.15.0)\n",
      "Building wheels for collected packages: sagemaker\n",
      "  Building wheel for sagemaker (setup.py) ... \u001b[?25ldone\n",
      "\u001b[?25h  Created wheel for sagemaker: filename=sagemaker-1.72.0-py2.py3-none-any.whl size=386358 sha256=d67d7f8c7608f1a24bb3ec82d7a0ed5dd338cf044bd114e629439c308e15a0ec\n",
      "  Stored in directory: /home/ec2-user/.cache/pip/wheels/c3/58/70/85faf4437568bfaa4c419937569ba1fe54d44c5db42406bbd7\n",
      "Successfully built sagemaker\n",
      "Installing collected packages: smdebug-rulesconfig, sagemaker\n",
      "  Attempting uninstall: smdebug-rulesconfig\n",
      "    Found existing installation: smdebug-rulesconfig 1.0.1\n",
      "    Uninstalling smdebug-rulesconfig-1.0.1:\n",
      "      Successfully uninstalled smdebug-rulesconfig-1.0.1\n",
      "  Attempting uninstall: sagemaker\n",
      "    Found existing installation: sagemaker 2.38.0\n",
      "    Uninstalling sagemaker-2.38.0:\n",
      "      Successfully uninstalled sagemaker-2.38.0\n",
      "Successfully installed sagemaker-1.72.0 smdebug-rulesconfig-0.1.4\n"
     ]
    }
   ],
   "source": [
    "# Make sure that we use SageMaker 1.x\n",
    "!pip install sagemaker==1.72.0"
   ]
  },
  {
   "cell_type": "markdown",
   "metadata": {},
   "source": [
    "## Step 1: Downloading the data\n",
    "\n",
    "The dataset we are going to use is very popular among researchers in Natural Language Processing, usually referred to as the [IMDb dataset](http://ai.stanford.edu/~amaas/data/sentiment/). It consists of movie reviews from the website [imdb.com](http://www.imdb.com/), each labeled as either '**pos**itive', if the reviewer enjoyed the film, or '**neg**ative' otherwise.\n",
    "\n",
    "> Maas, Andrew L., et al. [Learning Word Vectors for Sentiment Analysis](http://ai.stanford.edu/~amaas/data/sentiment/). In _Proceedings of the 49th Annual Meeting of the Association for Computational Linguistics: Human Language Technologies_. Association for Computational Linguistics, 2011.\n",
    "\n",
    "We begin by using some Jupyter Notebook magic to download and extract the dataset."
   ]
  },
  {
   "cell_type": "code",
   "execution_count": 2,
   "metadata": {},
   "outputs": [
    {
     "name": "stdout",
     "output_type": "stream",
     "text": [
      "mkdir: cannot create directory ‘../data’: File exists\n",
      "--2021-05-05 09:13:55--  http://ai.stanford.edu/~amaas/data/sentiment/aclImdb_v1.tar.gz\n",
      "Resolving ai.stanford.edu (ai.stanford.edu)... 171.64.68.10\n",
      "Connecting to ai.stanford.edu (ai.stanford.edu)|171.64.68.10|:80... connected.\n",
      "HTTP request sent, awaiting response... 200 OK\n",
      "Length: 84125825 (80M) [application/x-gzip]\n",
      "Saving to: ‘../data/aclImdb_v1.tar.gz’\n",
      "\n",
      "../data/aclImdb_v1. 100%[===================>]  80.23M  6.79MB/s    in 17s     \n",
      "\n",
      "2021-05-05 09:14:13 (4.73 MB/s) - ‘../data/aclImdb_v1.tar.gz’ saved [84125825/84125825]\n",
      "\n"
     ]
    }
   ],
   "source": [
    "%mkdir ../data\n",
    "!wget -O ../data/aclImdb_v1.tar.gz http://ai.stanford.edu/~amaas/data/sentiment/aclImdb_v1.tar.gz\n",
    "!tar -zxf ../data/aclImdb_v1.tar.gz -C ../data"
   ]
  },
  {
   "cell_type": "markdown",
   "metadata": {},
   "source": [
    "## Step 2: Preparing and Processing the data\n",
    "\n",
    "The data we have downloaded is split into various files, each of which contains a single review. It will be much easier going forward if we combine these individual files into two large files, one for training and one for testing."
   ]
  },
  {
   "cell_type": "code",
   "execution_count": 3,
   "metadata": {},
   "outputs": [],
   "source": [
    "import os\n",
    "import glob\n",
    "\n",
    "def read_imdb_data(data_dir='../data/aclImdb'):\n",
    "    data = {}\n",
    "    labels = {}\n",
    "    \n",
    "    for data_type in ['train', 'test']:\n",
    "        data[data_type] = {}\n",
    "        labels[data_type] = {}\n",
    "        \n",
    "        for sentiment in ['pos', 'neg']:\n",
    "            data[data_type][sentiment] = []\n",
    "            labels[data_type][sentiment] = []\n",
    "            \n",
    "            path = os.path.join(data_dir, data_type, sentiment, '*.txt')\n",
    "            files = glob.glob(path)\n",
    "            \n",
    "            for f in files:\n",
    "                with open(f) as review:\n",
    "                    data[data_type][sentiment].append(review.read())\n",
    "                    # Here we represent a positive review by '1' and a negative review by '0'\n",
    "                    labels[data_type][sentiment].append(1 if sentiment == 'pos' else 0)\n",
    "                    \n",
    "            assert len(data[data_type][sentiment]) == len(labels[data_type][sentiment]), \\\n",
    "                    \"{}/{} data size does not match labels size\".format(data_type, sentiment)\n",
    "                \n",
    "    return data, labels"
   ]
  },
  {
   "cell_type": "code",
   "execution_count": 4,
   "metadata": {},
   "outputs": [
    {
     "name": "stdout",
     "output_type": "stream",
     "text": [
      "IMDB reviews: train = 12500 pos / 12500 neg, test = 12500 pos / 12500 neg\n"
     ]
    }
   ],
   "source": [
    "data, labels = read_imdb_data()\n",
    "print(\"IMDB reviews: train = {} pos / {} neg, test = {} pos / {} neg\".format(\n",
    "            len(data['train']['pos']), len(data['train']['neg']),\n",
    "            len(data['test']['pos']), len(data['test']['neg'])))"
   ]
  },
  {
   "cell_type": "code",
   "execution_count": 5,
   "metadata": {},
   "outputs": [],
   "source": [
    "from sklearn.utils import shuffle\n",
    "\n",
    "def prepare_imdb_data(data, labels):\n",
    "    \"\"\"Prepare training and test sets from IMDb movie reviews.\"\"\"\n",
    "    \n",
    "    #Combine positive and negative reviews and labels\n",
    "    data_train = data['train']['pos'] + data['train']['neg']\n",
    "    data_test = data['test']['pos'] + data['test']['neg']\n",
    "    labels_train = labels['train']['pos'] + labels['train']['neg']\n",
    "    labels_test = labels['test']['pos'] + labels['test']['neg']\n",
    "    \n",
    "    #Shuffle reviews and corresponding labels within training and test sets\n",
    "    data_train, labels_train = shuffle(data_train, labels_train)\n",
    "    data_test, labels_test = shuffle(data_test, labels_test)\n",
    "    \n",
    "    # Return a unified training data, test data, training labels, test labets\n",
    "    return data_train, data_test, labels_train, labels_test"
   ]
  },
  {
   "cell_type": "code",
   "execution_count": 6,
   "metadata": {},
   "outputs": [
    {
     "name": "stdout",
     "output_type": "stream",
     "text": [
      "IMDb reviews (combined): train = 25000, test = 25000\n"
     ]
    }
   ],
   "source": [
    "train_X, test_X, train_y, test_y = prepare_imdb_data(data, labels)\n",
    "print(\"IMDb reviews (combined): train = {}, test = {}\".format(len(train_X), len(test_X)))"
   ]
  },
  {
   "cell_type": "code",
   "execution_count": 7,
   "metadata": {},
   "outputs": [
    {
     "data": {
      "text/plain": [
       "'\"Land of Plenty\" is not a film. It is a tombstone for the directorial career of German Director Wim Wenders.<br /><br />Many felt it in \"The Million Dollar Hotel\" and now \"Land of Plenty\" makes it perfectly clear; not only has Wenders lost it, he\\'s actually turned into a BAD director, creating horribly weak and superficial stories and scenes.<br /><br />One might argue that the \"time you lose it\" comes for every director, but Wenders\\' case is extreme. It\\'s as if he completely forget everything he knew about cinema and started all over again - only to get sloppish results.<br /><br />In a few words, this film does not deserve your time.'"
      ]
     },
     "execution_count": 7,
     "metadata": {},
     "output_type": "execute_result"
    }
   ],
   "source": [
    "train_X[100]"
   ]
  },
  {
   "cell_type": "markdown",
   "metadata": {},
   "source": [
    "## Processing the data\n",
    "\n",
    "Now that we have our training and testing datasets merged and ready to use, we need to start processing the raw data into something that will be useable by our machine learning algorithm. To begin with, we remove any html formatting and any non-alpha numeric characters that may appear in the reviews. We will do this in a very simplistic way using Python's regular expression module. We will discuss the reason for this rather simplistic pre-processing later on."
   ]
  },
  {
   "cell_type": "code",
   "execution_count": 8,
   "metadata": {},
   "outputs": [],
   "source": [
    "import re\n",
    "\n",
    "REPLACE_NO_SPACE = re.compile(\"(\\.)|(\\;)|(\\:)|(\\!)|(\\')|(\\?)|(\\,)|(\\\")|(\\()|(\\))|(\\[)|(\\])\")\n",
    "REPLACE_WITH_SPACE = re.compile(\"(<br\\s*/><br\\s*/>)|(\\-)|(\\/)\")\n",
    "\n",
    "def review_to_words(review):\n",
    "    words = REPLACE_NO_SPACE.sub(\"\", review.lower())\n",
    "    words = REPLACE_WITH_SPACE.sub(\" \", words)\n",
    "    return words"
   ]
  },
  {
   "cell_type": "code",
   "execution_count": 9,
   "metadata": {},
   "outputs": [
    {
     "data": {
      "text/plain": [
       "'land of plenty is not a film it is a tombstone for the directorial career of german director wim wenders many felt it in the million dollar hotel and now land of plenty makes it perfectly clear not only has wenders lost it hes actually turned into a bad director creating horribly weak and superficial stories and scenes one might argue that the time you lose it comes for every director but wenders case is extreme its as if he completely forget everything he knew about cinema and started all over again   only to get sloppish results in a few words this film does not deserve your time'"
      ]
     },
     "execution_count": 9,
     "metadata": {},
     "output_type": "execute_result"
    }
   ],
   "source": [
    "review_to_words(train_X[100])"
   ]
  },
  {
   "cell_type": "code",
   "execution_count": 10,
   "metadata": {},
   "outputs": [],
   "source": [
    "import pickle\n",
    "\n",
    "cache_dir = os.path.join(\"../cache\", \"sentiment_web_app\")  # where to store cache files\n",
    "os.makedirs(cache_dir, exist_ok=True)  # ensure cache directory exists\n",
    "\n",
    "def preprocess_data(data_train, data_test, labels_train, labels_test,\n",
    "                    cache_dir=cache_dir, cache_file=\"preprocessed_data.pkl\"):\n",
    "    \"\"\"Convert each review to words; read from cache if available.\"\"\"\n",
    "\n",
    "    # If cache_file is not None, try to read from it first\n",
    "    cache_data = None\n",
    "    if cache_file is not None:\n",
    "        try:\n",
    "            with open(os.path.join(cache_dir, cache_file), \"rb\") as f:\n",
    "                cache_data = pickle.load(f)\n",
    "            print(\"Read preprocessed data from cache file:\", cache_file)\n",
    "        except:\n",
    "            pass  # unable to read from cache, but that's okay\n",
    "    \n",
    "    # If cache is missing, then do the heavy lifting\n",
    "    if cache_data is None:\n",
    "        # Preprocess training and test data to obtain words for each review\n",
    "        #words_train = list(map(review_to_words, data_train))\n",
    "        #words_test = list(map(review_to_words, data_test))\n",
    "        words_train = [review_to_words(review) for review in data_train]\n",
    "        words_test = [review_to_words(review) for review in data_test]\n",
    "        \n",
    "        # Write to cache file for future runs\n",
    "        if cache_file is not None:\n",
    "            cache_data = dict(words_train=words_train, words_test=words_test,\n",
    "                              labels_train=labels_train, labels_test=labels_test)\n",
    "            with open(os.path.join(cache_dir, cache_file), \"wb\") as f:\n",
    "                pickle.dump(cache_data, f)\n",
    "            print(\"Wrote preprocessed data to cache file:\", cache_file)\n",
    "    else:\n",
    "        # Unpack data loaded from cache file\n",
    "        words_train, words_test, labels_train, labels_test = (cache_data['words_train'],\n",
    "                cache_data['words_test'], cache_data['labels_train'], cache_data['labels_test'])\n",
    "    \n",
    "    return words_train, words_test, labels_train, labels_test"
   ]
  },
  {
   "cell_type": "code",
   "execution_count": 11,
   "metadata": {},
   "outputs": [
    {
     "name": "stdout",
     "output_type": "stream",
     "text": [
      "Wrote preprocessed data to cache file: preprocessed_data.pkl\n"
     ]
    }
   ],
   "source": [
    "# Preprocess data\n",
    "train_X, test_X, train_y, test_y = preprocess_data(train_X, test_X, train_y, test_y)"
   ]
  },
  {
   "cell_type": "markdown",
   "metadata": {},
   "source": [
    "### Extract Bag-of-Words features\n",
    "\n",
    "For the model we will be implementing, rather than using the reviews directly, we are going to transform each review into a Bag-of-Words feature representation. Keep in mind that 'in the wild' we will only have access to the training set so our transformer can only use the training set to construct a representation."
   ]
  },
  {
   "cell_type": "code",
   "execution_count": 12,
   "metadata": {},
   "outputs": [],
   "source": [
    "import numpy as np\n",
    "from sklearn.feature_extraction.text import CountVectorizer\n",
    "\n",
    "# sklearn.externals.joblib is deprecated in 0.21 and will be removed in 0.23. \n",
    "# from sklearn.externals import joblib\n",
    "\n",
    "# Import joblib package directly\n",
    "import joblib\n",
    "# joblib is an enhanced version of pickle that is more efficient for storing NumPy arrays\n",
    "\n",
    "def extract_BoW_features(words_train, words_test, vocabulary_size=5000,\n",
    "                         cache_dir=cache_dir, cache_file=\"bow_features.pkl\"):\n",
    "    \"\"\"Extract Bag-of-Words for a given set of documents, already preprocessed into words.\"\"\"\n",
    "    \n",
    "    # If cache_file is not None, try to read from it first\n",
    "    cache_data = None\n",
    "    if cache_file is not None:\n",
    "        try:\n",
    "            with open(os.path.join(cache_dir, cache_file), \"rb\") as f:\n",
    "                cache_data = joblib.load(f)\n",
    "            print(\"Read features from cache file:\", cache_file)\n",
    "        except:\n",
    "            pass  # unable to read from cache, but that's okay\n",
    "    \n",
    "    # If cache is missing, then do the heavy lifting\n",
    "    if cache_data is None:\n",
    "        # Fit a vectorizer to training documents and use it to transform them\n",
    "        # NOTE: Training documents have already been preprocessed and tokenized into words;\n",
    "        #       pass in dummy functions to skip those steps, e.g. preprocessor=lambda x: x\n",
    "        vectorizer = CountVectorizer(max_features=vocabulary_size)\n",
    "        features_train = vectorizer.fit_transform(words_train).toarray()\n",
    "\n",
    "        # Apply the same vectorizer to transform the test documents (ignore unknown words)\n",
    "        features_test = vectorizer.transform(words_test).toarray()\n",
    "        \n",
    "        # NOTE: Remember to convert the features using .toarray() for a compact representation\n",
    "        \n",
    "        # Write to cache file for future runs (store vocabulary as well)\n",
    "        if cache_file is not None:\n",
    "            vocabulary = vectorizer.vocabulary_\n",
    "            cache_data = dict(features_train=features_train, features_test=features_test,\n",
    "                             vocabulary=vocabulary)\n",
    "            with open(os.path.join(cache_dir, cache_file), \"wb\") as f:\n",
    "                joblib.dump(cache_data, f)\n",
    "            print(\"Wrote features to cache file:\", cache_file)\n",
    "    else:\n",
    "        # Unpack data loaded from cache file\n",
    "        features_train, features_test, vocabulary = (cache_data['features_train'],\n",
    "                cache_data['features_test'], cache_data['vocabulary'])\n",
    "    \n",
    "    # Return both the extracted features as well as the vocabulary\n",
    "    return features_train, features_test, vocabulary"
   ]
  },
  {
   "cell_type": "code",
   "execution_count": 13,
   "metadata": {},
   "outputs": [
    {
     "name": "stdout",
     "output_type": "stream",
     "text": [
      "Wrote features to cache file: bow_features.pkl\n"
     ]
    }
   ],
   "source": [
    "# Extract Bag of Words features for both training and test datasets\n",
    "train_X, test_X, vocabulary = extract_BoW_features(train_X, test_X)"
   ]
  },
  {
   "cell_type": "code",
   "execution_count": 14,
   "metadata": {},
   "outputs": [
    {
     "data": {
      "text/plain": [
       "5000"
      ]
     },
     "execution_count": 14,
     "metadata": {},
     "output_type": "execute_result"
    }
   ],
   "source": [
    "len(train_X[100])"
   ]
  },
  {
   "cell_type": "markdown",
   "metadata": {},
   "source": [
    "## Step 3: Upload data to S3\n",
    "\n",
    "Now that we have created the feature representation of our training (and testing) data, it is time to start setting up and using the XGBoost classifier provided by SageMaker.\n",
    "\n",
    "### Writing the datasets\n",
    "\n",
    "The XGBoost classifier that we will be using requires the dataset to be written to a file and stored using Amazon S3. To do this, we will start by splitting the training dataset into two parts, the data we will train the model with and a validation set. Then, we will write those datasets to a file locally and then upload the files to S3. In addition, we will write the test set to a file and upload that file to S3. This is so that we can use SageMakers Batch Transform functionality to test our model once we've fit it."
   ]
  },
  {
   "cell_type": "code",
   "execution_count": 15,
   "metadata": {},
   "outputs": [],
   "source": [
    "import pandas as pd\n",
    "\n",
    "# Earlier we shuffled the training dataset so to make things simple we can just assign\n",
    "# the first 10 000 reviews to the validation set and use the remaining reviews for training.\n",
    "val_X = pd.DataFrame(train_X[:10000])\n",
    "train_X = pd.DataFrame(train_X[10000:])\n",
    "\n",
    "val_y = pd.DataFrame(train_y[:10000])\n",
    "train_y = pd.DataFrame(train_y[10000:])"
   ]
  },
  {
   "cell_type": "markdown",
   "metadata": {},
   "source": [
    "The documentation for the XGBoost algorithm in SageMaker requires that the training and validation datasets should contain no headers or index and that the label should occur first for each sample.\n",
    "\n",
    "For more information about this and other algorithms, the SageMaker developer documentation can be found on __[Amazon's website.](https://docs.aws.amazon.com/sagemaker/latest/dg/)__"
   ]
  },
  {
   "cell_type": "code",
   "execution_count": 16,
   "metadata": {},
   "outputs": [],
   "source": [
    "# First we make sure that the local directory in which we'd like to store the training and validation csv files exists.\n",
    "data_dir = '../data/sentiment_web_app'\n",
    "if not os.path.exists(data_dir):\n",
    "    os.makedirs(data_dir)"
   ]
  },
  {
   "cell_type": "code",
   "execution_count": 17,
   "metadata": {},
   "outputs": [],
   "source": [
    "pd.DataFrame(test_X).to_csv(os.path.join(data_dir, 'test.csv'), header=False, index=False)\n",
    "\n",
    "pd.concat([val_y, val_X], axis=1).to_csv(os.path.join(data_dir, 'validation.csv'), header=False, index=False)\n",
    "pd.concat([train_y, train_X], axis=1).to_csv(os.path.join(data_dir, 'train.csv'), header=False, index=False)"
   ]
  },
  {
   "cell_type": "code",
   "execution_count": 18,
   "metadata": {},
   "outputs": [],
   "source": [
    "# To save a bit of memory we can set text_X, train_X, val_X, train_y and val_y to None.\n",
    "\n",
    "test_X = train_X = val_X = train_y = val_y = None"
   ]
  },
  {
   "cell_type": "markdown",
   "metadata": {},
   "source": [
    "### Uploading Training / Validation files to S3\n",
    "\n",
    "Amazon's S3 service allows us to store files that can be accessed by both the built-in training models such as the XGBoost model we will be using as well as custom models such as the one we will see a little later.\n",
    "\n",
    "For this and most other tasks we will be doing using SageMaker, there are two methods we could use. The first is to use the low level functionality of SageMaker which requires knowing each of the objects involved in the SageMaker environment. The second is to use the high level functionality in which certain choices have been made on the user's behalf. The low level approach benefits from allowing the user a great deal of flexibility while the high level approach makes development much quicker. For our purposes we will opt to use the high level approach although using the low-level approach is certainly an option.\n",
    "\n",
    "Recall the method `upload_data()` which is a member of the object representing our current SageMaker session. What this method does is upload the data to the default bucket (which is created if it does not exist) into the path described by the key_prefix variable. To see this for yourself, once you have uploaded the data files, go to the S3 console and look to see where the files have been uploaded.\n",
    "\n",
    "For additional resources, see the __[SageMaker API documentation](http://sagemaker.readthedocs.io/en/latest/)__ and in addition the __[SageMaker Developer Guide.](https://docs.aws.amazon.com/sagemaker/latest/dg/)__"
   ]
  },
  {
   "cell_type": "code",
   "execution_count": 19,
   "metadata": {},
   "outputs": [],
   "source": [
    "import sagemaker\n",
    "\n",
    "session = sagemaker.Session() # Store the current SageMaker session\n",
    "\n",
    "# S3 prefix (which folder will we use)\n",
    "prefix = 'sentiment-web-app'\n",
    "\n",
    "test_location = session.upload_data(os.path.join(data_dir, 'test.csv'), key_prefix=prefix)\n",
    "val_location = session.upload_data(os.path.join(data_dir, 'validation.csv'), key_prefix=prefix)\n",
    "train_location = session.upload_data(os.path.join(data_dir, 'train.csv'), key_prefix=prefix)"
   ]
  },
  {
   "cell_type": "markdown",
   "metadata": {},
   "source": [
    "## Step 4: Creating the XGBoost model\n",
    "\n",
    "Now that the data has been uploaded it is time to create the XGBoost model. To begin with, we need to do some setup. At this point it is worth discussing what a model is in SageMaker. It is easiest to think of a model of comprising three different objects in the SageMaker ecosystem, which interact with one another.\n",
    "\n",
    "- Model Artifacts\n",
    "- Training Code (Container)\n",
    "- Inference Code (Container)\n",
    "\n",
    "The Model Artifacts are what you might think of as the actual model itself. For example, if you were building a neural network, the model artifacts would be the weights of the various layers. In our case, for an XGBoost model, the artifacts are the actual trees that are created during training.\n",
    "\n",
    "The other two objects, the training code and the inference code are then used to manipulate the training artifacts. More precisely, the training code uses the training data that is provided and creates the model artifacts, while the inference code uses the model artifacts to make predictions on new data.\n",
    "\n",
    "The way that SageMaker runs the training and inference code is by making use of Docker containers. For now, think of a container as being a way of packaging code up so that dependencies aren't an issue."
   ]
  },
  {
   "cell_type": "code",
   "execution_count": 20,
   "metadata": {},
   "outputs": [],
   "source": [
    "from sagemaker import get_execution_role\n",
    "\n",
    "# Our current execution role is required when creating the model as the training\n",
    "# and inference code will need to access the model artifacts.\n",
    "role = get_execution_role()"
   ]
  },
  {
   "cell_type": "code",
   "execution_count": 21,
   "metadata": {},
   "outputs": [
    {
     "name": "stderr",
     "output_type": "stream",
     "text": [
      "'get_image_uri' method will be deprecated in favor of 'ImageURIProvider' class in SageMaker Python SDK v2.\n",
      "There is a more up to date SageMaker XGBoost image. To use the newer image, please set 'repo_version'='1.0-1'. For example:\n",
      "\tget_image_uri(region, 'xgboost', '1.0-1').\n"
     ]
    }
   ],
   "source": [
    "# We need to retrieve the location of the container which is provided by Amazon for using XGBoost.\n",
    "# As a matter of convenience, the training and inference code both use the same container.\n",
    "from sagemaker.amazon.amazon_estimator import get_image_uri\n",
    "\n",
    "container = get_image_uri(session.boto_region_name, 'xgboost')"
   ]
  },
  {
   "cell_type": "code",
   "execution_count": 22,
   "metadata": {},
   "outputs": [
    {
     "name": "stderr",
     "output_type": "stream",
     "text": [
      "Parameter image_name will be renamed to image_uri in SageMaker Python SDK v2.\n"
     ]
    }
   ],
   "source": [
    "# First we create a SageMaker estimator object for our model.\n",
    "xgb = sagemaker.estimator.Estimator(container, # The location of the container we wish to use\n",
    "                                    role,                                    # What is our current IAM Role\n",
    "                                    train_instance_count=1,                  # How many compute instances\n",
    "                                    train_instance_type='ml.m4.xlarge',      # What kind of compute instances\n",
    "                                    output_path='s3://{}/{}/output'.format(session.default_bucket(), prefix),\n",
    "                                    sagemaker_session=session)\n",
    "\n",
    "# And then set the algorithm specific parameters.\n",
    "xgb.set_hyperparameters(max_depth=5,\n",
    "                        eta=0.2,\n",
    "                        gamma=4,\n",
    "                        min_child_weight=6,\n",
    "                        subsample=0.8,\n",
    "                        silent=0,\n",
    "                        objective='binary:logistic',\n",
    "                        early_stopping_rounds=10,\n",
    "                        num_round=500)"
   ]
  },
  {
   "cell_type": "markdown",
   "metadata": {},
   "source": [
    "### Fit the XGBoost model\n",
    "\n",
    "Now that our model has been set up we simply need to attach the training and validation datasets and then ask SageMaker to set up the computation."
   ]
  },
  {
   "cell_type": "code",
   "execution_count": 23,
   "metadata": {},
   "outputs": [
    {
     "name": "stderr",
     "output_type": "stream",
     "text": [
      "'s3_input' class will be renamed to 'TrainingInput' in SageMaker Python SDK v2.\n",
      "'s3_input' class will be renamed to 'TrainingInput' in SageMaker Python SDK v2.\n"
     ]
    }
   ],
   "source": [
    "s3_input_train = sagemaker.s3_input(s3_data=train_location, content_type='csv')\n",
    "s3_input_validation = sagemaker.s3_input(s3_data=val_location, content_type='csv')"
   ]
  },
  {
   "cell_type": "code",
   "execution_count": 24,
   "metadata": {},
   "outputs": [
    {
     "name": "stdout",
     "output_type": "stream",
     "text": [
      "2021-05-05 09:16:27 Starting - Starting the training job...\n",
      "2021-05-05 09:16:29 Starting - Launching requested ML instances......\n",
      "2021-05-05 09:17:31 Starting - Preparing the instances for training......\n",
      "2021-05-05 09:18:56 Downloading - Downloading input data\n",
      "2021-05-05 09:18:56 Training - Downloading the training image...\n",
      "2021-05-05 09:19:16 Training - Training image download completed. Training in progress.\u001b[34mArguments: train\u001b[0m\n",
      "\u001b[34m[2021-05-05:09:19:17:INFO] Running standalone xgboost training.\u001b[0m\n",
      "\u001b[34m[2021-05-05:09:19:17:INFO] File size need to be processed in the node: 238.5mb. Available memory size in the node: 8399.09mb\u001b[0m\n",
      "\u001b[34m[2021-05-05:09:19:17:INFO] Determined delimiter of CSV input is ','\u001b[0m\n",
      "\u001b[34m[09:19:17] S3DistributionType set as FullyReplicated\u001b[0m\n",
      "\u001b[34m[09:19:19] 15000x5000 matrix with 75000000 entries loaded from /opt/ml/input/data/train?format=csv&label_column=0&delimiter=,\u001b[0m\n",
      "\u001b[34m[2021-05-05:09:19:19:INFO] Determined delimiter of CSV input is ','\u001b[0m\n",
      "\u001b[34m[09:19:19] S3DistributionType set as FullyReplicated\u001b[0m\n",
      "\u001b[34m[09:19:20] 10000x5000 matrix with 50000000 entries loaded from /opt/ml/input/data/validation?format=csv&label_column=0&delimiter=,\u001b[0m\n",
      "\u001b[34m[09:19:24] src/tree/updater_prune.cc:74: tree pruning end, 1 roots, 46 extra nodes, 2 pruned nodes, max_depth=5\u001b[0m\n",
      "\u001b[34m[0]#011train-error:0.3046#011validation-error:0.3138\u001b[0m\n",
      "\u001b[34mMultiple eval metrics have been passed: 'validation-error' will be used for early stopping.\n",
      "\u001b[0m\n",
      "\u001b[34mWill train until validation-error hasn't improved in 10 rounds.\u001b[0m\n",
      "\u001b[34m[09:19:26] src/tree/updater_prune.cc:74: tree pruning end, 1 roots, 38 extra nodes, 8 pruned nodes, max_depth=5\u001b[0m\n",
      "\u001b[34m[1]#011train-error:0.298667#011validation-error:0.3108\u001b[0m\n",
      "\u001b[34m[09:19:27] src/tree/updater_prune.cc:74: tree pruning end, 1 roots, 48 extra nodes, 2 pruned nodes, max_depth=5\u001b[0m\n",
      "\u001b[34m[2]#011train-error:0.275067#011validation-error:0.2918\u001b[0m\n",
      "\u001b[34m[09:19:29] src/tree/updater_prune.cc:74: tree pruning end, 1 roots, 28 extra nodes, 8 pruned nodes, max_depth=5\u001b[0m\n",
      "\u001b[34m[3]#011train-error:0.2658#011validation-error:0.2848\u001b[0m\n",
      "\u001b[34m[09:19:30] src/tree/updater_prune.cc:74: tree pruning end, 1 roots, 34 extra nodes, 6 pruned nodes, max_depth=5\u001b[0m\n",
      "\u001b[34m[4]#011train-error:0.259#011validation-error:0.2735\u001b[0m\n",
      "\u001b[34m[09:19:32] src/tree/updater_prune.cc:74: tree pruning end, 1 roots, 48 extra nodes, 2 pruned nodes, max_depth=5\u001b[0m\n",
      "\u001b[34m[5]#011train-error:0.257067#011validation-error:0.2744\u001b[0m\n",
      "\u001b[34m[09:19:33] src/tree/updater_prune.cc:74: tree pruning end, 1 roots, 40 extra nodes, 8 pruned nodes, max_depth=5\u001b[0m\n",
      "\u001b[34m[6]#011train-error:0.251733#011validation-error:0.2721\u001b[0m\n",
      "\u001b[34m[09:19:34] src/tree/updater_prune.cc:74: tree pruning end, 1 roots, 30 extra nodes, 4 pruned nodes, max_depth=5\u001b[0m\n",
      "\u001b[34m[7]#011train-error:0.238733#011validation-error:0.2634\u001b[0m\n",
      "\u001b[34m[09:19:36] src/tree/updater_prune.cc:74: tree pruning end, 1 roots, 36 extra nodes, 2 pruned nodes, max_depth=5\u001b[0m\n",
      "\u001b[34m[8]#011train-error:0.230067#011validation-error:0.2556\u001b[0m\n",
      "\u001b[34m[09:19:37] src/tree/updater_prune.cc:74: tree pruning end, 1 roots, 30 extra nodes, 4 pruned nodes, max_depth=5\u001b[0m\n",
      "\u001b[34m[9]#011train-error:0.222733#011validation-error:0.2488\u001b[0m\n",
      "\u001b[34m[09:19:39] src/tree/updater_prune.cc:74: tree pruning end, 1 roots, 30 extra nodes, 10 pruned nodes, max_depth=5\u001b[0m\n",
      "\u001b[34m[10]#011train-error:0.2224#011validation-error:0.2455\u001b[0m\n",
      "\u001b[34m[09:19:40] src/tree/updater_prune.cc:74: tree pruning end, 1 roots, 32 extra nodes, 4 pruned nodes, max_depth=5\u001b[0m\n",
      "\u001b[34m[11]#011train-error:0.214467#011validation-error:0.237\u001b[0m\n",
      "\u001b[34m[09:19:41] src/tree/updater_prune.cc:74: tree pruning end, 1 roots, 28 extra nodes, 14 pruned nodes, max_depth=5\u001b[0m\n",
      "\u001b[34m[12]#011train-error:0.211467#011validation-error:0.2341\u001b[0m\n",
      "\u001b[34m[09:19:43] src/tree/updater_prune.cc:74: tree pruning end, 1 roots, 30 extra nodes, 8 pruned nodes, max_depth=5\u001b[0m\n",
      "\u001b[34m[13]#011train-error:0.206133#011validation-error:0.2328\u001b[0m\n",
      "\u001b[34m[09:19:44] src/tree/updater_prune.cc:74: tree pruning end, 1 roots, 26 extra nodes, 8 pruned nodes, max_depth=5\u001b[0m\n",
      "\u001b[34m[14]#011train-error:0.203267#011validation-error:0.2306\u001b[0m\n",
      "\u001b[34m[09:19:45] src/tree/updater_prune.cc:74: tree pruning end, 1 roots, 26 extra nodes, 6 pruned nodes, max_depth=5\u001b[0m\n",
      "\u001b[34m[15]#011train-error:0.199333#011validation-error:0.2269\u001b[0m\n",
      "\u001b[34m[09:19:47] src/tree/updater_prune.cc:74: tree pruning end, 1 roots, 28 extra nodes, 10 pruned nodes, max_depth=5\u001b[0m\n",
      "\u001b[34m[16]#011train-error:0.196867#011validation-error:0.2236\u001b[0m\n",
      "\u001b[34m[09:19:48] src/tree/updater_prune.cc:74: tree pruning end, 1 roots, 26 extra nodes, 12 pruned nodes, max_depth=5\u001b[0m\n",
      "\u001b[34m[17]#011train-error:0.194133#011validation-error:0.2218\u001b[0m\n",
      "\u001b[34m[09:19:49] src/tree/updater_prune.cc:74: tree pruning end, 1 roots, 26 extra nodes, 6 pruned nodes, max_depth=5\u001b[0m\n",
      "\u001b[34m[18]#011train-error:0.192333#011validation-error:0.2189\u001b[0m\n",
      "\u001b[34m[09:19:51] src/tree/updater_prune.cc:74: tree pruning end, 1 roots, 28 extra nodes, 10 pruned nodes, max_depth=5\u001b[0m\n",
      "\u001b[34m[19]#011train-error:0.1888#011validation-error:0.2162\u001b[0m\n",
      "\u001b[34m[09:19:52] src/tree/updater_prune.cc:74: tree pruning end, 1 roots, 26 extra nodes, 8 pruned nodes, max_depth=5\u001b[0m\n",
      "\u001b[34m[20]#011train-error:0.187667#011validation-error:0.2154\u001b[0m\n",
      "\u001b[34m[09:19:53] src/tree/updater_prune.cc:74: tree pruning end, 1 roots, 30 extra nodes, 8 pruned nodes, max_depth=5\u001b[0m\n",
      "\u001b[34m[21]#011train-error:0.1858#011validation-error:0.2149\u001b[0m\n",
      "\u001b[34m[09:19:55] src/tree/updater_prune.cc:74: tree pruning end, 1 roots, 30 extra nodes, 4 pruned nodes, max_depth=5\u001b[0m\n",
      "\u001b[34m[22]#011train-error:0.181667#011validation-error:0.2124\u001b[0m\n",
      "\u001b[34m[09:19:56] src/tree/updater_prune.cc:74: tree pruning end, 1 roots, 28 extra nodes, 10 pruned nodes, max_depth=5\u001b[0m\n",
      "\u001b[34m[23]#011train-error:0.179267#011validation-error:0.2075\u001b[0m\n",
      "\u001b[34m[09:19:58] src/tree/updater_prune.cc:74: tree pruning end, 1 roots, 40 extra nodes, 6 pruned nodes, max_depth=5\u001b[0m\n",
      "\u001b[34m[24]#011train-error:0.175333#011validation-error:0.2053\u001b[0m\n",
      "\u001b[34m[09:19:59] src/tree/updater_prune.cc:74: tree pruning end, 1 roots, 38 extra nodes, 16 pruned nodes, max_depth=5\u001b[0m\n",
      "\u001b[34m[25]#011train-error:0.172733#011validation-error:0.2055\u001b[0m\n",
      "\u001b[34m[09:20:00] src/tree/updater_prune.cc:74: tree pruning end, 1 roots, 32 extra nodes, 10 pruned nodes, max_depth=5\u001b[0m\n",
      "\u001b[34m[26]#011train-error:0.169867#011validation-error:0.203\u001b[0m\n",
      "\u001b[34m[09:20:02] src/tree/updater_prune.cc:74: tree pruning end, 1 roots, 40 extra nodes, 2 pruned nodes, max_depth=5\u001b[0m\n",
      "\u001b[34m[27]#011train-error:0.168133#011validation-error:0.2029\u001b[0m\n",
      "\u001b[34m[09:20:03] src/tree/updater_prune.cc:74: tree pruning end, 1 roots, 18 extra nodes, 10 pruned nodes, max_depth=5\u001b[0m\n",
      "\u001b[34m[28]#011train-error:0.168267#011validation-error:0.2033\u001b[0m\n",
      "\u001b[34m[09:20:05] src/tree/updater_prune.cc:74: tree pruning end, 1 roots, 22 extra nodes, 12 pruned nodes, max_depth=5\u001b[0m\n",
      "\u001b[34m[29]#011train-error:0.166333#011validation-error:0.201\u001b[0m\n",
      "\u001b[34m[09:20:06] src/tree/updater_prune.cc:74: tree pruning end, 1 roots, 26 extra nodes, 6 pruned nodes, max_depth=5\u001b[0m\n",
      "\u001b[34m[30]#011train-error:0.164467#011validation-error:0.2002\u001b[0m\n",
      "\u001b[34m[09:20:08] src/tree/updater_prune.cc:74: tree pruning end, 1 roots, 34 extra nodes, 6 pruned nodes, max_depth=5\u001b[0m\n",
      "\u001b[34m[31]#011train-error:0.164#011validation-error:0.196\u001b[0m\n",
      "\u001b[34m[09:20:10] src/tree/updater_prune.cc:74: tree pruning end, 1 roots, 34 extra nodes, 2 pruned nodes, max_depth=5\u001b[0m\n",
      "\u001b[34m[32]#011train-error:0.162#011validation-error:0.1948\u001b[0m\n",
      "\u001b[34m[09:20:11] src/tree/updater_prune.cc:74: tree pruning end, 1 roots, 26 extra nodes, 10 pruned nodes, max_depth=5\u001b[0m\n",
      "\u001b[34m[33]#011train-error:0.1596#011validation-error:0.1952\u001b[0m\n",
      "\u001b[34m[09:20:12] src/tree/updater_prune.cc:74: tree pruning end, 1 roots, 20 extra nodes, 8 pruned nodes, max_depth=5\u001b[0m\n",
      "\u001b[34m[34]#011train-error:0.157533#011validation-error:0.1955\u001b[0m\n",
      "\u001b[34m[09:20:14] src/tree/updater_prune.cc:74: tree pruning end, 1 roots, 18 extra nodes, 16 pruned nodes, max_depth=5\u001b[0m\n",
      "\u001b[34m[35]#011train-error:0.157#011validation-error:0.1935\u001b[0m\n",
      "\u001b[34m[09:20:15] src/tree/updater_prune.cc:74: tree pruning end, 1 roots, 16 extra nodes, 18 pruned nodes, max_depth=5\u001b[0m\n",
      "\u001b[34m[36]#011train-error:0.1556#011validation-error:0.1913\u001b[0m\n",
      "\u001b[34m[09:20:16] src/tree/updater_prune.cc:74: tree pruning end, 1 roots, 26 extra nodes, 10 pruned nodes, max_depth=5\u001b[0m\n",
      "\u001b[34m[37]#011train-error:0.154933#011validation-error:0.1916\u001b[0m\n"
     ]
    },
    {
     "name": "stdout",
     "output_type": "stream",
     "text": [
      "\u001b[34m[09:20:18] src/tree/updater_prune.cc:74: tree pruning end, 1 roots, 18 extra nodes, 4 pruned nodes, max_depth=5\u001b[0m\n",
      "\u001b[34m[38]#011train-error:0.153867#011validation-error:0.1912\u001b[0m\n",
      "\u001b[34m[09:20:19] src/tree/updater_prune.cc:74: tree pruning end, 1 roots, 32 extra nodes, 8 pruned nodes, max_depth=5\u001b[0m\n",
      "\u001b[34m[39]#011train-error:0.153067#011validation-error:0.1893\u001b[0m\n",
      "\u001b[34m[09:20:20] src/tree/updater_prune.cc:74: tree pruning end, 1 roots, 14 extra nodes, 12 pruned nodes, max_depth=5\u001b[0m\n",
      "\u001b[34m[40]#011train-error:0.151867#011validation-error:0.187\u001b[0m\n",
      "\u001b[34m[09:20:22] src/tree/updater_prune.cc:74: tree pruning end, 1 roots, 32 extra nodes, 6 pruned nodes, max_depth=5\u001b[0m\n",
      "\u001b[34m[41]#011train-error:0.149867#011validation-error:0.1864\u001b[0m\n",
      "\u001b[34m[09:20:23] src/tree/updater_prune.cc:74: tree pruning end, 1 roots, 36 extra nodes, 6 pruned nodes, max_depth=5\u001b[0m\n",
      "\u001b[34m[42]#011train-error:0.148867#011validation-error:0.1877\u001b[0m\n",
      "\u001b[34m[09:20:24] src/tree/updater_prune.cc:74: tree pruning end, 1 roots, 54 extra nodes, 0 pruned nodes, max_depth=5\u001b[0m\n",
      "\u001b[34m[43]#011train-error:0.1458#011validation-error:0.1856\u001b[0m\n",
      "\u001b[34m[09:20:26] src/tree/updater_prune.cc:74: tree pruning end, 1 roots, 26 extra nodes, 10 pruned nodes, max_depth=5\u001b[0m\n",
      "\u001b[34m[44]#011train-error:0.144#011validation-error:0.1847\u001b[0m\n",
      "\u001b[34m[09:20:27] src/tree/updater_prune.cc:74: tree pruning end, 1 roots, 14 extra nodes, 14 pruned nodes, max_depth=5\u001b[0m\n",
      "\u001b[34m[45]#011train-error:0.143467#011validation-error:0.184\u001b[0m\n",
      "\u001b[34m[09:20:28] src/tree/updater_prune.cc:74: tree pruning end, 1 roots, 16 extra nodes, 10 pruned nodes, max_depth=5\u001b[0m\n",
      "\u001b[34m[46]#011train-error:0.142667#011validation-error:0.184\u001b[0m\n",
      "\u001b[34m[09:20:30] src/tree/updater_prune.cc:74: tree pruning end, 1 roots, 34 extra nodes, 4 pruned nodes, max_depth=5\u001b[0m\n",
      "\u001b[34m[47]#011train-error:0.141733#011validation-error:0.1828\u001b[0m\n",
      "\u001b[34m[09:20:31] src/tree/updater_prune.cc:74: tree pruning end, 1 roots, 16 extra nodes, 10 pruned nodes, max_depth=5\u001b[0m\n",
      "\u001b[34m[48]#011train-error:0.1412#011validation-error:0.1821\u001b[0m\n",
      "\u001b[34m[09:20:32] src/tree/updater_prune.cc:74: tree pruning end, 1 roots, 32 extra nodes, 10 pruned nodes, max_depth=5\u001b[0m\n",
      "\u001b[34m[49]#011train-error:0.139733#011validation-error:0.1817\u001b[0m\n",
      "\u001b[34m[09:20:34] src/tree/updater_prune.cc:74: tree pruning end, 1 roots, 30 extra nodes, 4 pruned nodes, max_depth=5\u001b[0m\n",
      "\u001b[34m[50]#011train-error:0.139733#011validation-error:0.1814\u001b[0m\n",
      "\u001b[34m[09:20:35] src/tree/updater_prune.cc:74: tree pruning end, 1 roots, 26 extra nodes, 8 pruned nodes, max_depth=5\u001b[0m\n",
      "\u001b[34m[51]#011train-error:0.138133#011validation-error:0.1807\u001b[0m\n",
      "\u001b[34m[09:20:37] src/tree/updater_prune.cc:74: tree pruning end, 1 roots, 32 extra nodes, 8 pruned nodes, max_depth=5\u001b[0m\n",
      "\u001b[34m[52]#011train-error:0.137067#011validation-error:0.1796\u001b[0m\n",
      "\u001b[34m[09:20:38] src/tree/updater_prune.cc:74: tree pruning end, 1 roots, 34 extra nodes, 4 pruned nodes, max_depth=5\u001b[0m\n",
      "\u001b[34m[53]#011train-error:0.1364#011validation-error:0.1773\u001b[0m\n",
      "\u001b[34m[09:20:39] src/tree/updater_prune.cc:74: tree pruning end, 1 roots, 18 extra nodes, 4 pruned nodes, max_depth=5\u001b[0m\n",
      "\u001b[34m[54]#011train-error:0.1348#011validation-error:0.1775\u001b[0m\n",
      "\u001b[34m[09:20:41] src/tree/updater_prune.cc:74: tree pruning end, 1 roots, 20 extra nodes, 16 pruned nodes, max_depth=5\u001b[0m\n",
      "\u001b[34m[55]#011train-error:0.1346#011validation-error:0.1775\u001b[0m\n",
      "\u001b[34m[09:20:42] src/tree/updater_prune.cc:74: tree pruning end, 1 roots, 20 extra nodes, 14 pruned nodes, max_depth=5\u001b[0m\n",
      "\u001b[34m[56]#011train-error:0.1336#011validation-error:0.1772\u001b[0m\n",
      "\u001b[34m[09:20:43] src/tree/updater_prune.cc:74: tree pruning end, 1 roots, 20 extra nodes, 8 pruned nodes, max_depth=5\u001b[0m\n",
      "\u001b[34m[57]#011train-error:0.1318#011validation-error:0.1769\u001b[0m\n",
      "\u001b[34m[09:20:45] src/tree/updater_prune.cc:74: tree pruning end, 1 roots, 32 extra nodes, 10 pruned nodes, max_depth=5\u001b[0m\n",
      "\u001b[34m[58]#011train-error:0.1312#011validation-error:0.177\u001b[0m\n",
      "\u001b[34m[09:20:46] src/tree/updater_prune.cc:74: tree pruning end, 1 roots, 14 extra nodes, 6 pruned nodes, max_depth=5\u001b[0m\n",
      "\u001b[34m[59]#011train-error:0.130733#011validation-error:0.1749\u001b[0m\n",
      "\u001b[34m[09:20:47] src/tree/updater_prune.cc:74: tree pruning end, 1 roots, 20 extra nodes, 4 pruned nodes, max_depth=5\u001b[0m\n",
      "\u001b[34m[60]#011train-error:0.128733#011validation-error:0.1748\u001b[0m\n",
      "\u001b[34m[09:20:49] src/tree/updater_prune.cc:74: tree pruning end, 1 roots, 20 extra nodes, 12 pruned nodes, max_depth=5\u001b[0m\n",
      "\u001b[34m[61]#011train-error:0.128467#011validation-error:0.1746\u001b[0m\n",
      "\u001b[34m[09:20:50] src/tree/updater_prune.cc:74: tree pruning end, 1 roots, 18 extra nodes, 8 pruned nodes, max_depth=5\u001b[0m\n",
      "\u001b[34m[62]#011train-error:0.1276#011validation-error:0.174\u001b[0m\n",
      "\u001b[34m[09:20:52] src/tree/updater_prune.cc:74: tree pruning end, 1 roots, 16 extra nodes, 12 pruned nodes, max_depth=5\u001b[0m\n",
      "\u001b[34m[63]#011train-error:0.126067#011validation-error:0.1735\u001b[0m\n",
      "\u001b[34m[09:20:53] src/tree/updater_prune.cc:74: tree pruning end, 1 roots, 20 extra nodes, 8 pruned nodes, max_depth=5\u001b[0m\n",
      "\u001b[34m[64]#011train-error:0.124933#011validation-error:0.1726\u001b[0m\n",
      "\u001b[34m[09:20:54] src/tree/updater_prune.cc:74: tree pruning end, 1 roots, 16 extra nodes, 8 pruned nodes, max_depth=5\u001b[0m\n",
      "\u001b[34m[65]#011train-error:0.124333#011validation-error:0.1727\u001b[0m\n",
      "\u001b[34m[09:20:56] src/tree/updater_prune.cc:74: tree pruning end, 1 roots, 12 extra nodes, 8 pruned nodes, max_depth=5\u001b[0m\n",
      "\u001b[34m[66]#011train-error:0.123667#011validation-error:0.1706\u001b[0m\n",
      "\u001b[34m[09:20:57] src/tree/updater_prune.cc:74: tree pruning end, 1 roots, 10 extra nodes, 10 pruned nodes, max_depth=5\u001b[0m\n",
      "\u001b[34m[67]#011train-error:0.122533#011validation-error:0.1705\u001b[0m\n",
      "\u001b[34m[09:20:58] src/tree/updater_prune.cc:74: tree pruning end, 1 roots, 12 extra nodes, 6 pruned nodes, max_depth=5\u001b[0m\n",
      "\u001b[34m[68]#011train-error:0.1218#011validation-error:0.1707\u001b[0m\n",
      "\u001b[34m[09:21:00] src/tree/updater_prune.cc:74: tree pruning end, 1 roots, 14 extra nodes, 16 pruned nodes, max_depth=5\u001b[0m\n",
      "\u001b[34m[69]#011train-error:0.1208#011validation-error:0.1697\u001b[0m\n",
      "\u001b[34m[09:21:01] src/tree/updater_prune.cc:74: tree pruning end, 1 roots, 18 extra nodes, 6 pruned nodes, max_depth=5\u001b[0m\n",
      "\u001b[34m[70]#011train-error:0.120533#011validation-error:0.1686\u001b[0m\n",
      "\u001b[34m[09:21:02] src/tree/updater_prune.cc:74: tree pruning end, 1 roots, 14 extra nodes, 8 pruned nodes, max_depth=5\u001b[0m\n",
      "\u001b[34m[71]#011train-error:0.121067#011validation-error:0.1686\u001b[0m\n",
      "\u001b[34m[09:21:04] src/tree/updater_prune.cc:74: tree pruning end, 1 roots, 12 extra nodes, 10 pruned nodes, max_depth=5\u001b[0m\n",
      "\u001b[34m[72]#011train-error:0.120133#011validation-error:0.1677\u001b[0m\n",
      "\u001b[34m[09:21:05] src/tree/updater_prune.cc:74: tree pruning end, 1 roots, 40 extra nodes, 12 pruned nodes, max_depth=5\u001b[0m\n",
      "\u001b[34m[73]#011train-error:0.119#011validation-error:0.1661\u001b[0m\n",
      "\u001b[34m[09:21:07] src/tree/updater_prune.cc:74: tree pruning end, 1 roots, 10 extra nodes, 10 pruned nodes, max_depth=5\u001b[0m\n",
      "\u001b[34m[74]#011train-error:0.118467#011validation-error:0.1652\u001b[0m\n",
      "\u001b[34m[09:21:09] src/tree/updater_prune.cc:74: tree pruning end, 1 roots, 14 extra nodes, 12 pruned nodes, max_depth=5\u001b[0m\n",
      "\u001b[34m[75]#011train-error:0.118#011validation-error:0.1646\u001b[0m\n",
      "\u001b[34m[09:21:10] src/tree/updater_prune.cc:74: tree pruning end, 1 roots, 20 extra nodes, 10 pruned nodes, max_depth=5\u001b[0m\n",
      "\u001b[34m[76]#011train-error:0.117533#011validation-error:0.1648\u001b[0m\n",
      "\u001b[34m[09:21:12] src/tree/updater_prune.cc:74: tree pruning end, 1 roots, 24 extra nodes, 6 pruned nodes, max_depth=5\u001b[0m\n",
      "\u001b[34m[77]#011train-error:0.117#011validation-error:0.1642\u001b[0m\n",
      "\u001b[34m[09:21:13] src/tree/updater_prune.cc:74: tree pruning end, 1 roots, 16 extra nodes, 6 pruned nodes, max_depth=5\u001b[0m\n",
      "\u001b[34m[78]#011train-error:0.1158#011validation-error:0.1637\u001b[0m\n",
      "\u001b[34m[09:21:14] src/tree/updater_prune.cc:74: tree pruning end, 1 roots, 20 extra nodes, 14 pruned nodes, max_depth=5\u001b[0m\n",
      "\u001b[34m[79]#011train-error:0.115467#011validation-error:0.1633\u001b[0m\n",
      "\u001b[34m[09:21:16] src/tree/updater_prune.cc:74: tree pruning end, 1 roots, 18 extra nodes, 8 pruned nodes, max_depth=5\u001b[0m\n",
      "\u001b[34m[80]#011train-error:0.1148#011validation-error:0.1632\u001b[0m\n",
      "\u001b[34m[09:21:17] src/tree/updater_prune.cc:74: tree pruning end, 1 roots, 16 extra nodes, 8 pruned nodes, max_depth=5\u001b[0m\n",
      "\u001b[34m[81]#011train-error:0.114267#011validation-error:0.1627\u001b[0m\n",
      "\u001b[34m[09:21:18] src/tree/updater_prune.cc:74: tree pruning end, 1 roots, 14 extra nodes, 4 pruned nodes, max_depth=5\u001b[0m\n",
      "\u001b[34m[82]#011train-error:0.114133#011validation-error:0.1612\u001b[0m\n",
      "\u001b[34m[09:21:20] src/tree/updater_prune.cc:74: tree pruning end, 1 roots, 26 extra nodes, 4 pruned nodes, max_depth=5\u001b[0m\n",
      "\u001b[34m[83]#011train-error:0.1126#011validation-error:0.1603\u001b[0m\n",
      "\u001b[34m[09:21:21] src/tree/updater_prune.cc:74: tree pruning end, 1 roots, 16 extra nodes, 4 pruned nodes, max_depth=5\u001b[0m\n",
      "\u001b[34m[84]#011train-error:0.110933#011validation-error:0.1593\u001b[0m\n",
      "\u001b[34m[09:21:22] src/tree/updater_prune.cc:74: tree pruning end, 1 roots, 16 extra nodes, 4 pruned nodes, max_depth=5\u001b[0m\n",
      "\u001b[34m[85]#011train-error:0.1106#011validation-error:0.1588\u001b[0m\n",
      "\u001b[34m[09:21:24] src/tree/updater_prune.cc:74: tree pruning end, 1 roots, 22 extra nodes, 8 pruned nodes, max_depth=5\u001b[0m\n",
      "\u001b[34m[86]#011train-error:0.1108#011validation-error:0.1586\u001b[0m\n"
     ]
    },
    {
     "name": "stdout",
     "output_type": "stream",
     "text": [
      "\u001b[34m[09:21:25] src/tree/updater_prune.cc:74: tree pruning end, 1 roots, 20 extra nodes, 4 pruned nodes, max_depth=5\u001b[0m\n",
      "\u001b[34m[87]#011train-error:0.110067#011validation-error:0.1583\u001b[0m\n",
      "\u001b[34m[09:21:26] src/tree/updater_prune.cc:74: tree pruning end, 1 roots, 16 extra nodes, 10 pruned nodes, max_depth=5\u001b[0m\n",
      "\u001b[34m[88]#011train-error:0.109467#011validation-error:0.1588\u001b[0m\n",
      "\u001b[34m[09:21:28] src/tree/updater_prune.cc:74: tree pruning end, 1 roots, 34 extra nodes, 8 pruned nodes, max_depth=5\u001b[0m\n",
      "\u001b[34m[89]#011train-error:0.108733#011validation-error:0.1592\u001b[0m\n",
      "\u001b[34m[09:21:29] src/tree/updater_prune.cc:74: tree pruning end, 1 roots, 14 extra nodes, 10 pruned nodes, max_depth=5\u001b[0m\n",
      "\u001b[34m[90]#011train-error:0.108067#011validation-error:0.1572\u001b[0m\n",
      "\u001b[34m[09:21:31] src/tree/updater_prune.cc:74: tree pruning end, 1 roots, 32 extra nodes, 10 pruned nodes, max_depth=5\u001b[0m\n",
      "\u001b[34m[91]#011train-error:0.1074#011validation-error:0.1566\u001b[0m\n",
      "\u001b[34m[09:21:32] src/tree/updater_prune.cc:74: tree pruning end, 1 roots, 12 extra nodes, 6 pruned nodes, max_depth=5\u001b[0m\n",
      "\u001b[34m[92]#011train-error:0.106867#011validation-error:0.1561\u001b[0m\n",
      "\u001b[34m[09:21:33] src/tree/updater_prune.cc:74: tree pruning end, 1 roots, 24 extra nodes, 10 pruned nodes, max_depth=5\u001b[0m\n",
      "\u001b[34m[93]#011train-error:0.105733#011validation-error:0.1549\u001b[0m\n",
      "\u001b[34m[09:21:35] src/tree/updater_prune.cc:74: tree pruning end, 1 roots, 16 extra nodes, 10 pruned nodes, max_depth=5\u001b[0m\n",
      "\u001b[34m[94]#011train-error:0.105533#011validation-error:0.1546\u001b[0m\n",
      "\u001b[34m[09:21:36] src/tree/updater_prune.cc:74: tree pruning end, 1 roots, 24 extra nodes, 12 pruned nodes, max_depth=5\u001b[0m\n",
      "\u001b[34m[95]#011train-error:0.105533#011validation-error:0.1541\u001b[0m\n",
      "\u001b[34m[09:21:37] src/tree/updater_prune.cc:74: tree pruning end, 1 roots, 22 extra nodes, 18 pruned nodes, max_depth=5\u001b[0m\n",
      "\u001b[34m[96]#011train-error:0.105533#011validation-error:0.1543\u001b[0m\n",
      "\u001b[34m[09:21:39] src/tree/updater_prune.cc:74: tree pruning end, 1 roots, 28 extra nodes, 8 pruned nodes, max_depth=5\u001b[0m\n",
      "\u001b[34m[97]#011train-error:0.1046#011validation-error:0.154\u001b[0m\n",
      "\u001b[34m[09:21:40] src/tree/updater_prune.cc:74: tree pruning end, 1 roots, 10 extra nodes, 16 pruned nodes, max_depth=5\u001b[0m\n",
      "\u001b[34m[98]#011train-error:0.104467#011validation-error:0.154\u001b[0m\n",
      "\u001b[34m[09:21:41] src/tree/updater_prune.cc:74: tree pruning end, 1 roots, 18 extra nodes, 12 pruned nodes, max_depth=5\u001b[0m\n",
      "\u001b[34m[99]#011train-error:0.103533#011validation-error:0.1539\u001b[0m\n",
      "\u001b[34m[09:21:43] src/tree/updater_prune.cc:74: tree pruning end, 1 roots, 16 extra nodes, 2 pruned nodes, max_depth=5\u001b[0m\n",
      "\u001b[34m[100]#011train-error:0.103467#011validation-error:0.1536\u001b[0m\n",
      "\u001b[34m[09:21:44] src/tree/updater_prune.cc:74: tree pruning end, 1 roots, 18 extra nodes, 12 pruned nodes, max_depth=5\u001b[0m\n",
      "\u001b[34m[101]#011train-error:0.1034#011validation-error:0.1538\u001b[0m\n",
      "\u001b[34m[09:21:46] src/tree/updater_prune.cc:74: tree pruning end, 1 roots, 12 extra nodes, 6 pruned nodes, max_depth=5\u001b[0m\n",
      "\u001b[34m[102]#011train-error:0.103#011validation-error:0.1536\u001b[0m\n",
      "\u001b[34m[09:21:47] src/tree/updater_prune.cc:74: tree pruning end, 1 roots, 16 extra nodes, 2 pruned nodes, max_depth=5\u001b[0m\n",
      "\u001b[34m[103]#011train-error:0.102867#011validation-error:0.1532\u001b[0m\n",
      "\u001b[34m[09:21:48] src/tree/updater_prune.cc:74: tree pruning end, 1 roots, 16 extra nodes, 10 pruned nodes, max_depth=5\u001b[0m\n",
      "\u001b[34m[104]#011train-error:0.102#011validation-error:0.1527\u001b[0m\n",
      "\u001b[34m[09:21:50] src/tree/updater_prune.cc:74: tree pruning end, 1 roots, 46 extra nodes, 4 pruned nodes, max_depth=5\u001b[0m\n",
      "\u001b[34m[105]#011train-error:0.100267#011validation-error:0.1523\u001b[0m\n",
      "\u001b[34m[09:21:51] src/tree/updater_prune.cc:74: tree pruning end, 1 roots, 14 extra nodes, 6 pruned nodes, max_depth=5\u001b[0m\n",
      "\u001b[34m[106]#011train-error:0.099467#011validation-error:0.1522\u001b[0m\n",
      "\u001b[34m[09:21:52] src/tree/updater_prune.cc:74: tree pruning end, 1 roots, 34 extra nodes, 10 pruned nodes, max_depth=5\u001b[0m\n",
      "\u001b[34m[107]#011train-error:0.098333#011validation-error:0.152\u001b[0m\n",
      "\u001b[34m[09:21:54] src/tree/updater_prune.cc:74: tree pruning end, 1 roots, 22 extra nodes, 4 pruned nodes, max_depth=5\u001b[0m\n",
      "\u001b[34m[108]#011train-error:0.098267#011validation-error:0.1528\u001b[0m\n",
      "\u001b[34m[09:21:55] src/tree/updater_prune.cc:74: tree pruning end, 1 roots, 30 extra nodes, 10 pruned nodes, max_depth=5\u001b[0m\n",
      "\u001b[34m[109]#011train-error:0.097933#011validation-error:0.1531\u001b[0m\n",
      "\u001b[34m[09:21:56] src/tree/updater_prune.cc:74: tree pruning end, 1 roots, 12 extra nodes, 8 pruned nodes, max_depth=5\u001b[0m\n",
      "\u001b[34m[110]#011train-error:0.097933#011validation-error:0.1541\u001b[0m\n",
      "\u001b[34m[09:21:58] src/tree/updater_prune.cc:74: tree pruning end, 1 roots, 26 extra nodes, 12 pruned nodes, max_depth=5\u001b[0m\n",
      "\u001b[34m[111]#011train-error:0.097067#011validation-error:0.1536\u001b[0m\n",
      "\u001b[34m[09:21:59] src/tree/updater_prune.cc:74: tree pruning end, 1 roots, 20 extra nodes, 12 pruned nodes, max_depth=5\u001b[0m\n",
      "\u001b[34m[112]#011train-error:0.096333#011validation-error:0.1529\u001b[0m\n",
      "\u001b[34m[09:22:00] src/tree/updater_prune.cc:74: tree pruning end, 1 roots, 14 extra nodes, 12 pruned nodes, max_depth=5\u001b[0m\n",
      "\u001b[34m[113]#011train-error:0.0954#011validation-error:0.1516\u001b[0m\n",
      "\u001b[34m[09:22:02] src/tree/updater_prune.cc:74: tree pruning end, 1 roots, 12 extra nodes, 4 pruned nodes, max_depth=5\u001b[0m\n",
      "\u001b[34m[114]#011train-error:0.095133#011validation-error:0.1512\u001b[0m\n",
      "\u001b[34m[09:22:03] src/tree/updater_prune.cc:74: tree pruning end, 1 roots, 14 extra nodes, 10 pruned nodes, max_depth=5\u001b[0m\n",
      "\u001b[34m[115]#011train-error:0.094867#011validation-error:0.1507\u001b[0m\n",
      "\u001b[34m[09:22:05] src/tree/updater_prune.cc:74: tree pruning end, 1 roots, 20 extra nodes, 14 pruned nodes, max_depth=5\u001b[0m\n",
      "\u001b[34m[116]#011train-error:0.094#011validation-error:0.1518\u001b[0m\n",
      "\u001b[34m[09:22:07] src/tree/updater_prune.cc:74: tree pruning end, 1 roots, 18 extra nodes, 2 pruned nodes, max_depth=5\u001b[0m\n",
      "\u001b[34m[117]#011train-error:0.093467#011validation-error:0.1515\u001b[0m\n",
      "\u001b[34m[09:22:08] src/tree/updater_prune.cc:74: tree pruning end, 1 roots, 18 extra nodes, 6 pruned nodes, max_depth=5\u001b[0m\n",
      "\u001b[34m[118]#011train-error:0.093067#011validation-error:0.1509\u001b[0m\n",
      "\u001b[34m[09:22:10] src/tree/updater_prune.cc:74: tree pruning end, 1 roots, 26 extra nodes, 16 pruned nodes, max_depth=5\u001b[0m\n",
      "\u001b[34m[119]#011train-error:0.0928#011validation-error:0.1513\u001b[0m\n",
      "\u001b[34m[09:22:11] src/tree/updater_prune.cc:74: tree pruning end, 1 roots, 10 extra nodes, 10 pruned nodes, max_depth=5\u001b[0m\n",
      "\u001b[34m[120]#011train-error:0.092333#011validation-error:0.1511\u001b[0m\n",
      "\u001b[34m[09:22:12] src/tree/updater_prune.cc:74: tree pruning end, 1 roots, 10 extra nodes, 0 pruned nodes, max_depth=5\u001b[0m\n",
      "\u001b[34m[121]#011train-error:0.091933#011validation-error:0.1511\u001b[0m\n",
      "\u001b[34m[09:22:14] src/tree/updater_prune.cc:74: tree pruning end, 1 roots, 18 extra nodes, 10 pruned nodes, max_depth=5\u001b[0m\n",
      "\u001b[34m[122]#011train-error:0.092067#011validation-error:0.1501\u001b[0m\n",
      "\u001b[34m[09:22:15] src/tree/updater_prune.cc:74: tree pruning end, 1 roots, 10 extra nodes, 4 pruned nodes, max_depth=5\u001b[0m\n",
      "\u001b[34m[123]#011train-error:0.091933#011validation-error:0.1497\u001b[0m\n",
      "\u001b[34m[09:22:17] src/tree/updater_prune.cc:74: tree pruning end, 1 roots, 16 extra nodes, 4 pruned nodes, max_depth=5\u001b[0m\n",
      "\u001b[34m[124]#011train-error:0.091533#011validation-error:0.1491\u001b[0m\n",
      "\u001b[34m[09:22:18] src/tree/updater_prune.cc:74: tree pruning end, 1 roots, 16 extra nodes, 4 pruned nodes, max_depth=5\u001b[0m\n",
      "\u001b[34m[125]#011train-error:0.0908#011validation-error:0.1492\u001b[0m\n",
      "\u001b[34m[09:22:19] src/tree/updater_prune.cc:74: tree pruning end, 1 roots, 18 extra nodes, 18 pruned nodes, max_depth=5\u001b[0m\n",
      "\u001b[34m[126]#011train-error:0.0904#011validation-error:0.1489\u001b[0m\n",
      "\u001b[34m[09:22:21] src/tree/updater_prune.cc:74: tree pruning end, 1 roots, 12 extra nodes, 6 pruned nodes, max_depth=5\u001b[0m\n",
      "\u001b[34m[127]#011train-error:0.0902#011validation-error:0.1482\u001b[0m\n",
      "\u001b[34m[09:22:22] src/tree/updater_prune.cc:74: tree pruning end, 1 roots, 20 extra nodes, 6 pruned nodes, max_depth=5\u001b[0m\n",
      "\u001b[34m[128]#011train-error:0.089867#011validation-error:0.1484\u001b[0m\n",
      "\u001b[34m[09:22:23] src/tree/updater_prune.cc:74: tree pruning end, 1 roots, 18 extra nodes, 18 pruned nodes, max_depth=5\u001b[0m\n",
      "\u001b[34m[129]#011train-error:0.089#011validation-error:0.1479\u001b[0m\n",
      "\u001b[34m[09:22:25] src/tree/updater_prune.cc:74: tree pruning end, 1 roots, 30 extra nodes, 6 pruned nodes, max_depth=5\u001b[0m\n",
      "\u001b[34m[130]#011train-error:0.0878#011validation-error:0.145\u001b[0m\n",
      "\u001b[34m[09:22:26] src/tree/updater_prune.cc:74: tree pruning end, 1 roots, 18 extra nodes, 16 pruned nodes, max_depth=5\u001b[0m\n",
      "\u001b[34m[131]#011train-error:0.087733#011validation-error:0.145\u001b[0m\n"
     ]
    },
    {
     "name": "stdout",
     "output_type": "stream",
     "text": [
      "\u001b[34m[09:22:27] src/tree/updater_prune.cc:74: tree pruning end, 1 roots, 10 extra nodes, 6 pruned nodes, max_depth=5\u001b[0m\n",
      "\u001b[34m[132]#011train-error:0.087333#011validation-error:0.145\u001b[0m\n",
      "\u001b[34m[09:22:29] src/tree/updater_prune.cc:74: tree pruning end, 1 roots, 14 extra nodes, 2 pruned nodes, max_depth=5\u001b[0m\n",
      "\u001b[34m[133]#011train-error:0.087133#011validation-error:0.1445\u001b[0m\n",
      "\u001b[34m[09:22:30] src/tree/updater_prune.cc:74: tree pruning end, 1 roots, 16 extra nodes, 6 pruned nodes, max_depth=5\u001b[0m\n",
      "\u001b[34m[134]#011train-error:0.087#011validation-error:0.1446\u001b[0m\n",
      "\u001b[34m[09:22:31] src/tree/updater_prune.cc:74: tree pruning end, 1 roots, 18 extra nodes, 8 pruned nodes, max_depth=5\u001b[0m\n",
      "\u001b[34m[135]#011train-error:0.0868#011validation-error:0.1437\u001b[0m\n",
      "\u001b[34m[09:22:33] src/tree/updater_prune.cc:74: tree pruning end, 1 roots, 18 extra nodes, 4 pruned nodes, max_depth=5\u001b[0m\n",
      "\u001b[34m[136]#011train-error:0.087467#011validation-error:0.1442\u001b[0m\n",
      "\u001b[34m[09:22:34] src/tree/updater_prune.cc:74: tree pruning end, 1 roots, 20 extra nodes, 10 pruned nodes, max_depth=5\u001b[0m\n",
      "\u001b[34m[137]#011train-error:0.085933#011validation-error:0.1431\u001b[0m\n",
      "\u001b[34m[09:22:35] src/tree/updater_prune.cc:74: tree pruning end, 1 roots, 10 extra nodes, 4 pruned nodes, max_depth=5\u001b[0m\n",
      "\u001b[34m[138]#011train-error:0.086067#011validation-error:0.1438\u001b[0m\n",
      "\u001b[34m[09:22:37] src/tree/updater_prune.cc:74: tree pruning end, 1 roots, 16 extra nodes, 0 pruned nodes, max_depth=5\u001b[0m\n",
      "\u001b[34m[139]#011train-error:0.085467#011validation-error:0.1432\u001b[0m\n",
      "\u001b[34m[09:22:38] src/tree/updater_prune.cc:74: tree pruning end, 1 roots, 12 extra nodes, 0 pruned nodes, max_depth=5\u001b[0m\n",
      "\u001b[34m[140]#011train-error:0.085333#011validation-error:0.1428\u001b[0m\n",
      "\u001b[34m[09:22:39] src/tree/updater_prune.cc:74: tree pruning end, 1 roots, 14 extra nodes, 4 pruned nodes, max_depth=5\u001b[0m\n",
      "\u001b[34m[141]#011train-error:0.0848#011validation-error:0.143\u001b[0m\n",
      "\u001b[34m[09:22:41] src/tree/updater_prune.cc:74: tree pruning end, 1 roots, 20 extra nodes, 8 pruned nodes, max_depth=5\u001b[0m\n",
      "\u001b[34m[142]#011train-error:0.084533#011validation-error:0.1442\u001b[0m\n",
      "\u001b[34m[09:22:42] src/tree/updater_prune.cc:74: tree pruning end, 1 roots, 22 extra nodes, 10 pruned nodes, max_depth=5\u001b[0m\n",
      "\u001b[34m[143]#011train-error:0.083933#011validation-error:0.1442\u001b[0m\n",
      "\u001b[34m[09:22:44] src/tree/updater_prune.cc:74: tree pruning end, 1 roots, 10 extra nodes, 4 pruned nodes, max_depth=5\u001b[0m\n",
      "\u001b[34m[144]#011train-error:0.083733#011validation-error:0.1442\u001b[0m\n",
      "\u001b[34m[09:22:45] src/tree/updater_prune.cc:74: tree pruning end, 1 roots, 12 extra nodes, 4 pruned nodes, max_depth=5\u001b[0m\n",
      "\u001b[34m[145]#011train-error:0.083733#011validation-error:0.1437\u001b[0m\n",
      "\u001b[34m[09:22:46] src/tree/updater_prune.cc:74: tree pruning end, 1 roots, 16 extra nodes, 4 pruned nodes, max_depth=5\u001b[0m\n",
      "\u001b[34m[146]#011train-error:0.0836#011validation-error:0.1434\u001b[0m\n",
      "\n",
      "2021-05-05 09:22:57 Uploading - Uploading generated training model\u001b[34m[09:22:48] src/tree/updater_prune.cc:74: tree pruning end, 1 roots, 20 extra nodes, 6 pruned nodes, max_depth=5\u001b[0m\n",
      "\u001b[34m[147]#011train-error:0.083733#011validation-error:0.1431\u001b[0m\n",
      "\u001b[34m[09:22:49] src/tree/updater_prune.cc:74: tree pruning end, 1 roots, 14 extra nodes, 8 pruned nodes, max_depth=5\u001b[0m\n",
      "\u001b[34m[148]#011train-error:0.083333#011validation-error:0.1429\u001b[0m\n",
      "\u001b[34m[09:22:50] src/tree/updater_prune.cc:74: tree pruning end, 1 roots, 20 extra nodes, 20 pruned nodes, max_depth=5\u001b[0m\n",
      "\u001b[34m[149]#011train-error:0.082933#011validation-error:0.1433\u001b[0m\n",
      "\u001b[34m[09:22:52] src/tree/updater_prune.cc:74: tree pruning end, 1 roots, 14 extra nodes, 8 pruned nodes, max_depth=5\u001b[0m\n",
      "\u001b[34m[150]#011train-error:0.082333#011validation-error:0.1429\u001b[0m\n",
      "\u001b[34mStopping. Best iteration:\u001b[0m\n",
      "\u001b[34m[140]#011train-error:0.085333#011validation-error:0.1428\n",
      "\u001b[0m\n",
      "\n",
      "2021-05-05 09:23:04 Completed - Training job completed\n",
      "Training seconds: 262\n",
      "Billable seconds: 262\n"
     ]
    }
   ],
   "source": [
    "xgb.fit({'train': s3_input_train, 'validation': s3_input_validation})"
   ]
  },
  {
   "cell_type": "markdown",
   "metadata": {},
   "source": [
    "## Step 5: Testing the model\n",
    "\n",
    "Now that we've fit our XGBoost model, it's time to see how well it performs. To do this we will use SageMakers Batch Transform functionality. Batch Transform is a convenient way to perform inference on a large dataset in a way that is not realtime. That is, we don't necessarily need to use our model's results immediately and instead we can perform inference on a large number of samples. An example of this in industry might be performing an end of month report. This method of inference can also be useful to us as it means that we can perform inference on our entire test set. \n",
    "\n",
    "To perform a Batch Transformation we need to first create a transformer objects from our trained estimator object."
   ]
  },
  {
   "cell_type": "code",
   "execution_count": 25,
   "metadata": {},
   "outputs": [
    {
     "name": "stderr",
     "output_type": "stream",
     "text": [
      "Parameter image will be renamed to image_uri in SageMaker Python SDK v2.\n"
     ]
    }
   ],
   "source": [
    "xgb_transformer = xgb.transformer(instance_count = 1, instance_type = 'ml.m4.xlarge')"
   ]
  },
  {
   "cell_type": "markdown",
   "metadata": {},
   "source": [
    "Next we actually perform the transform job. When doing so we need to make sure to specify the type of data we are sending so that it is serialized correctly in the background. In our case we are providing our model with csv data so we specify `text/csv`. Also, if the test data that we have provided is too large to process all at once then we need to specify how the data file should be split up. Since each line is a single entry in our data set we tell SageMaker that it can split the input on each line."
   ]
  },
  {
   "cell_type": "code",
   "execution_count": 26,
   "metadata": {},
   "outputs": [],
   "source": [
    "xgb_transformer.transform(test_location, content_type='text/csv', split_type='Line')"
   ]
  },
  {
   "cell_type": "markdown",
   "metadata": {},
   "source": [
    "Currently the transform job is running but it is doing so in the background. Since we wish to wait until the transform job is done and we would like a bit of feedback we can run the `wait()` method."
   ]
  },
  {
   "cell_type": "code",
   "execution_count": 27,
   "metadata": {},
   "outputs": [
    {
     "name": "stdout",
     "output_type": "stream",
     "text": [
      ".............................\u001b[34mArguments: serve\u001b[0m\n",
      "\u001b[34m[2021-05-05 09:28:19 +0000] [1] [INFO] Starting gunicorn 19.9.0\u001b[0m\n",
      "\u001b[34m[2021-05-05 09:28:19 +0000] [1] [INFO] Listening at: http://0.0.0.0:8080 (1)\u001b[0m\n",
      "\u001b[34m[2021-05-05 09:28:19 +0000] [1] [INFO] Using worker: gevent\u001b[0m\n",
      "\u001b[34m[2021-05-05 09:28:19 +0000] [20] [INFO] Booting worker with pid: 20\u001b[0m\n",
      "\u001b[34m[2021-05-05 09:28:19 +0000] [21] [INFO] Booting worker with pid: 21\u001b[0m\n",
      "\u001b[34m/opt/amazon/lib/python3.7/site-packages/gunicorn/workers/ggevent.py:65: MonkeyPatchWarning: Monkey-patching ssl after ssl has already been imported may lead to errors, including RecursionError on Python 3.6. It may also silently lead to incorrect behaviour on Python 3.7. Please monkey-patch earlier. See https://github.com/gevent/gevent/issues/1016. Modules that had direct imports (NOT patched): ['urllib3.util.ssl_ (/opt/amazon/lib/python3.7/site-packages/urllib3/util/ssl_.py)', 'urllib3.util (/opt/amazon/lib/python3.7/site-packages/urllib3/util/__init__.py)']. \n",
      "  monkey.patch_all(subprocess=True)\u001b[0m\n",
      "\u001b[34m[2021-05-05:09:28:19:INFO] Model loaded successfully for worker : 20\u001b[0m\n",
      "\u001b[34m[2021-05-05 09:28:19 +0000] [22] [INFO] Booting worker with pid: 22\u001b[0m\n",
      "\u001b[34m[2021-05-05 09:28:19 +0000] [23] [INFO] Booting worker with pid: 23\u001b[0m\n",
      "\u001b[34m/opt/amazon/lib/python3.7/site-packages/gunicorn/workers/ggevent.py:65: MonkeyPatchWarning: Monkey-patching ssl after ssl has already been imported may lead to errors, including RecursionError on Python 3.6. It may also silently lead to incorrect behaviour on Python 3.7. Please monkey-patch earlier. See https://github.com/gevent/gevent/issues/1016. Modules that had direct imports (NOT patched): ['urllib3.util.ssl_ (/opt/amazon/lib/python3.7/site-packages/urllib3/util/ssl_.py)', 'urllib3.util (/opt/amazon/lib/python3.7/site-packages/urllib3/util/__init__.py)']. \n",
      "  monkey.patch_all(subprocess=True)\u001b[0m\n",
      "\u001b[35mArguments: serve\u001b[0m\n",
      "\u001b[35m[2021-05-05 09:28:19 +0000] [1] [INFO] Starting gunicorn 19.9.0\u001b[0m\n",
      "\u001b[35m[2021-05-05 09:28:19 +0000] [1] [INFO] Listening at: http://0.0.0.0:8080 (1)\u001b[0m\n",
      "\u001b[35m[2021-05-05 09:28:19 +0000] [1] [INFO] Using worker: gevent\u001b[0m\n",
      "\u001b[35m[2021-05-05 09:28:19 +0000] [20] [INFO] Booting worker with pid: 20\u001b[0m\n",
      "\u001b[35m[2021-05-05 09:28:19 +0000] [21] [INFO] Booting worker with pid: 21\u001b[0m\n",
      "\u001b[35m/opt/amazon/lib/python3.7/site-packages/gunicorn/workers/ggevent.py:65: MonkeyPatchWarning: Monkey-patching ssl after ssl has already been imported may lead to errors, including RecursionError on Python 3.6. It may also silently lead to incorrect behaviour on Python 3.7. Please monkey-patch earlier. See https://github.com/gevent/gevent/issues/1016. Modules that had direct imports (NOT patched): ['urllib3.util.ssl_ (/opt/amazon/lib/python3.7/site-packages/urllib3/util/ssl_.py)', 'urllib3.util (/opt/amazon/lib/python3.7/site-packages/urllib3/util/__init__.py)']. \n",
      "  monkey.patch_all(subprocess=True)\u001b[0m\n",
      "\u001b[35m[2021-05-05:09:28:19:INFO] Model loaded successfully for worker : 20\u001b[0m\n",
      "\u001b[35m[2021-05-05 09:28:19 +0000] [22] [INFO] Booting worker with pid: 22\u001b[0m\n",
      "\u001b[35m[2021-05-05 09:28:19 +0000] [23] [INFO] Booting worker with pid: 23\u001b[0m\n",
      "\u001b[35m/opt/amazon/lib/python3.7/site-packages/gunicorn/workers/ggevent.py:65: MonkeyPatchWarning: Monkey-patching ssl after ssl has already been imported may lead to errors, including RecursionError on Python 3.6. It may also silently lead to incorrect behaviour on Python 3.7. Please monkey-patch earlier. See https://github.com/gevent/gevent/issues/1016. Modules that had direct imports (NOT patched): ['urllib3.util.ssl_ (/opt/amazon/lib/python3.7/site-packages/urllib3/util/ssl_.py)', 'urllib3.util (/opt/amazon/lib/python3.7/site-packages/urllib3/util/__init__.py)']. \n",
      "  monkey.patch_all(subprocess=True)\u001b[0m\n",
      "\u001b[34m[2021-05-05:09:28:19:INFO] Model loaded successfully for worker : 21\u001b[0m\n",
      "\u001b[34m/opt/amazon/lib/python3.7/site-packages/gunicorn/workers/ggevent.py:65: MonkeyPatchWarning: Monkey-patching ssl after ssl has already been imported may lead to errors, including RecursionError on Python 3.6. It may also silently lead to incorrect behaviour on Python 3.7. Please monkey-patch earlier. See https://github.com/gevent/gevent/issues/1016. Modules that had direct imports (NOT patched): ['urllib3.util.ssl_ (/opt/amazon/lib/python3.7/site-packages/urllib3/util/ssl_.py)', 'urllib3.util (/opt/amazon/lib/python3.7/site-packages/urllib3/util/__init__.py)']. \n",
      "  monkey.patch_all(subprocess=True)\u001b[0m\n",
      "\u001b[34m[2021-05-05:09:28:19:INFO] Model loaded successfully for worker : 22\u001b[0m\n",
      "\u001b[34m/opt/amazon/lib/python3.7/site-packages/gunicorn/workers/ggevent.py:65: MonkeyPatchWarning: Monkey-patching ssl after ssl has already been imported may lead to errors, including RecursionError on Python 3.6. It may also silently lead to incorrect behaviour on Python 3.7. Please monkey-patch earlier. See https://github.com/gevent/gevent/issues/1016. Modules that had direct imports (NOT patched): ['urllib3.util.ssl_ (/opt/amazon/lib/python3.7/site-packages/urllib3/util/ssl_.py)', 'urllib3.util (/opt/amazon/lib/python3.7/site-packages/urllib3/util/__init__.py)']. \n",
      "  monkey.patch_all(subprocess=True)\u001b[0m\n",
      "\u001b[34m[2021-05-05:09:28:19:INFO] Model loaded successfully for worker : 23\u001b[0m\n",
      "\u001b[35m[2021-05-05:09:28:19:INFO] Model loaded successfully for worker : 21\u001b[0m\n",
      "\u001b[35m/opt/amazon/lib/python3.7/site-packages/gunicorn/workers/ggevent.py:65: MonkeyPatchWarning: Monkey-patching ssl after ssl has already been imported may lead to errors, including RecursionError on Python 3.6. It may also silently lead to incorrect behaviour on Python 3.7. Please monkey-patch earlier. See https://github.com/gevent/gevent/issues/1016. Modules that had direct imports (NOT patched): ['urllib3.util.ssl_ (/opt/amazon/lib/python3.7/site-packages/urllib3/util/ssl_.py)', 'urllib3.util (/opt/amazon/lib/python3.7/site-packages/urllib3/util/__init__.py)']. \n",
      "  monkey.patch_all(subprocess=True)\u001b[0m\n",
      "\u001b[35m[2021-05-05:09:28:19:INFO] Model loaded successfully for worker : 22\u001b[0m\n",
      "\u001b[35m/opt/amazon/lib/python3.7/site-packages/gunicorn/workers/ggevent.py:65: MonkeyPatchWarning: Monkey-patching ssl after ssl has already been imported may lead to errors, including RecursionError on Python 3.6. It may also silently lead to incorrect behaviour on Python 3.7. Please monkey-patch earlier. See https://github.com/gevent/gevent/issues/1016. Modules that had direct imports (NOT patched): ['urllib3.util.ssl_ (/opt/amazon/lib/python3.7/site-packages/urllib3/util/ssl_.py)', 'urllib3.util (/opt/amazon/lib/python3.7/site-packages/urllib3/util/__init__.py)']. \n",
      "  monkey.patch_all(subprocess=True)\u001b[0m\n",
      "\u001b[35m[2021-05-05:09:28:19:INFO] Model loaded successfully for worker : 23\u001b[0m\n",
      "\u001b[34m[2021-05-05:09:28:27:INFO] Sniff delimiter as ','\u001b[0m\n",
      "\u001b[34m[2021-05-05:09:28:27:INFO] Determined delimiter of CSV input is ','\u001b[0m\n",
      "\u001b[34m[2021-05-05:09:28:27:INFO] Sniff delimiter as ','\u001b[0m\n",
      "\u001b[34m[2021-05-05:09:28:27:INFO] Determined delimiter of CSV input is ','\u001b[0m\n",
      "\u001b[34m[2021-05-05:09:28:27:INFO] Sniff delimiter as ','\u001b[0m\n",
      "\u001b[34m[2021-05-05:09:28:27:INFO] Determined delimiter of CSV input is ','\u001b[0m\n",
      "\u001b[34m[2021-05-05:09:28:27:INFO] Sniff delimiter as ','\u001b[0m\n",
      "\u001b[34m[2021-05-05:09:28:27:INFO] Determined delimiter of CSV input is ','\u001b[0m\n",
      "\u001b[35m[2021-05-05:09:28:27:INFO] Sniff delimiter as ','\u001b[0m\n",
      "\u001b[35m[2021-05-05:09:28:27:INFO] Determined delimiter of CSV input is ','\u001b[0m\n",
      "\u001b[35m[2021-05-05:09:28:27:INFO] Sniff delimiter as ','\u001b[0m\n",
      "\u001b[35m[2021-05-05:09:28:27:INFO] Determined delimiter of CSV input is ','\u001b[0m\n",
      "\u001b[35m[2021-05-05:09:28:27:INFO] Sniff delimiter as ','\u001b[0m\n",
      "\u001b[35m[2021-05-05:09:28:27:INFO] Determined delimiter of CSV input is ','\u001b[0m\n",
      "\u001b[35m[2021-05-05:09:28:27:INFO] Sniff delimiter as ','\u001b[0m\n",
      "\u001b[35m[2021-05-05:09:28:27:INFO] Determined delimiter of CSV input is ','\u001b[0m\n",
      "\u001b[34m[2021-05-05:09:28:30:INFO] Sniff delimiter as ','\u001b[0m\n",
      "\u001b[34m[2021-05-05:09:28:30:INFO] Determined delimiter of CSV input is ','\u001b[0m\n",
      "\u001b[34m[2021-05-05:09:28:31:INFO] Sniff delimiter as ','\u001b[0m\n",
      "\u001b[34m[2021-05-05:09:28:31:INFO] Determined delimiter of CSV input is ','\u001b[0m\n",
      "\u001b[34m[2021-05-05:09:28:31:INFO] Sniff delimiter as ','\u001b[0m\n",
      "\u001b[34m[2021-05-05:09:28:31:INFO] Determined delimiter of CSV input is ','\u001b[0m\n",
      "\u001b[34m[2021-05-05:09:28:31:INFO] Sniff delimiter as ','\u001b[0m\n",
      "\u001b[34m[2021-05-05:09:28:31:INFO] Determined delimiter of CSV input is ','\u001b[0m\n",
      "\u001b[35m[2021-05-05:09:28:30:INFO] Sniff delimiter as ','\u001b[0m\n",
      "\u001b[35m[2021-05-05:09:28:30:INFO] Determined delimiter of CSV input is ','\u001b[0m\n",
      "\u001b[35m[2021-05-05:09:28:31:INFO] Sniff delimiter as ','\u001b[0m\n",
      "\u001b[35m[2021-05-05:09:28:31:INFO] Determined delimiter of CSV input is ','\u001b[0m\n",
      "\u001b[35m[2021-05-05:09:28:31:INFO] Sniff delimiter as ','\u001b[0m\n",
      "\u001b[35m[2021-05-05:09:28:31:INFO] Determined delimiter of CSV input is ','\u001b[0m\n",
      "\u001b[35m[2021-05-05:09:28:31:INFO] Sniff delimiter as ','\u001b[0m\n",
      "\u001b[35m[2021-05-05:09:28:31:INFO] Determined delimiter of CSV input is ','\u001b[0m\n"
     ]
    },
    {
     "name": "stdout",
     "output_type": "stream",
     "text": [
      "\u001b[32m2021-05-05T09:28:23.343:[sagemaker logs]: MaxConcurrentTransforms=4, MaxPayloadInMB=6, BatchStrategy=MULTI_RECORD\u001b[0m\n",
      "\u001b[34m[2021-05-05:09:28:38:INFO] Sniff delimiter as ','\u001b[0m\n",
      "\u001b[34m[2021-05-05:09:28:38:INFO] Determined delimiter of CSV input is ','\u001b[0m\n",
      "\u001b[34m[2021-05-05:09:28:38:INFO] Sniff delimiter as ','\u001b[0m\n",
      "\u001b[34m[2021-05-05:09:28:38:INFO] Determined delimiter of CSV input is ','\u001b[0m\n",
      "\u001b[34m[2021-05-05:09:28:38:INFO] Sniff delimiter as ','\u001b[0m\n",
      "\u001b[34m[2021-05-05:09:28:38:INFO] Determined delimiter of CSV input is ','\u001b[0m\n",
      "\u001b[35m[2021-05-05:09:28:38:INFO] Sniff delimiter as ','\u001b[0m\n",
      "\u001b[35m[2021-05-05:09:28:38:INFO] Determined delimiter of CSV input is ','\u001b[0m\n",
      "\u001b[35m[2021-05-05:09:28:38:INFO] Sniff delimiter as ','\u001b[0m\n",
      "\u001b[35m[2021-05-05:09:28:38:INFO] Determined delimiter of CSV input is ','\u001b[0m\n",
      "\u001b[35m[2021-05-05:09:28:38:INFO] Sniff delimiter as ','\u001b[0m\n",
      "\u001b[35m[2021-05-05:09:28:38:INFO] Determined delimiter of CSV input is ','\u001b[0m\n",
      "\u001b[34m[2021-05-05:09:28:42:INFO] Sniff delimiter as ','\u001b[0m\n",
      "\u001b[34m[2021-05-05:09:28:42:INFO] Determined delimiter of CSV input is ','\u001b[0m\n",
      "\u001b[34m[2021-05-05:09:28:42:INFO] Sniff delimiter as ','\u001b[0m\n",
      "\u001b[34m[2021-05-05:09:28:42:INFO] Determined delimiter of CSV input is ','\u001b[0m\n",
      "\u001b[35m[2021-05-05:09:28:42:INFO] Sniff delimiter as ','\u001b[0m\n",
      "\u001b[35m[2021-05-05:09:28:42:INFO] Determined delimiter of CSV input is ','\u001b[0m\n",
      "\u001b[35m[2021-05-05:09:28:42:INFO] Sniff delimiter as ','\u001b[0m\n",
      "\u001b[35m[2021-05-05:09:28:42:INFO] Determined delimiter of CSV input is ','\u001b[0m\n",
      "\u001b[34m[2021-05-05:09:28:46:INFO] Sniff delimiter as ','\u001b[0m\n",
      "\u001b[34m[2021-05-05:09:28:46:INFO] Determined delimiter of CSV input is ','\u001b[0m\n",
      "\u001b[34m[2021-05-05:09:28:46:INFO] Sniff delimiter as ','\u001b[0m\n",
      "\u001b[34m[2021-05-05:09:28:46:INFO] Determined delimiter of CSV input is ','\u001b[0m\n",
      "\u001b[34m[2021-05-05:09:28:46:INFO] Sniff delimiter as ','\u001b[0m\n",
      "\u001b[34m[2021-05-05:09:28:46:INFO] Determined delimiter of CSV input is ','\u001b[0m\n",
      "\u001b[34m[2021-05-05:09:28:46:INFO] Sniff delimiter as ','\u001b[0m\n",
      "\u001b[34m[2021-05-05:09:28:46:INFO] Determined delimiter of CSV input is ','\u001b[0m\n",
      "\u001b[35m[2021-05-05:09:28:46:INFO] Sniff delimiter as ','\u001b[0m\n",
      "\u001b[35m[2021-05-05:09:28:46:INFO] Determined delimiter of CSV input is ','\u001b[0m\n",
      "\u001b[35m[2021-05-05:09:28:46:INFO] Sniff delimiter as ','\u001b[0m\n",
      "\u001b[35m[2021-05-05:09:28:46:INFO] Determined delimiter of CSV input is ','\u001b[0m\n",
      "\u001b[35m[2021-05-05:09:28:46:INFO] Sniff delimiter as ','\u001b[0m\n",
      "\u001b[35m[2021-05-05:09:28:46:INFO] Determined delimiter of CSV input is ','\u001b[0m\n",
      "\u001b[35m[2021-05-05:09:28:46:INFO] Sniff delimiter as ','\u001b[0m\n",
      "\u001b[35m[2021-05-05:09:28:46:INFO] Determined delimiter of CSV input is ','\u001b[0m\n",
      "\u001b[34m[2021-05-05:09:28:49:INFO] Sniff delimiter as ','\u001b[0m\n",
      "\u001b[34m[2021-05-05:09:28:49:INFO] Determined delimiter of CSV input is ','\u001b[0m\n",
      "\u001b[35m[2021-05-05:09:28:49:INFO] Sniff delimiter as ','\u001b[0m\n",
      "\u001b[35m[2021-05-05:09:28:49:INFO] Determined delimiter of CSV input is ','\u001b[0m\n",
      "\u001b[34m[2021-05-05:09:28:50:INFO] Sniff delimiter as ','\u001b[0m\n",
      "\u001b[34m[2021-05-05:09:28:50:INFO] Determined delimiter of CSV input is ','\u001b[0m\n",
      "\u001b[34m[2021-05-05:09:28:50:INFO] Sniff delimiter as ','\u001b[0m\n",
      "\u001b[34m[2021-05-05:09:28:50:INFO] Determined delimiter of CSV input is ','\u001b[0m\n",
      "\u001b[34m[2021-05-05:09:28:50:INFO] Sniff delimiter as ','\u001b[0m\n",
      "\u001b[34m[2021-05-05:09:28:50:INFO] Determined delimiter of CSV input is ','\u001b[0m\n",
      "\u001b[35m[2021-05-05:09:28:50:INFO] Sniff delimiter as ','\u001b[0m\n",
      "\u001b[35m[2021-05-05:09:28:50:INFO] Determined delimiter of CSV input is ','\u001b[0m\n",
      "\u001b[35m[2021-05-05:09:28:50:INFO] Sniff delimiter as ','\u001b[0m\n",
      "\u001b[35m[2021-05-05:09:28:50:INFO] Determined delimiter of CSV input is ','\u001b[0m\n",
      "\u001b[35m[2021-05-05:09:28:50:INFO] Sniff delimiter as ','\u001b[0m\n",
      "\u001b[35m[2021-05-05:09:28:50:INFO] Determined delimiter of CSV input is ','\u001b[0m\n",
      "\u001b[34m[2021-05-05:09:28:54:INFO] Sniff delimiter as ','\u001b[0m\n",
      "\u001b[35m[2021-05-05:09:28:54:INFO] Sniff delimiter as ','\u001b[0m\n",
      "\u001b[34m[2021-05-05:09:28:54:INFO] Determined delimiter of CSV input is ','\u001b[0m\n",
      "\u001b[35m[2021-05-05:09:28:54:INFO] Determined delimiter of CSV input is ','\u001b[0m\n",
      "\u001b[34m[2021-05-05:09:28:57:INFO] Sniff delimiter as ','\u001b[0m\n",
      "\u001b[34m[2021-05-05:09:28:57:INFO] Determined delimiter of CSV input is ','\u001b[0m\n",
      "\u001b[35m[2021-05-05:09:28:57:INFO] Sniff delimiter as ','\u001b[0m\n",
      "\u001b[35m[2021-05-05:09:28:57:INFO] Determined delimiter of CSV input is ','\u001b[0m\n",
      "\u001b[34m[2021-05-05:09:28:57:INFO] Sniff delimiter as ','\u001b[0m\n",
      "\u001b[34m[2021-05-05:09:28:57:INFO] Determined delimiter of CSV input is ','\u001b[0m\n",
      "\u001b[34m[2021-05-05:09:28:57:INFO] Sniff delimiter as ','\u001b[0m\n",
      "\u001b[34m[2021-05-05:09:28:57:INFO] Determined delimiter of CSV input is ','\u001b[0m\n",
      "\u001b[35m[2021-05-05:09:28:57:INFO] Sniff delimiter as ','\u001b[0m\n",
      "\u001b[35m[2021-05-05:09:28:57:INFO] Determined delimiter of CSV input is ','\u001b[0m\n",
      "\u001b[35m[2021-05-05:09:28:57:INFO] Sniff delimiter as ','\u001b[0m\n",
      "\u001b[35m[2021-05-05:09:28:57:INFO] Determined delimiter of CSV input is ','\u001b[0m\n",
      "\n",
      "\u001b[34m[2021-05-05:09:29:01:INFO] Sniff delimiter as ','\u001b[0m\n",
      "\u001b[35m[2021-05-05:09:29:01:INFO] Sniff delimiter as ','\u001b[0m\n",
      "\u001b[34m[2021-05-05:09:29:01:INFO] Determined delimiter of CSV input is ','\u001b[0m\n",
      "\u001b[34m[2021-05-05:09:29:01:INFO] Sniff delimiter as ','\u001b[0m\n",
      "\u001b[34m[2021-05-05:09:29:01:INFO] Determined delimiter of CSV input is ','\u001b[0m\n",
      "\u001b[35m[2021-05-05:09:29:01:INFO] Determined delimiter of CSV input is ','\u001b[0m\n",
      "\u001b[35m[2021-05-05:09:29:01:INFO] Sniff delimiter as ','\u001b[0m\n",
      "\u001b[35m[2021-05-05:09:29:01:INFO] Determined delimiter of CSV input is ','\u001b[0m\n",
      "\u001b[34m[2021-05-05:09:29:01:INFO] Sniff delimiter as ','\u001b[0m\n",
      "\u001b[34m[2021-05-05:09:29:01:INFO] Determined delimiter of CSV input is ','\u001b[0m\n",
      "\u001b[35m[2021-05-05:09:29:01:INFO] Sniff delimiter as ','\u001b[0m\n",
      "\u001b[35m[2021-05-05:09:29:01:INFO] Determined delimiter of CSV input is ','\u001b[0m\n"
     ]
    }
   ],
   "source": [
    "xgb_transformer.wait()"
   ]
  },
  {
   "cell_type": "markdown",
   "metadata": {},
   "source": [
    "Now the transform job has executed and the result, the estimated sentiment of each review, has been saved on S3. Since we would rather work on this file locally we can perform a bit of notebook magic to copy the file to the `data_dir`."
   ]
  },
  {
   "cell_type": "code",
   "execution_count": 28,
   "metadata": {},
   "outputs": [
    {
     "name": "stdout",
     "output_type": "stream",
     "text": [
      "Completed 256.0 KiB/473.0 KiB (3.3 MiB/s) with 1 file(s) remaining\r",
      "Completed 473.0 KiB/473.0 KiB (5.7 MiB/s) with 1 file(s) remaining\r",
      "download: s3://sagemaker-ap-south-1-135661043022/xgboost-2021-05-05-09-23-42-134/test.csv.out to ../data/sentiment_web_app/test.csv.out\r\n"
     ]
    }
   ],
   "source": [
    "!aws s3 cp --recursive $xgb_transformer.output_path $data_dir"
   ]
  },
  {
   "cell_type": "markdown",
   "metadata": {},
   "source": [
    "The last step is now to read in the output from our model, convert the output to something a little more usable, in this case we want the sentiment to be either `1` (positive) or `0` (negative), and then compare to the ground truth labels."
   ]
  },
  {
   "cell_type": "code",
   "execution_count": 29,
   "metadata": {},
   "outputs": [],
   "source": [
    "predictions = pd.read_csv(os.path.join(data_dir, 'test.csv.out'), header=None)\n",
    "predictions = [round(num) for num in predictions.squeeze().values]"
   ]
  },
  {
   "cell_type": "code",
   "execution_count": 30,
   "metadata": {},
   "outputs": [
    {
     "data": {
      "text/plain": [
       "0.85756"
      ]
     },
     "execution_count": 30,
     "metadata": {},
     "output_type": "execute_result"
    }
   ],
   "source": [
    "from sklearn.metrics import accuracy_score\n",
    "accuracy_score(test_y, predictions)"
   ]
  },
  {
   "cell_type": "markdown",
   "metadata": {},
   "source": [
    "## Step 6: Deploying the model\n",
    "\n",
    "Once we construct and fit our model, SageMaker stores the resulting model artifacts and we can use those to deploy an endpoint (inference code). To see this, look in the SageMaker console and you should see that a model has been created along with a link to the S3 location where the model artifacts have been stored.\n",
    "\n",
    "Deploying an endpoint is a lot like training the model with a few important differences. The first is that a deployed model doesn't change the model artifacts, so as you send it various testing instances the model won't change. Another difference is that since we aren't performing a fixed computation, as we were in the training step or while performing a batch transform, the compute instance that gets started stays running until we tell it to stop. This is important to note as if we forget and leave it running we will be charged the entire time.\n",
    "\n",
    "In other words **If you are no longer using a deployed endpoint, shut it down!**"
   ]
  },
  {
   "cell_type": "code",
   "execution_count": 31,
   "metadata": {},
   "outputs": [
    {
     "name": "stderr",
     "output_type": "stream",
     "text": [
      "Parameter image will be renamed to image_uri in SageMaker Python SDK v2.\n",
      "Using already existing model: xgboost-2021-05-05-09-16-27-497\n"
     ]
    },
    {
     "name": "stdout",
     "output_type": "stream",
     "text": [
      "---------------!"
     ]
    }
   ],
   "source": [
    "xgb_predictor = xgb.deploy(initial_instance_count = 1, instance_type = 'ml.m4.xlarge')"
   ]
  },
  {
   "cell_type": "markdown",
   "metadata": {},
   "source": [
    "### Testing the model (again)\n",
    "\n",
    "Now that we have deployed our endpoint, we can send the testing data to it and get back the inference results. We already did this earlier using the batch transform functionality of SageMaker, however, we will test our model again using the newly deployed endpoint so that we can make sure that it works properly and to get a bit of a feel for how the endpoint works.\n",
    "\n",
    "When using the created endpoint it is important to know that we are limited in the amount of information we can send in each call so we need to break the testing data up into chunks and then send each chunk. Also, we need to serialize our data before we send it to the endpoint to ensure that our data is transmitted properly. Fortunately, SageMaker can do the serialization part for us provided we tell it the format of our data."
   ]
  },
  {
   "cell_type": "code",
   "execution_count": 32,
   "metadata": {},
   "outputs": [],
   "source": [
    "from sagemaker.predictor import csv_serializer\n",
    "\n",
    "# We need to tell the endpoint what format the data we are sending is in so that SageMaker can perform the serialization.\n",
    "xgb_predictor.content_type = 'text/csv'\n",
    "xgb_predictor.serializer = csv_serializer"
   ]
  },
  {
   "cell_type": "code",
   "execution_count": 33,
   "metadata": {},
   "outputs": [],
   "source": [
    "# We split the data into chunks and send each chunk seperately, accumulating the results.\n",
    "\n",
    "def predict(data, rows=512):\n",
    "    split_array = np.array_split(data, int(data.shape[0] / float(rows) + 1))\n",
    "    predictions = ''\n",
    "    for array in split_array:\n",
    "        predictions = ','.join([predictions, xgb_predictor.predict(array).decode('utf-8')])\n",
    "    \n",
    "    return np.fromstring(predictions[1:], sep=',')"
   ]
  },
  {
   "cell_type": "code",
   "execution_count": 34,
   "metadata": {},
   "outputs": [],
   "source": [
    "test_X = pd.read_csv(os.path.join(data_dir, 'test.csv'), header=None).values\n",
    "\n",
    "predictions = predict(test_X)\n",
    "predictions = [round(num) for num in predictions]"
   ]
  },
  {
   "cell_type": "markdown",
   "metadata": {},
   "source": [
    "Lastly, we check to see what the accuracy of our model is."
   ]
  },
  {
   "cell_type": "code",
   "execution_count": 35,
   "metadata": {},
   "outputs": [
    {
     "data": {
      "text/plain": [
       "0.85756"
      ]
     },
     "execution_count": 35,
     "metadata": {},
     "output_type": "execute_result"
    }
   ],
   "source": [
    "from sklearn.metrics import accuracy_score\n",
    "accuracy_score(test_y, predictions)"
   ]
  },
  {
   "cell_type": "markdown",
   "metadata": {},
   "source": [
    "And the results here should agree with the model testing that we did earlier using the batch transform job.\n",
    "\n",
    "### Cleaning up\n",
    "\n",
    "Now that we've determined that deploying our model works as expected, we are going to shut it down. Remember that the longer the endpoint is left running, the greater the cost and since we have a bit more work to do before we are able to use our endpoint with our simple web app, we should shut everything down."
   ]
  },
  {
   "cell_type": "code",
   "execution_count": 37,
   "metadata": {},
   "outputs": [
    {
     "ename": "ClientError",
     "evalue": "An error occurred (ValidationException) when calling the DeleteEndpointConfig operation: Could not find endpoint configuration \"arn:aws:sagemaker:ap-south-1:135661043022:endpoint-config/xgboost-2021-05-05-09-16-27-497\".",
     "output_type": "error",
     "traceback": [
      "\u001b[0;31m---------------------------------------------------------------------------\u001b[0m",
      "\u001b[0;31mClientError\u001b[0m                               Traceback (most recent call last)",
      "\u001b[0;32m<ipython-input-37-16a6b43a8b29>\u001b[0m in \u001b[0;36m<module>\u001b[0;34m\u001b[0m\n\u001b[0;32m----> 1\u001b[0;31m \u001b[0mxgb_predictor\u001b[0m\u001b[0;34m.\u001b[0m\u001b[0mdelete_endpoint\u001b[0m\u001b[0;34m(\u001b[0m\u001b[0;34m)\u001b[0m\u001b[0;34m\u001b[0m\u001b[0;34m\u001b[0m\u001b[0m\n\u001b[0m",
      "\u001b[0;32m~/anaconda3/envs/pytorch_p36/lib/python3.6/site-packages/sagemaker/predictor.py\u001b[0m in \u001b[0;36mdelete_endpoint\u001b[0;34m(self, delete_endpoint_config)\u001b[0m\n\u001b[1;32m    174\u001b[0m         \"\"\"\n\u001b[1;32m    175\u001b[0m         \u001b[0;32mif\u001b[0m \u001b[0mdelete_endpoint_config\u001b[0m\u001b[0;34m:\u001b[0m\u001b[0;34m\u001b[0m\u001b[0;34m\u001b[0m\u001b[0m\n\u001b[0;32m--> 176\u001b[0;31m             \u001b[0mself\u001b[0m\u001b[0;34m.\u001b[0m\u001b[0m_delete_endpoint_config\u001b[0m\u001b[0;34m(\u001b[0m\u001b[0;34m)\u001b[0m\u001b[0;34m\u001b[0m\u001b[0;34m\u001b[0m\u001b[0m\n\u001b[0m\u001b[1;32m    177\u001b[0m \u001b[0;34m\u001b[0m\u001b[0m\n\u001b[1;32m    178\u001b[0m         \u001b[0mself\u001b[0m\u001b[0;34m.\u001b[0m\u001b[0msagemaker_session\u001b[0m\u001b[0;34m.\u001b[0m\u001b[0mdelete_endpoint\u001b[0m\u001b[0;34m(\u001b[0m\u001b[0mself\u001b[0m\u001b[0;34m.\u001b[0m\u001b[0mendpoint\u001b[0m\u001b[0;34m)\u001b[0m\u001b[0;34m\u001b[0m\u001b[0;34m\u001b[0m\u001b[0m\n",
      "\u001b[0;32m~/anaconda3/envs/pytorch_p36/lib/python3.6/site-packages/sagemaker/predictor.py\u001b[0m in \u001b[0;36m_delete_endpoint_config\u001b[0;34m(self)\u001b[0m\n\u001b[1;32m    160\u001b[0m     \u001b[0;32mdef\u001b[0m \u001b[0m_delete_endpoint_config\u001b[0m\u001b[0;34m(\u001b[0m\u001b[0mself\u001b[0m\u001b[0;34m)\u001b[0m\u001b[0;34m:\u001b[0m\u001b[0;34m\u001b[0m\u001b[0;34m\u001b[0m\u001b[0m\n\u001b[1;32m    161\u001b[0m         \u001b[0;34m\"\"\"Delete the Amazon SageMaker endpoint configuration\"\"\"\u001b[0m\u001b[0;34m\u001b[0m\u001b[0;34m\u001b[0m\u001b[0m\n\u001b[0;32m--> 162\u001b[0;31m         \u001b[0mself\u001b[0m\u001b[0;34m.\u001b[0m\u001b[0msagemaker_session\u001b[0m\u001b[0;34m.\u001b[0m\u001b[0mdelete_endpoint_config\u001b[0m\u001b[0;34m(\u001b[0m\u001b[0mself\u001b[0m\u001b[0;34m.\u001b[0m\u001b[0m_endpoint_config_name\u001b[0m\u001b[0;34m)\u001b[0m\u001b[0;34m\u001b[0m\u001b[0;34m\u001b[0m\u001b[0m\n\u001b[0m\u001b[1;32m    163\u001b[0m \u001b[0;34m\u001b[0m\u001b[0m\n\u001b[1;32m    164\u001b[0m     \u001b[0;32mdef\u001b[0m \u001b[0mdelete_endpoint\u001b[0m\u001b[0;34m(\u001b[0m\u001b[0mself\u001b[0m\u001b[0;34m,\u001b[0m \u001b[0mdelete_endpoint_config\u001b[0m\u001b[0;34m=\u001b[0m\u001b[0;32mTrue\u001b[0m\u001b[0;34m)\u001b[0m\u001b[0;34m:\u001b[0m\u001b[0;34m\u001b[0m\u001b[0;34m\u001b[0m\u001b[0m\n",
      "\u001b[0;32m~/anaconda3/envs/pytorch_p36/lib/python3.6/site-packages/sagemaker/session.py\u001b[0m in \u001b[0;36mdelete_endpoint_config\u001b[0;34m(self, endpoint_config_name)\u001b[0m\n\u001b[1;32m   2478\u001b[0m         \"\"\"\n\u001b[1;32m   2479\u001b[0m         \u001b[0mLOGGER\u001b[0m\u001b[0;34m.\u001b[0m\u001b[0minfo\u001b[0m\u001b[0;34m(\u001b[0m\u001b[0;34m\"Deleting endpoint configuration with name: %s\"\u001b[0m\u001b[0;34m,\u001b[0m \u001b[0mendpoint_config_name\u001b[0m\u001b[0;34m)\u001b[0m\u001b[0;34m\u001b[0m\u001b[0;34m\u001b[0m\u001b[0m\n\u001b[0;32m-> 2480\u001b[0;31m         \u001b[0mself\u001b[0m\u001b[0;34m.\u001b[0m\u001b[0msagemaker_client\u001b[0m\u001b[0;34m.\u001b[0m\u001b[0mdelete_endpoint_config\u001b[0m\u001b[0;34m(\u001b[0m\u001b[0mEndpointConfigName\u001b[0m\u001b[0;34m=\u001b[0m\u001b[0mendpoint_config_name\u001b[0m\u001b[0;34m)\u001b[0m\u001b[0;34m\u001b[0m\u001b[0;34m\u001b[0m\u001b[0m\n\u001b[0m\u001b[1;32m   2481\u001b[0m \u001b[0;34m\u001b[0m\u001b[0m\n\u001b[1;32m   2482\u001b[0m     \u001b[0;32mdef\u001b[0m \u001b[0mdelete_model\u001b[0m\u001b[0;34m(\u001b[0m\u001b[0mself\u001b[0m\u001b[0;34m,\u001b[0m \u001b[0mmodel_name\u001b[0m\u001b[0;34m)\u001b[0m\u001b[0;34m:\u001b[0m\u001b[0;34m\u001b[0m\u001b[0;34m\u001b[0m\u001b[0m\n",
      "\u001b[0;32m~/anaconda3/envs/pytorch_p36/lib/python3.6/site-packages/botocore/client.py\u001b[0m in \u001b[0;36m_api_call\u001b[0;34m(self, *args, **kwargs)\u001b[0m\n\u001b[1;32m    355\u001b[0m                     \"%s() only accepts keyword arguments.\" % py_operation_name)\n\u001b[1;32m    356\u001b[0m             \u001b[0;31m# The \"self\" in this scope is referring to the BaseClient.\u001b[0m\u001b[0;34m\u001b[0m\u001b[0;34m\u001b[0m\u001b[0;34m\u001b[0m\u001b[0m\n\u001b[0;32m--> 357\u001b[0;31m             \u001b[0;32mreturn\u001b[0m \u001b[0mself\u001b[0m\u001b[0;34m.\u001b[0m\u001b[0m_make_api_call\u001b[0m\u001b[0;34m(\u001b[0m\u001b[0moperation_name\u001b[0m\u001b[0;34m,\u001b[0m \u001b[0mkwargs\u001b[0m\u001b[0;34m)\u001b[0m\u001b[0;34m\u001b[0m\u001b[0;34m\u001b[0m\u001b[0m\n\u001b[0m\u001b[1;32m    358\u001b[0m \u001b[0;34m\u001b[0m\u001b[0m\n\u001b[1;32m    359\u001b[0m         \u001b[0m_api_call\u001b[0m\u001b[0;34m.\u001b[0m\u001b[0m__name__\u001b[0m \u001b[0;34m=\u001b[0m \u001b[0mstr\u001b[0m\u001b[0;34m(\u001b[0m\u001b[0mpy_operation_name\u001b[0m\u001b[0;34m)\u001b[0m\u001b[0;34m\u001b[0m\u001b[0;34m\u001b[0m\u001b[0m\n",
      "\u001b[0;32m~/anaconda3/envs/pytorch_p36/lib/python3.6/site-packages/botocore/client.py\u001b[0m in \u001b[0;36m_make_api_call\u001b[0;34m(self, operation_name, api_params)\u001b[0m\n\u001b[1;32m    674\u001b[0m             \u001b[0merror_code\u001b[0m \u001b[0;34m=\u001b[0m \u001b[0mparsed_response\u001b[0m\u001b[0;34m.\u001b[0m\u001b[0mget\u001b[0m\u001b[0;34m(\u001b[0m\u001b[0;34m\"Error\"\u001b[0m\u001b[0;34m,\u001b[0m \u001b[0;34m{\u001b[0m\u001b[0;34m}\u001b[0m\u001b[0;34m)\u001b[0m\u001b[0;34m.\u001b[0m\u001b[0mget\u001b[0m\u001b[0;34m(\u001b[0m\u001b[0;34m\"Code\"\u001b[0m\u001b[0;34m)\u001b[0m\u001b[0;34m\u001b[0m\u001b[0;34m\u001b[0m\u001b[0m\n\u001b[1;32m    675\u001b[0m             \u001b[0merror_class\u001b[0m \u001b[0;34m=\u001b[0m \u001b[0mself\u001b[0m\u001b[0;34m.\u001b[0m\u001b[0mexceptions\u001b[0m\u001b[0;34m.\u001b[0m\u001b[0mfrom_code\u001b[0m\u001b[0;34m(\u001b[0m\u001b[0merror_code\u001b[0m\u001b[0;34m)\u001b[0m\u001b[0;34m\u001b[0m\u001b[0;34m\u001b[0m\u001b[0m\n\u001b[0;32m--> 676\u001b[0;31m             \u001b[0;32mraise\u001b[0m \u001b[0merror_class\u001b[0m\u001b[0;34m(\u001b[0m\u001b[0mparsed_response\u001b[0m\u001b[0;34m,\u001b[0m \u001b[0moperation_name\u001b[0m\u001b[0;34m)\u001b[0m\u001b[0;34m\u001b[0m\u001b[0;34m\u001b[0m\u001b[0m\n\u001b[0m\u001b[1;32m    677\u001b[0m         \u001b[0;32melse\u001b[0m\u001b[0;34m:\u001b[0m\u001b[0;34m\u001b[0m\u001b[0;34m\u001b[0m\u001b[0m\n\u001b[1;32m    678\u001b[0m             \u001b[0;32mreturn\u001b[0m \u001b[0mparsed_response\u001b[0m\u001b[0;34m\u001b[0m\u001b[0;34m\u001b[0m\u001b[0m\n",
      "\u001b[0;31mClientError\u001b[0m: An error occurred (ValidationException) when calling the DeleteEndpointConfig operation: Could not find endpoint configuration \"arn:aws:sagemaker:ap-south-1:135661043022:endpoint-config/xgboost-2021-05-05-09-16-27-497\"."
     ]
    }
   ],
   "source": [
    "xgb_predictor.delete_endpoint()"
   ]
  },
  {
   "cell_type": "markdown",
   "metadata": {},
   "source": [
    "## Step 7: Putting our model to work\n",
    "\n",
    "As we've mentioned a few times now, our goal is to have our model deployed and then access it using a very simple web app. The intent is for this web app to take some user submitted data (a review), send it off to our endpoint (the model) and then display the result.\n",
    "\n",
    "However, there is a small catch. Currently the only way we can access the endpoint to send it data is using the SageMaker API. We can, if we wish, expose the actual URL that our model's endpoint is receiving data from, however, if we just send it data ourselves we will not get anything in return. This is because the endpoint created by SageMaker requires the entity accessing it have the correct permissions. So, we would need to somehow authenticate our web app with AWS.\n",
    "\n",
    "Having a website that authenticates to AWS seems a bit beyond the scope of this lesson so we will opt for an alternative approach. Namely, we will create a new endpoint which does not require authentication and which acts as a proxy for the SageMaker endpoint.\n",
    "\n",
    "As an additional constraint, we will try to avoid doing any data processing in the web app itself. Remember that when we constructed and tested our model we started with a movie review, then we simplified it by removing any html formatting and punctuation, then we constructed a bag of words embedding and the resulting vector is what we sent to our model. All of this needs to be done to our user input as well.\n",
    "\n",
    "Fortunately we can do all of this data processing in the backend, using Amazon's Lambda service.\n",
    "\n",
    "<img src=\"Web App Diagram.svg\">\n",
    "\n",
    "The diagram above gives an overview of how the various services will work together. On the far right is the model which we trained above and which will be deployed using SageMaker. On the far left is our web app that collects a user's movie review, sends it off and expects a positive or negative sentiment in return.\n",
    "\n",
    "In the middle is where some of the magic happens. We will construct a Lambda function, which you can think of as a straightforward Python function that can be executed whenever a specified event occurs. This Python function will do the data processing we need to perform on a user submitted review. In addition, we will give this function permission to send and recieve data from a SageMaker endpoint.\n",
    "\n",
    "Lastly, the method we will use to execute the Lambda function is a new endpoint that we will create using API Gateway. This endpoint will be a url that listens for data to be sent to it. Once it gets some data it will pass that data on to the Lambda function and then return whatever the Lambda function returns. Essentially it will act as an interface that lets our web app communicate with the Lambda function.\n",
    "\n",
    "### Processing a single review\n",
    "\n",
    "For now, suppose we are given a movie review by our user in the form of a string, like so:"
   ]
  },
  {
   "cell_type": "code",
   "execution_count": 38,
   "metadata": {},
   "outputs": [],
   "source": [
    "test_review = \"Nothing but a disgusting materialistic pageant of glistening abed remote control greed zombies, totally devoid of any heart or heat. A romantic comedy that has zero romantic chemestry and zero laughs!\""
   ]
  },
  {
   "cell_type": "markdown",
   "metadata": {},
   "source": [
    "How do we go from this string to the bag of words feature vector that is expected by our model?\n",
    "\n",
    "If we recall at the beginning of this notebook, the first step is to remove any unnecessary characters using the `review_to_words` method. Remember that we intentionally did this in a very simplistic way. This is because we are going to have to copy this method to our (eventual) Lambda function (we will go into more detail later) and this means it needs to be rather simplistic."
   ]
  },
  {
   "cell_type": "code",
   "execution_count": 39,
   "metadata": {},
   "outputs": [
    {
     "name": "stdout",
     "output_type": "stream",
     "text": [
      "nothing but a disgusting materialistic pageant of glistening abed remote control greed zombies totally devoid of any heart or heat a romantic comedy that has zero romantic chemestry and zero laughs\n"
     ]
    }
   ],
   "source": [
    "test_words = review_to_words(test_review)\n",
    "print(test_words)"
   ]
  },
  {
   "cell_type": "markdown",
   "metadata": {},
   "source": [
    "Next, we need to construct a bag of words embedding of the `test_words` string. To do this, remember that a bag of words embedding uses a `vocabulary` consisting of the most frequently appearing words in a set of documents. Then, for each word in the vocabulary we record the number of times that word appears in `test_words`. We constructed the `vocabulary` earlier using the training set for our problem so encoding `test_words` is relatively straightforward."
   ]
  },
  {
   "cell_type": "code",
   "execution_count": 40,
   "metadata": {},
   "outputs": [],
   "source": [
    "def bow_encoding(words, vocabulary):\n",
    "    bow = [0] * len(vocabulary) # Start by setting the count for each word in the vocabulary to zero.\n",
    "    for word in words.split():  # For each word in the string\n",
    "        if word in vocabulary:  # If the word is one that occurs in the vocabulary, increase its count.\n",
    "            bow[vocabulary[word]] += 1\n",
    "    return bow"
   ]
  },
  {
   "cell_type": "code",
   "execution_count": 41,
   "metadata": {},
   "outputs": [
    {
     "name": "stdout",
     "output_type": "stream",
     "text": [
      "[0, 0, 0, 0, 0, 0, 0, 0, 0, 0, 0, 0, 0, 0, 0, 0, 0, 0, 0, 0, 0, 0, 0, 0, 0, 0, 0, 0, 0, 0, 0, 0, 0, 0, 0, 0, 0, 0, 0, 0, 0, 0, 0, 0, 0, 0, 0, 0, 0, 0, 0, 0, 0, 0, 0, 0, 0, 0, 0, 0, 0, 0, 0, 0, 0, 0, 0, 0, 0, 0, 0, 0, 0, 0, 0, 0, 0, 0, 0, 0, 0, 0, 0, 0, 0, 0, 0, 0, 0, 0, 0, 0, 0, 0, 0, 0, 0, 0, 0, 0, 0, 0, 0, 0, 0, 0, 0, 0, 0, 0, 0, 0, 0, 0, 0, 0, 0, 0, 0, 0, 0, 0, 0, 0, 0, 0, 0, 0, 0, 0, 0, 0, 0, 0, 0, 0, 0, 0, 0, 0, 0, 0, 0, 0, 0, 0, 0, 0, 0, 0, 0, 0, 0, 0, 0, 0, 0, 0, 0, 0, 0, 0, 0, 0, 0, 0, 0, 0, 0, 0, 0, 0, 0, 0, 0, 0, 0, 0, 0, 0, 0, 0, 0, 0, 0, 0, 0, 0, 0, 0, 0, 0, 0, 0, 0, 0, 0, 0, 0, 0, 0, 0, 0, 0, 0, 0, 0, 0, 0, 0, 0, 0, 0, 0, 0, 0, 0, 0, 0, 0, 0, 0, 0, 0, 0, 0, 1, 0, 0, 0, 0, 0, 0, 0, 0, 0, 0, 0, 0, 0, 0, 0, 0, 0, 0, 0, 0, 0, 0, 0, 0, 0, 0, 0, 0, 0, 1, 0, 0, 0, 0, 0, 0, 0, 0, 0, 0, 0, 0, 0, 0, 0, 0, 0, 0, 0, 0, 0, 0, 0, 0, 0, 0, 0, 0, 0, 0, 0, 0, 0, 0, 0, 0, 0, 0, 0, 0, 0, 0, 0, 0, 0, 0, 0, 0, 0, 0, 0, 0, 0, 0, 0, 0, 0, 0, 0, 0, 0, 0, 0, 0, 0, 0, 0, 0, 0, 0, 0, 0, 0, 0, 0, 0, 0, 0, 0, 0, 0, 0, 0, 0, 0, 0, 0, 0, 0, 0, 0, 0, 0, 0, 0, 0, 0, 0, 0, 0, 0, 0, 0, 0, 0, 0, 0, 0, 0, 0, 0, 0, 0, 0, 0, 0, 0, 0, 0, 0, 0, 0, 0, 0, 0, 0, 0, 0, 0, 0, 0, 0, 0, 0, 0, 0, 0, 0, 0, 0, 0, 0, 0, 0, 0, 0, 0, 0, 0, 0, 0, 0, 0, 0, 0, 0, 0, 0, 0, 0, 0, 0, 0, 0, 0, 0, 0, 0, 0, 0, 0, 0, 0, 0, 0, 0, 0, 0, 0, 0, 0, 0, 0, 0, 0, 0, 0, 0, 0, 0, 0, 0, 0, 0, 0, 0, 0, 0, 0, 0, 0, 0, 0, 0, 0, 0, 0, 0, 0, 0, 0, 0, 0, 0, 0, 0, 0, 0, 0, 0, 0, 0, 0, 0, 0, 0, 0, 0, 0, 0, 0, 0, 0, 0, 0, 0, 0, 0, 0, 0, 0, 0, 0, 0, 0, 0, 0, 0, 0, 0, 0, 0, 0, 0, 0, 0, 0, 0, 0, 0, 0, 0, 0, 0, 0, 0, 0, 0, 0, 0, 0, 0, 0, 0, 0, 0, 0, 0, 0, 0, 0, 0, 0, 0, 0, 0, 0, 0, 0, 0, 0, 0, 0, 0, 0, 0, 0, 0, 0, 0, 0, 0, 0, 0, 0, 0, 0, 0, 0, 0, 0, 0, 0, 0, 0, 0, 0, 0, 0, 0, 0, 0, 0, 0, 0, 0, 0, 0, 0, 0, 0, 0, 0, 0, 0, 0, 0, 0, 0, 0, 0, 0, 0, 0, 0, 0, 0, 0, 0, 0, 0, 0, 0, 0, 0, 0, 0, 0, 0, 0, 0, 0, 0, 0, 0, 0, 0, 0, 0, 0, 0, 0, 0, 0, 0, 0, 0, 0, 0, 1, 0, 0, 0, 0, 0, 0, 0, 0, 0, 0, 0, 0, 0, 0, 0, 0, 0, 0, 0, 0, 0, 0, 0, 0, 0, 0, 0, 0, 0, 0, 0, 0, 0, 0, 0, 0, 0, 0, 0, 0, 0, 0, 0, 0, 0, 0, 0, 0, 0, 0, 0, 0, 0, 0, 0, 0, 0, 0, 0, 0, 0, 0, 0, 0, 0, 0, 0, 0, 0, 0, 0, 0, 0, 0, 0, 0, 0, 0, 0, 0, 0, 0, 0, 0, 0, 0, 0, 0, 0, 0, 0, 0, 0, 0, 0, 0, 0, 0, 0, 0, 0, 0, 0, 0, 0, 0, 0, 0, 0, 0, 0, 0, 0, 0, 0, 0, 0, 0, 0, 0, 0, 0, 0, 0, 0, 0, 0, 0, 0, 0, 0, 0, 0, 0, 0, 0, 0, 0, 0, 0, 0, 0, 0, 0, 0, 0, 0, 0, 0, 0, 0, 0, 0, 0, 0, 0, 0, 0, 0, 0, 0, 0, 0, 0, 0, 0, 0, 0, 0, 0, 0, 0, 0, 0, 0, 0, 0, 0, 0, 0, 0, 0, 0, 0, 0, 0, 0, 0, 0, 0, 0, 0, 0, 0, 0, 0, 0, 0, 0, 0, 0, 0, 0, 0, 0, 0, 0, 0, 0, 0, 0, 0, 0, 0, 0, 0, 0, 0, 0, 0, 0, 0, 0, 0, 0, 0, 0, 0, 0, 0, 0, 0, 0, 0, 0, 0, 0, 0, 0, 0, 0, 0, 0, 0, 0, 0, 0, 0, 0, 0, 0, 0, 0, 1, 0, 0, 0, 0, 0, 0, 0, 0, 0, 0, 0, 0, 0, 0, 0, 0, 0, 0, 0, 0, 0, 0, 0, 0, 0, 0, 0, 0, 0, 0, 0, 0, 0, 0, 0, 0, 0, 0, 0, 0, 0, 0, 0, 0, 0, 0, 0, 0, 0, 0, 0, 0, 0, 0, 0, 0, 0, 0, 0, 0, 0, 0, 0, 0, 0, 0, 0, 0, 0, 0, 0, 0, 0, 0, 0, 0, 0, 0, 0, 0, 0, 0, 0, 0, 0, 0, 1, 0, 0, 0, 0, 0, 0, 0, 0, 0, 0, 0, 0, 0, 0, 0, 0, 0, 0, 0, 0, 0, 0, 0, 0, 0, 0, 0, 0, 0, 0, 0, 0, 0, 0, 0, 0, 0, 0, 0, 0, 0, 0, 0, 0, 0, 0, 0, 0, 0, 0, 0, 0, 0, 0, 0, 0, 0, 0, 0, 0, 0, 0, 0, 0, 0, 0, 0, 0, 0, 0, 0, 0, 0, 0, 0, 0, 0, 0, 0, 0, 0, 0, 0, 0, 0, 0, 0, 0, 0, 0, 0, 0, 0, 0, 0, 0, 0, 0, 0, 0, 0, 0, 0, 0, 0, 0, 0, 0, 0, 0, 0, 0, 0, 0, 0, 0, 0, 0, 0, 0, 0, 0, 0, 0, 0, 0, 0, 0, 0, 0, 0, 0, 0, 0, 0, 0, 0, 0, 0, 0, 0, 0, 0, 0, 0, 0, 0, 0, 0, 0, 0, 0, 0, 0, 0, 0, 0, 0, 0, 0, 0, 0, 0, 0, 0, 0, 0, 0, 0, 0, 0, 0, 0, 0, 0, 0, 0, 0, 0, 0, 0, 0, 0, 0, 0, 0, 0, 0, 0, 0, 0, 0, 0, 0, 0, 0, 0, 0, 0, 0, 0, 0, 0, 0, 0, 0, 0, 0, 0, 0, 0, 0, 0, 0, 0, 0, 0, 0, 0, 0, 0, 0, 0, 0, 0, 0, 0, 0, 0, 0, 0, 0, 0, 0, 0, 0, 0, 0, 0, 0, 0, 0, 0, 0, 0, 0, 0, 0, 0, 0, 0, 0, 1, 0, 0, 0, 0, 0, 0, 0, 0, 0, 0, 0, 0, 0, 0, 0, 0, 0, 0, 0, 0, 0, 0, 0, 0, 0, 0, 0, 0, 0, 0, 0, 0, 0, 0, 0, 0, 0, 0, 0, 0, 0, 0, 0, 0, 0, 0, 0, 0, 0, 0, 0, 0, 0, 0, 0, 1, 0, 0, 0, 0, 0, 0, 0, 0, 0, 0, 0, 0, 0, 0, 0, 0, 0, 0, 0, 0, 0, 0, 0, 0, 0, 0, 0, 0, 0, 0, 0, 0, 0, 0, 0, 0, 0, 0, 0, 0, 0, 0, 0, 0, 0, 0, 0, 0, 0, 0, 0, 0, 0, 0, 0, 0, 0, 0, 0, 0, 0, 0, 0, 0, 0, 0, 0, 0, 0, 0, 0, 0, 0, 0, 0, 0, 0, 0, 0, 0, 0, 0, 0, 0, 0, 0, 0, 0, 0, 0, 0, 0, 0, 0, 0, 0, 0, 0, 0, 0, 0, 0, 0, 0, 0, 0, 0, 0, 0, 0, 0, 0, 0, 0, 0, 0, 0, 0, 0, 0, 0, 0, 0, 0, 0, 0, 0, 0, 0, 0, 0, 0, 0, 0, 0, 0, 0, 0, 0, 0, 0, 0, 0, 0, 0, 0, 0, 0, 0, 0, 0, 0, 0, 0, 0, 0, 0, 0, 0, 0, 0, 0, 0, 0, 0, 0, 0, 0, 0, 0, 0, 0, 0, 0, 0, 0, 0, 0, 0, 0, 0, 0, 0, 0, 0, 0, 0, 0, 0, 0, 0, 0, 0, 0, 0, 0, 0, 0, 0, 0, 0, 0, 0, 0, 0, 0, 0, 0, 0, 0, 0, 0, 0, 0, 0, 0, 0, 0, 0, 0, 0, 0, 0, 0, 0, 0, 0, 0, 0, 0, 0, 0, 0, 0, 0, 0, 0, 0, 0, 0, 0, 0, 0, 0, 0, 0, 0, 0, 0, 0, 0, 0, 0, 0, 0, 0, 0, 0, 0, 0, 0, 0, 0, 0, 0, 0, 0, 0, 0, 0, 0, 0, 0, 0, 0, 0, 0, 0, 0, 0, 0, 0, 0, 0, 0, 0, 0, 0, 0, 0, 0, 0, 0, 0, 0, 0, 0, 0, 0, 0, 0, 0, 0, 0, 0, 0, 0, 0, 0, 0, 0, 0, 0, 0, 0, 0, 0, 0, 0, 0, 0, 0, 0, 0, 0, 0, 0, 0, 0, 0, 0, 0, 0, 0, 0, 0, 0, 0, 0, 0, 0, 0, 0, 0, 0, 0, 0, 0, 0, 0, 0, 0, 0, 0, 0, 0, 0, 0, 0, 0, 0, 0, 0, 0, 0, 0, 0, 0, 0, 0, 0, 0, 0, 0, 0, 0, 0, 0, 0, 0, 0, 0, 0, 0, 0, 0, 0, 0, 0, 0, 0, 0, 0, 0, 0, 0, 0, 0, 0, 0, 0, 0, 0, 0, 0, 0, 0, 0, 0, 0, 0, 0, 0, 0, 0, 0, 0, 0, 0, 0, 0, 0, 0, 0, 0, 0, 0, 0, 0, 0, 0, 0, 0, 0, 0, 0, 0, 0, 0, 0, 0, 0, 0, 0, 0, 0, 0, 0, 0, 0, 0, 0, 0, 0, 0, 0, 0, 0, 0, 0, 0, 0, 0, 0, 0, 0, 0, 0, 0, 0, 0, 0, 0, 0, 0, 0, 0, 0, 0, 0, 0, 0, 0, 0, 0, 0, 0, 0, 0, 0, 0, 0, 0, 0, 0, 0, 0, 0, 0, 0, 0, 0, 0, 0, 0, 0, 0, 0, 0, 0, 0, 0, 0, 0, 0, 0, 0, 0, 0, 0, 0, 0, 0, 0, 0, 0, 0, 0, 0, 0, 0, 0, 0, 0, 0, 0, 0, 0, 0, 0, 0, 0, 0, 0, 0, 0, 0, 0, 0, 0, 0, 0, 0, 0, 0, 0, 0, 0, 0, 0, 0, 0, 0, 0, 0, 0, 0, 0, 0, 0, 0, 0, 0, 0, 0, 0, 0, 0, 0, 0, 0, 0, 0, 0, 0, 0, 0, 0, 0, 0, 0, 0, 0, 0, 0, 0, 0, 0, 0, 0, 0, 0, 0, 0, 0, 0, 0, 0, 0, 0, 0, 0, 0, 0, 0, 0, 0, 0, 0, 0, 0, 0, 0, 0, 0, 0, 0, 0, 0, 0, 0, 0, 0, 0, 0, 0, 0, 0, 0, 0, 0, 0, 0, 0, 0, 0, 0, 0, 0, 0, 0, 0, 0, 0, 0, 0, 0, 0, 0, 0, 0, 0, 0, 0, 0, 0, 0, 0, 0, 0, 0, 0, 0, 0, 0, 0, 0, 0, 0, 0, 0, 1, 0, 0, 0, 0, 0, 0, 0, 0, 0, 0, 0, 0, 0, 0, 0, 0, 0, 0, 0, 0, 0, 0, 0, 0, 0, 0, 0, 0, 0, 0, 0, 0, 0, 0, 0, 0, 0, 0, 0, 0, 0, 0, 0, 0, 0, 0, 0, 0, 0, 0, 0, 0, 0, 0, 0, 0, 0, 0, 0, 0, 0, 0, 0, 0, 0, 0, 0, 0, 0, 0, 0, 0, 0, 0, 1, 0, 0, 0, 0, 0, 0, 0, 0, 0, 0, 0, 0, 0, 0, 0, 0, 0, 0, 0, 0, 1, 0, 0, 1, 0, 0, 0, 0, 0, 0, 0, 0, 0, 0, 0, 0, 0, 0, 0, 0, 0, 0, 0, 0, 0, 0, 0, 0, 0, 0, 0, 0, 0, 0, 0, 0, 0, 0, 0, 0, 0, 0, 0, 0, 0, 0, 0, 0, 0, 0, 0, 0, 0, 0, 0, 0, 0, 0, 0, 0, 0, 0, 0, 0, 0, 0, 0, 0, 0, 0, 0, 0, 0, 0, 0, 0, 0, 0, 0, 0, 0, 0, 0, 0, 0, 0, 0, 0, 0, 0, 0, 0, 0, 0, 0, 0, 0, 0, 0, 0, 0, 0, 0, 0, 0, 0, 0, 0, 0, 0, 0, 0, 0, 0, 0, 0, 0, 0, 0, 0, 0, 0, 0, 0, 0, 0, 0, 0, 0, 0, 0, 0, 0, 0, 0, 0, 0, 0, 0, 0, 0, 0, 0, 0, 0, 0, 0, 0, 0, 0, 0, 0, 0, 0, 0, 0, 0, 0, 0, 0, 0, 0, 0, 0, 0, 0, 0, 0, 0, 0, 0, 0, 0, 0, 0, 0, 0, 0, 0, 0, 0, 0, 0, 0, 0, 0, 0, 0, 0, 0, 0, 0, 0, 0, 0, 0, 0, 0, 0, 0, 0, 0, 0, 0, 0, 0, 0, 0, 0, 0, 0, 0, 0, 0, 0, 0, 0, 0, 0, 0, 0, 0, 0, 0, 0, 0, 0, 0, 0, 0, 0, 0, 0, 0, 0, 0, 0, 0, 0, 0, 0, 0, 0, 0, 0, 0, 0, 0, 0, 0, 0, 0, 0, 0, 0, 0, 0, 0, 0, 0, 0, 0, 0, 0, 0, 0, 0, 0, 0, 0, 0, 0, 0, 0, 0, 0, 0, 0, 0, 0, 0, 0, 0, 0, 0, 0, 0, 0, 0, 0, 0, 0, 0, 0, 0, 0, 0, 0, 0, 0, 0, 0, 0, 0, 0, 0, 0, 0, 0, 0, 0, 0, 0, 0, 0, 0, 0, 0, 0, 0, 0, 0, 0, 0, 0, 0, 0, 0, 0, 0, 0, 0, 0, 0, 0, 0, 0, 0, 0, 0, 0, 0, 0, 0, 0, 0, 0, 0, 0, 0, 0, 0, 0, 0, 0, 0, 0, 0, 0, 0, 0, 0, 0, 0, 0, 0, 0, 0, 0, 0, 0, 0, 0, 0, 0, 0, 0, 0, 0, 0, 0, 0, 0, 0, 0, 0, 0, 0, 0, 0, 0, 0, 0, 0, 0, 0, 0, 0, 0, 0, 0, 0, 0, 0, 0, 0, 0, 0, 0, 0, 0, 0, 0, 0, 0, 0, 0, 0, 0, 0, 0, 0, 0, 0, 0, 0, 0, 0, 0, 0, 0, 0, 0, 0, 0, 0, 0, 0, 0, 0, 0, 0, 0, 0, 0, 0, 0, 0, 0, 0, 0, 0, 0, 0, 0, 0, 0, 0, 0, 0, 0, 0, 0, 0, 0, 0, 0, 0, 0, 0, 1, 0, 0, 0, 0, 0, 0, 0, 0, 0, 0, 0, 0, 0, 0, 0, 0, 0, 0, 0, 0, 0, 0, 0, 0, 0, 0, 0, 0, 0, 0, 0, 0, 0, 0, 0, 0, 0, 0, 0, 0, 0, 0, 0, 0, 0, 0, 0, 0, 0, 0, 0, 0, 0, 0, 0, 0, 0, 0, 0, 0, 0, 0, 0, 0, 0, 0, 0, 0, 0, 0, 0, 0, 0, 0, 0, 0, 0, 0, 0, 0, 0, 0, 0, 0, 0, 0, 0, 0, 0, 0, 0, 0, 0, 0, 0, 0, 0, 0, 0, 0, 0, 0, 0, 0, 0, 0, 0, 0, 0, 0, 0, 0, 0, 0, 0, 0, 0, 0, 0, 0, 0, 0, 0, 0, 0, 0, 0, 0, 0, 0, 0, 0, 0, 0, 0, 0, 0, 0, 0, 0, 0, 0, 0, 0, 0, 0, 0, 0, 0, 0, 0, 0, 0, 0, 0, 0, 0, 0, 0, 0, 0, 0, 0, 0, 0, 0, 0, 0, 0, 0, 0, 0, 0, 0, 0, 0, 0, 0, 0, 0, 0, 0, 0, 0, 0, 0, 0, 0, 0, 0, 0, 0, 0, 0, 0, 0, 0, 0, 0, 0, 0, 0, 0, 0, 0, 0, 0, 0, 0, 0, 0, 0, 0, 0, 0, 0, 0, 0, 0, 0, 0, 0, 0, 0, 0, 0, 0, 0, 0, 0, 0, 0, 0, 0, 0, 0, 0, 0, 0, 0, 0, 0, 0, 0, 0, 0, 0, 0, 0, 0, 0, 0, 0, 0, 0, 0, 0, 0, 0, 0, 0, 0, 0, 0, 0, 0, 0, 0, 0, 0, 0, 0, 0, 0, 0, 0, 0, 0, 0, 0, 0, 0, 0, 0, 0, 0, 0, 0, 0, 0, 0, 0, 0, 0, 0, 0, 0, 0, 0, 0, 0, 0, 0, 0, 0, 0, 0, 0, 0, 0, 0, 0, 0, 0, 0, 0, 0, 0, 0, 0, 0, 0, 0, 0, 0, 0, 0, 0, 0, 0, 0, 0, 0, 0, 0, 0, 0, 0, 0, 0, 0, 0, 0, 0, 0, 0, 0, 0, 0, 0, 0, 0, 0, 0, 0, 0, 0, 0, 0, 0, 0, 0, 0, 0, 0, 0, 0, 0, 0, 0, 0, 0, 0, 0, 0, 0, 0, 0, 0, 0, 0, 0, 0, 0, 0, 0, 0, 0, 0, 0, 0, 0, 0, 0, 0, 0, 0, 0, 0, 0, 0, 0, 0, 0, 0, 0, 0, 0, 0, 0, 0, 0, 0, 0, 0, 0, 0, 0, 0, 0, 0, 0, 0, 0, 0, 0, 0, 0, 0, 0, 0, 0, 0, 0, 0, 0, 0, 0, 0, 0, 0, 0, 0, 0, 0, 0, 0, 0, 0, 0, 0, 0, 0, 0, 0, 0, 0, 0, 0, 0, 0, 0, 0, 0, 0, 0, 0, 0, 0, 0, 0, 0, 0, 0, 0, 0, 0, 0, 0, 0, 0, 0, 0, 0, 0, 0, 0, 0, 0, 0, 0, 0, 0, 0, 0, 0, 0, 0, 0, 0, 0, 0, 0, 0, 0, 0, 0, 0, 0, 0, 0, 0, 1, 0, 0, 0, 0, 0, 0, 0, 0, 0, 0, 0, 0, 0, 0, 0, 0, 0, 0, 0, 0, 0, 0, 0, 0, 0, 0, 0, 0, 0, 0, 0, 0, 0, 0, 0, 2, 0, 0, 0, 0, 0, 0, 0, 0, 0, 0, 0, 0, 0, 0, 0, 0, 0, 0, 0, 0, 0, 0, 0, 0, 0, 0, 0, 0, 0, 0, 0, 0, 0, 0, 0, 0, 0, 0, 0, 0, 1, 0, 0, 0, 0, 0, 0, 0, 0, 0, 0, 0, 0, 0, 0, 0, 0, 0, 0, 0, 0, 0, 0, 0, 0, 0, 0, 0, 0, 0, 0, 0, 0, 0, 0, 0, 0, 0, 0, 0, 0, 0, 0, 0, 0, 0, 0, 0, 0, 0, 0, 0, 0, 0, 0, 0, 0, 0, 0, 0, 0, 0, 0, 0, 0, 0, 0, 0, 0, 0, 0, 0, 0, 0, 0, 0, 0, 0, 0, 0, 0, 0, 0, 0, 0, 0, 0, 0, 0, 0, 0, 0, 0, 0, 0, 0, 0, 0, 0, 0, 0, 0, 0, 0, 0, 0, 0, 0, 0, 0, 0, 0, 0, 0, 0, 0, 0, 0, 0, 0, 0, 0, 0, 0, 0, 0, 0, 0, 0, 0, 0, 0, 0, 0, 0, 0, 0, 0, 0, 0, 0, 0, 0, 0, 0, 0, 0, 0, 0, 0, 0, 0, 0, 0, 0, 0, 0, 0, 0, 0, 0, 0, 0, 0, 0, 0, 0, 0, 0, 0, 0, 0, 0, 0, 0, 0, 0, 0, 0, 0, 0, 0, 0, 0, 0, 0, 0, 0, 0, 0, 0, 0, 0, 0, 0, 0, 0, 0, 0, 0, 0, 0, 0, 0, 0, 0, 0, 0, 0, 0, 0, 0, 0, 0, 0, 0, 0, 0, 0, 0, 0, 0, 0, 0, 0, 0, 0, 0, 0, 0, 0, 0, 0, 0, 0, 0, 0, 0, 0, 0, 0, 0, 0, 0, 0, 0, 0, 0, 0, 0, 0, 0, 0, 0, 0, 0, 0, 0, 0, 0, 0, 0, 0, 0, 0, 0, 0, 0, 0, 0, 0, 0, 0, 0, 0, 0, 0, 0, 0, 0, 0, 0, 0, 0, 0, 0, 0, 0, 0, 0, 0, 0, 0, 0, 0, 0, 0, 0, 0, 0, 0, 0, 0, 0, 0, 0, 0, 0, 0, 0, 0, 0, 0, 0, 0, 0, 0, 0, 0, 0, 0, 0, 0, 0, 0, 0, 0, 0, 0, 0, 0, 0, 0, 0, 0, 0, 0, 0, 0, 0, 0, 0, 0, 0, 0, 0, 0, 0, 0, 0, 0, 0, 0, 0, 0, 0, 0, 0, 0, 0, 0, 0, 0, 0, 0, 0, 0, 0, 0, 0, 0, 0, 0, 0, 0, 0, 0, 0, 0, 0, 0, 0, 0, 0, 0, 0, 0, 0, 0, 0, 0, 0, 0, 0, 0, 0, 0, 0, 0, 0, 0, 0, 0, 0, 0, 0, 0, 0, 0, 0, 0, 0, 0, 0, 0, 0, 0, 0, 0, 0, 0, 0, 0, 0, 0, 0, 0, 0, 0, 0, 0, 0, 0, 0, 0, 0, 0, 0, 0, 0, 0, 0, 0, 0, 0, 0, 0, 0, 0, 0, 0, 0, 0, 0, 0, 0, 0, 0, 0, 0, 0, 0, 0, 0, 0, 0, 0, 0, 0, 0, 0, 0, 0, 0, 0, 0, 0, 0, 0, 0, 0, 0, 0, 0, 0, 0, 0, 0, 0, 0, 0, 0, 0, 0, 0, 0, 0, 0, 1, 0, 0, 0, 0, 0, 0, 0, 0, 0, 0, 0, 0, 0, 0, 0, 0, 0, 0, 0, 0, 0, 0, 0, 0, 0, 0, 0, 0, 0, 0, 0, 0, 0, 0, 0, 0, 0, 0, 0, 0, 0, 0, 0, 0, 0, 0, 0, 0, 0, 0, 0, 0, 0, 0, 0, 0, 0, 0, 0, 0, 0, 0, 0, 0, 0, 0, 0, 0, 0, 0, 0, 0, 0, 0, 0, 0, 0, 0, 0, 0, 0, 0, 0, 0, 0, 0, 0, 0, 0, 0, 0, 0, 0, 0, 0, 0, 0, 0, 0, 0, 0, 0, 0, 0, 0, 0, 0, 0, 0, 0, 2, 0, 0, 0, 0, 0, 0, 0, 0, 0, 0, 0, 0, 0, 0, 0, 0, 0, 0, 0, 0, 0, 0, 0, 0, 0, 0, 0, 0, 0, 0, 0, 0, 0, 0, 0, 0, 0, 0, 0, 0, 0, 0, 0, 0, 0, 0, 0, 0, 0, 0, 0, 0, 0, 0, 0, 0, 0, 0, 0, 0, 0, 0, 0, 0, 0, 0, 0, 0, 0, 0, 0, 0, 0, 0, 0, 0, 0, 0, 0, 0, 0, 0, 0, 0, 0, 0, 0, 0, 0, 0, 0, 0, 0, 0, 0, 0, 0, 0, 0, 0, 0, 0, 0, 0, 0, 0, 0, 0, 0, 0, 0, 0, 0, 0, 0, 0, 0, 0, 0, 0, 0, 0, 0, 0, 0, 0, 0, 0, 0, 0, 0, 0, 0, 0, 0, 0, 0, 0, 0, 0, 0, 0, 0, 0, 0, 0, 0, 0, 0, 0, 0, 0, 0, 0, 0, 0, 0, 0, 0, 0, 0, 0, 0, 0, 0, 0, 0, 0, 0, 0, 0, 0, 0, 0, 0, 0, 0, 0, 0, 0, 0, 0, 0, 0, 0, 0, 0, 0, 0, 0, 0, 0, 0, 0, 0, 0, 0, 0, 0, 0, 0, 0, 0, 0, 0, 0, 0, 0, 0, 0, 0, 0, 0, 0, 0, 0, 0, 0, 0, 0, 0, 0, 0, 0, 0, 0, 0, 0, 0, 0, 0, 0, 0, 0, 0, 0, 0, 0, 0, 0, 0, 0, 0, 0, 0, 0, 0, 0, 0, 0, 0, 0, 0, 0, 0, 0, 0, 0, 0, 0, 0, 0, 0, 0, 0, 0, 0, 0, 0, 0, 0, 0, 0, 0, 0, 0, 0, 0, 0, 0, 0, 0, 0, 0, 0, 0, 0, 0, 0, 0, 0, 0, 0, 0, 0, 0, 0, 0, 0, 0, 0, 0, 0, 0, 0, 0, 0, 0, 0, 0, 0, 0, 0, 0, 0, 0, 0, 0, 0, 0, 0, 0, 0, 0, 0, 0, 0, 0, 0, 0, 0, 0, 0, 0, 0, 0, 0, 0, 0, 0, 0, 0, 0, 0, 0, 0, 0, 0, 0, 0, 0, 0, 0, 0, 0, 0, 0, 0, 0, 0, 0, 0, 0, 0, 0, 0, 0, 0, 0, 0, 0, 0, 0, 0, 0, 0, 0, 0, 0, 0, 0, 0, 0, 0, 0, 0, 0, 0, 0, 0, 0, 0, 0, 0, 0, 0, 0, 0, 0, 0, 0, 0, 0, 0, 0, 0, 0, 0, 0, 0, 0, 0, 0, 0, 0, 0, 0, 0, 0, 0, 0, 0, 0, 0, 0, 0, 0, 0, 0, 0, 0, 0, 0, 0, 0, 0, 0, 0, 0, 0, 0, 0, 0, 0, 0, 0, 0, 0, 0, 0, 0, 0, 0, 0, 0, 0, 0, 0, 0, 0, 0, 0, 0, 0, 0, 0, 0, 0, 0, 0, 0, 0, 0, 0, 0, 0, 0, 0, 0, 0, 0, 0, 0, 0, 0, 0, 0, 0, 0, 0, 0, 0, 0, 0, 0, 0, 0, 0, 0, 0, 0, 0, 0, 0, 0, 0, 0, 0, 0, 0, 0, 0, 0, 0, 0, 0, 0, 0, 0, 0, 0, 0, 0, 0, 0, 0, 0, 0, 0, 0, 0, 0, 0, 0, 0, 0, 0, 0, 0, 0, 0, 0, 0, 0, 0, 0, 0, 0, 0, 0, 0, 0, 0, 0, 0, 0, 0, 0, 0, 0, 0, 0, 0, 0, 0, 0, 0, 0, 0, 0, 0, 0, 0, 0, 0, 0, 0, 0, 0, 0, 0, 0, 0, 0, 0, 0, 0, 0, 0, 0, 0, 0, 0, 0, 0, 0, 0, 0, 0, 0, 0, 0, 0, 0, 0, 0, 0, 0, 0, 0, 0, 0, 0, 0, 0, 0, 0, 0, 0, 0, 0, 0, 0, 0, 0, 0, 0, 0, 0, 0, 0, 0, 0, 0, 0, 0, 0, 0, 0, 0, 0, 0, 0, 0, 0, 0, 0, 0, 0, 0, 0, 0, 0, 0, 0, 0, 0, 0, 0, 0, 0, 0, 0, 0, 0, 0, 0, 0, 0, 0, 0, 0, 0, 0, 0, 0, 0, 0, 0, 0, 0, 0, 0, 0, 0, 0, 0, 0, 0, 0, 1, 0, 0, 0, 0, 0, 0, 0, 0, 0, 0, 0, 0, 0, 0, 0, 0, 0, 0, 0, 0, 0, 0, 0, 0, 0, 0, 0, 0, 0, 0, 0, 0, 0, 0, 0, 0, 0, 0, 0, 0, 0, 0, 0, 0, 0, 0, 0, 0, 0, 0, 0, 0, 0, 0, 0, 0, 0, 0, 0, 0, 0, 0, 0, 0, 0, 0, 0, 0, 0, 0, 0, 0, 0, 0, 0, 0, 0, 0, 0, 0, 0, 0, 0, 0, 0, 0, 0, 0, 0, 0, 0, 0, 0, 0, 0, 0, 0, 0, 0, 0, 0, 0, 0, 0, 0, 0, 0, 1, 0, 0, 0, 0, 0, 0, 0, 0, 0, 0, 0, 0, 0, 0, 0, 0, 0, 0, 0, 0, 0, 0, 0, 0, 0, 0, 0, 0, 0, 0, 0, 0, 0, 0, 0, 0, 0, 0, 0, 0, 0, 0, 0, 0, 0, 0, 0, 0, 0, 0, 0, 0, 0, 0, 0, 0, 0, 0, 0, 0, 0, 0, 0, 0, 0, 0, 0, 0, 0, 0, 0, 0, 0, 0, 0, 0, 0, 0, 0, 0, 0, 0, 0, 0, 0, 0, 0, 0, 0, 0, 0, 0, 0, 0, 0, 0, 0, 0, 0, 0, 0, 0, 0, 0, 0, 0, 0, 0, 0, 0, 0, 0, 0, 0, 0, 0, 0, 0, 0, 0, 0, 0, 0, 0, 0, 0, 0, 0, 0, 0, 0, 0, 0, 0, 0, 0, 0, 0, 0, 0, 0, 0, 0, 0, 0, 0, 0, 0, 0, 0, 0, 0, 0, 0, 0, 0, 0, 0, 0, 0, 0, 0, 0, 0, 0, 0, 0, 0, 0, 0, 0, 0, 0, 0, 0, 0, 0, 0, 0, 0, 0, 0, 0, 0, 0, 0, 0, 0, 0, 0, 0, 0, 0, 0, 0, 0, 0, 0, 0, 0, 0, 0, 0, 0, 0, 0, 0, 0, 0, 0, 0, 0, 0, 0, 0, 0, 0, 0, 0, 0, 0, 0, 0, 0, 0, 0, 0, 0, 0, 0, 0, 0, 0, 0, 0, 0, 0, 0, 0, 0, 0, 0, 0, 0, 0, 0, 0, 0, 0, 0, 0, 0, 0, 0, 0, 0, 0, 0, 0, 0, 0, 0, 0, 0, 0, 0, 0, 0, 0, 0, 0, 0, 0, 0, 0, 0, 0, 0, 0, 0, 0, 0, 0, 0, 0, 0, 0, 0, 0, 0, 0, 0, 0, 0, 0, 0, 0, 0, 0, 0, 0, 0, 0, 0, 0, 0, 0, 0, 0, 0, 0, 0, 0, 0, 0, 0, 0, 0, 0, 0, 0, 0, 0, 0, 0, 0, 0, 0, 0, 0, 0, 0, 0, 0, 0, 0, 0, 0, 0, 0, 0, 0, 0, 0, 0, 0, 0, 0, 0, 0, 0, 0, 0, 0, 0, 0, 0, 0, 0, 0, 0, 0, 0, 0, 0, 0, 0, 0, 0, 0, 0, 0, 0, 0, 0, 0, 0, 0, 0, 0, 0, 0, 0, 0, 0, 0, 0, 0, 0, 0, 0, 0, 0, 0, 0, 0, 0, 0, 0, 0, 0, 0, 0, 0, 0, 0, 0, 0, 0, 0, 0, 0, 0, 0, 0, 0, 0, 0, 0, 0, 0, 0, 0, 0, 0, 0, 0, 0, 0, 0, 0, 0, 0, 0, 0, 0, 0, 0, 0, 0, 0, 0, 0, 0, 0, 0, 0, 0, 0, 0, 0, 0, 0, 0, 0, 0, 0, 0, 0, 0, 0, 0, 0, 2, 0, 1, 0]\n"
     ]
    }
   ],
   "source": [
    "test_bow = bow_encoding(test_words, vocabulary)\n",
    "print(test_bow)"
   ]
  },
  {
   "cell_type": "code",
   "execution_count": 42,
   "metadata": {},
   "outputs": [
    {
     "data": {
      "text/plain": [
       "5000"
      ]
     },
     "execution_count": 42,
     "metadata": {},
     "output_type": "execute_result"
    }
   ],
   "source": [
    "len(test_bow)"
   ]
  },
  {
   "cell_type": "markdown",
   "metadata": {},
   "source": [
    "So now we know how to construct a bag of words encoding of a user provided review, how to we send it to our endpoint? First, we need to start the endpoint back up."
   ]
  },
  {
   "cell_type": "code",
   "execution_count": 43,
   "metadata": {},
   "outputs": [
    {
     "name": "stderr",
     "output_type": "stream",
     "text": [
      "Parameter image will be renamed to image_uri in SageMaker Python SDK v2.\n",
      "Using already existing model: xgboost-2021-05-05-09-16-27-497\n"
     ]
    },
    {
     "name": "stdout",
     "output_type": "stream",
     "text": [
      "-------------!"
     ]
    }
   ],
   "source": [
    "xgb_predictor = xgb.deploy(initial_instance_count = 1, instance_type = 'ml.m4.xlarge')"
   ]
  },
  {
   "cell_type": "markdown",
   "metadata": {},
   "source": [
    "At this point we could just do the same thing that we did earlier when we tested our deployed model and send `test_bow` to our endpoint using the `xgb_predictor` object. However, when we eventually construct our Lambda function we won't have access to this object, so how do we call a SageMaker endpoint?\n",
    "\n",
    "It turns out that Python functions that are used in Lambda have access to another Amazon library called `boto3`. This library provides an API for working with Amazon services, including SageMaker. To start with, we need to get a handle to the SageMaker runtime."
   ]
  },
  {
   "cell_type": "code",
   "execution_count": 44,
   "metadata": {},
   "outputs": [],
   "source": [
    "import boto3\n",
    "\n",
    "runtime = boto3.Session().client('sagemaker-runtime')"
   ]
  },
  {
   "cell_type": "markdown",
   "metadata": {},
   "source": [
    "And now that we have access to the SageMaker runtime, we can ask it to make use of (invoke) an endpoint that has already been created. However, we need to provide SageMaker with the name of the deployed endpoint. To find this out we can print it out using the `xgb_predictor` object."
   ]
  },
  {
   "cell_type": "code",
   "execution_count": 45,
   "metadata": {},
   "outputs": [
    {
     "data": {
      "text/plain": [
       "'xgboost-2021-05-05-09-16-27-497'"
      ]
     },
     "execution_count": 45,
     "metadata": {},
     "output_type": "execute_result"
    }
   ],
   "source": [
    "xgb_predictor.endpoint"
   ]
  },
  {
   "cell_type": "markdown",
   "metadata": {},
   "source": [
    "Using the SageMaker runtime and the name of our endpoint, we can invoke the endpoint and send it the `test_bow` data."
   ]
  },
  {
   "cell_type": "code",
   "execution_count": 46,
   "metadata": {},
   "outputs": [
    {
     "ename": "ParamValidationError",
     "evalue": "Parameter validation failed:\nInvalid type for parameter Body, value: [0, 0, 0, 0, 0, 0, 0, 0, 0, 0, 0, 0, 0, 0, 0, 0, 0, 0, 0, 0, 0, 0, 0, 0, 0, 0, 0, 0, 0, 0, 0, 0, 0, 0, 0, 0, 0, 0, 0, 0, 0, 0, 0, 0, 0, 0, 0, 0, 0, 0, 0, 0, 0, 0, 0, 0, 0, 0, 0, 0, 0, 0, 0, 0, 0, 0, 0, 0, 0, 0, 0, 0, 0, 0, 0, 0, 0, 0, 0, 0, 0, 0, 0, 0, 0, 0, 0, 0, 0, 0, 0, 0, 0, 0, 0, 0, 0, 0, 0, 0, 0, 0, 0, 0, 0, 0, 0, 0, 0, 0, 0, 0, 0, 0, 0, 0, 0, 0, 0, 0, 0, 0, 0, 0, 0, 0, 0, 0, 0, 0, 0, 0, 0, 0, 0, 0, 0, 0, 0, 0, 0, 0, 0, 0, 0, 0, 0, 0, 0, 0, 0, 0, 0, 0, 0, 0, 0, 0, 0, 0, 0, 0, 0, 0, 0, 0, 0, 0, 0, 0, 0, 0, 0, 0, 0, 0, 0, 0, 0, 0, 0, 0, 0, 0, 0, 0, 0, 0, 0, 0, 0, 0, 0, 0, 0, 0, 0, 0, 0, 0, 0, 0, 0, 0, 0, 0, 0, 0, 0, 0, 0, 0, 0, 0, 0, 0, 0, 0, 0, 0, 0, 0, 0, 0, 0, 0, 1, 0, 0, 0, 0, 0, 0, 0, 0, 0, 0, 0, 0, 0, 0, 0, 0, 0, 0, 0, 0, 0, 0, 0, 0, 0, 0, 0, 0, 0, 1, 0, 0, 0, 0, 0, 0, 0, 0, 0, 0, 0, 0, 0, 0, 0, 0, 0, 0, 0, 0, 0, 0, 0, 0, 0, 0, 0, 0, 0, 0, 0, 0, 0, 0, 0, 0, 0, 0, 0, 0, 0, 0, 0, 0, 0, 0, 0, 0, 0, 0, 0, 0, 0, 0, 0, 0, 0, 0, 0, 0, 0, 0, 0, 0, 0, 0, 0, 0, 0, 0, 0, 0, 0, 0, 0, 0, 0, 0, 0, 0, 0, 0, 0, 0, 0, 0, 0, 0, 0, 0, 0, 0, 0, 0, 0, 0, 0, 0, 0, 0, 0, 0, 0, 0, 0, 0, 0, 0, 0, 0, 0, 0, 0, 0, 0, 0, 0, 0, 0, 0, 0, 0, 0, 0, 0, 0, 0, 0, 0, 0, 0, 0, 0, 0, 0, 0, 0, 0, 0, 0, 0, 0, 0, 0, 0, 0, 0, 0, 0, 0, 0, 0, 0, 0, 0, 0, 0, 0, 0, 0, 0, 0, 0, 0, 0, 0, 0, 0, 0, 0, 0, 0, 0, 0, 0, 0, 0, 0, 0, 0, 0, 0, 0, 0, 0, 0, 0, 0, 0, 0, 0, 0, 0, 0, 0, 0, 0, 0, 0, 0, 0, 0, 0, 0, 0, 0, 0, 0, 0, 0, 0, 0, 0, 0, 0, 0, 0, 0, 0, 0, 0, 0, 0, 0, 0, 0, 0, 0, 0, 0, 0, 0, 0, 0, 0, 0, 0, 0, 0, 0, 0, 0, 0, 0, 0, 0, 0, 0, 0, 0, 0, 0, 0, 0, 0, 0, 0, 0, 0, 0, 0, 0, 0, 0, 0, 0, 0, 0, 0, 0, 0, 0, 0, 0, 0, 0, 0, 0, 0, 0, 0, 0, 0, 0, 0, 0, 0, 0, 0, 0, 0, 0, 0, 0, 0, 0, 0, 0, 0, 0, 0, 0, 0, 0, 0, 0, 0, 0, 0, 0, 0, 0, 0, 0, 0, 0, 0, 0, 0, 0, 0, 0, 0, 0, 0, 0, 0, 0, 0, 0, 0, 0, 0, 0, 0, 0, 0, 0, 0, 0, 0, 0, 0, 0, 0, 0, 0, 0, 0, 0, 0, 0, 0, 0, 0, 0, 0, 0, 0, 0, 0, 0, 0, 0, 0, 0, 0, 0, 0, 0, 0, 0, 0, 0, 0, 0, 0, 0, 0, 1, 0, 0, 0, 0, 0, 0, 0, 0, 0, 0, 0, 0, 0, 0, 0, 0, 0, 0, 0, 0, 0, 0, 0, 0, 0, 0, 0, 0, 0, 0, 0, 0, 0, 0, 0, 0, 0, 0, 0, 0, 0, 0, 0, 0, 0, 0, 0, 0, 0, 0, 0, 0, 0, 0, 0, 0, 0, 0, 0, 0, 0, 0, 0, 0, 0, 0, 0, 0, 0, 0, 0, 0, 0, 0, 0, 0, 0, 0, 0, 0, 0, 0, 0, 0, 0, 0, 0, 0, 0, 0, 0, 0, 0, 0, 0, 0, 0, 0, 0, 0, 0, 0, 0, 0, 0, 0, 0, 0, 0, 0, 0, 0, 0, 0, 0, 0, 0, 0, 0, 0, 0, 0, 0, 0, 0, 0, 0, 0, 0, 0, 0, 0, 0, 0, 0, 0, 0, 0, 0, 0, 0, 0, 0, 0, 0, 0, 0, 0, 0, 0, 0, 0, 0, 0, 0, 0, 0, 0, 0, 0, 0, 0, 0, 0, 0, 0, 0, 0, 0, 0, 0, 0, 0, 0, 0, 0, 0, 0, 0, 0, 0, 0, 0, 0, 0, 0, 0, 0, 0, 0, 0, 0, 0, 0, 0, 0, 0, 0, 0, 0, 0, 0, 0, 0, 0, 0, 0, 0, 0, 0, 0, 0, 0, 0, 0, 0, 0, 0, 0, 0, 0, 0, 0, 0, 0, 0, 0, 0, 0, 0, 0, 0, 0, 0, 0, 0, 0, 0, 0, 0, 0, 0, 0, 0, 0, 0, 0, 0, 0, 0, 0, 0, 0, 1, 0, 0, 0, 0, 0, 0, 0, 0, 0, 0, 0, 0, 0, 0, 0, 0, 0, 0, 0, 0, 0, 0, 0, 0, 0, 0, 0, 0, 0, 0, 0, 0, 0, 0, 0, 0, 0, 0, 0, 0, 0, 0, 0, 0, 0, 0, 0, 0, 0, 0, 0, 0, 0, 0, 0, 0, 0, 0, 0, 0, 0, 0, 0, 0, 0, 0, 0, 0, 0, 0, 0, 0, 0, 0, 0, 0, 0, 0, 0, 0, 0, 0, 0, 0, 0, 0, 1, 0, 0, 0, 0, 0, 0, 0, 0, 0, 0, 0, 0, 0, 0, 0, 0, 0, 0, 0, 0, 0, 0, 0, 0, 0, 0, 0, 0, 0, 0, 0, 0, 0, 0, 0, 0, 0, 0, 0, 0, 0, 0, 0, 0, 0, 0, 0, 0, 0, 0, 0, 0, 0, 0, 0, 0, 0, 0, 0, 0, 0, 0, 0, 0, 0, 0, 0, 0, 0, 0, 0, 0, 0, 0, 0, 0, 0, 0, 0, 0, 0, 0, 0, 0, 0, 0, 0, 0, 0, 0, 0, 0, 0, 0, 0, 0, 0, 0, 0, 0, 0, 0, 0, 0, 0, 0, 0, 0, 0, 0, 0, 0, 0, 0, 0, 0, 0, 0, 0, 0, 0, 0, 0, 0, 0, 0, 0, 0, 0, 0, 0, 0, 0, 0, 0, 0, 0, 0, 0, 0, 0, 0, 0, 0, 0, 0, 0, 0, 0, 0, 0, 0, 0, 0, 0, 0, 0, 0, 0, 0, 0, 0, 0, 0, 0, 0, 0, 0, 0, 0, 0, 0, 0, 0, 0, 0, 0, 0, 0, 0, 0, 0, 0, 0, 0, 0, 0, 0, 0, 0, 0, 0, 0, 0, 0, 0, 0, 0, 0, 0, 0, 0, 0, 0, 0, 0, 0, 0, 0, 0, 0, 0, 0, 0, 0, 0, 0, 0, 0, 0, 0, 0, 0, 0, 0, 0, 0, 0, 0, 0, 0, 0, 0, 0, 0, 0, 0, 0, 0, 0, 0, 0, 0, 0, 0, 0, 0, 0, 0, 0, 0, 0, 1, 0, 0, 0, 0, 0, 0, 0, 0, 0, 0, 0, 0, 0, 0, 0, 0, 0, 0, 0, 0, 0, 0, 0, 0, 0, 0, 0, 0, 0, 0, 0, 0, 0, 0, 0, 0, 0, 0, 0, 0, 0, 0, 0, 0, 0, 0, 0, 0, 0, 0, 0, 0, 0, 0, 0, 1, 0, 0, 0, 0, 0, 0, 0, 0, 0, 0, 0, 0, 0, 0, 0, 0, 0, 0, 0, 0, 0, 0, 0, 0, 0, 0, 0, 0, 0, 0, 0, 0, 0, 0, 0, 0, 0, 0, 0, 0, 0, 0, 0, 0, 0, 0, 0, 0, 0, 0, 0, 0, 0, 0, 0, 0, 0, 0, 0, 0, 0, 0, 0, 0, 0, 0, 0, 0, 0, 0, 0, 0, 0, 0, 0, 0, 0, 0, 0, 0, 0, 0, 0, 0, 0, 0, 0, 0, 0, 0, 0, 0, 0, 0, 0, 0, 0, 0, 0, 0, 0, 0, 0, 0, 0, 0, 0, 0, 0, 0, 0, 0, 0, 0, 0, 0, 0, 0, 0, 0, 0, 0, 0, 0, 0, 0, 0, 0, 0, 0, 0, 0, 0, 0, 0, 0, 0, 0, 0, 0, 0, 0, 0, 0, 0, 0, 0, 0, 0, 0, 0, 0, 0, 0, 0, 0, 0, 0, 0, 0, 0, 0, 0, 0, 0, 0, 0, 0, 0, 0, 0, 0, 0, 0, 0, 0, 0, 0, 0, 0, 0, 0, 0, 0, 0, 0, 0, 0, 0, 0, 0, 0, 0, 0, 0, 0, 0, 0, 0, 0, 0, 0, 0, 0, 0, 0, 0, 0, 0, 0, 0, 0, 0, 0, 0, 0, 0, 0, 0, 0, 0, 0, 0, 0, 0, 0, 0, 0, 0, 0, 0, 0, 0, 0, 0, 0, 0, 0, 0, 0, 0, 0, 0, 0, 0, 0, 0, 0, 0, 0, 0, 0, 0, 0, 0, 0, 0, 0, 0, 0, 0, 0, 0, 0, 0, 0, 0, 0, 0, 0, 0, 0, 0, 0, 0, 0, 0, 0, 0, 0, 0, 0, 0, 0, 0, 0, 0, 0, 0, 0, 0, 0, 0, 0, 0, 0, 0, 0, 0, 0, 0, 0, 0, 0, 0, 0, 0, 0, 0, 0, 0, 0, 0, 0, 0, 0, 0, 0, 0, 0, 0, 0, 0, 0, 0, 0, 0, 0, 0, 0, 0, 0, 0, 0, 0, 0, 0, 0, 0, 0, 0, 0, 0, 0, 0, 0, 0, 0, 0, 0, 0, 0, 0, 0, 0, 0, 0, 0, 0, 0, 0, 0, 0, 0, 0, 0, 0, 0, 0, 0, 0, 0, 0, 0, 0, 0, 0, 0, 0, 0, 0, 0, 0, 0, 0, 0, 0, 0, 0, 0, 0, 0, 0, 0, 0, 0, 0, 0, 0, 0, 0, 0, 0, 0, 0, 0, 0, 0, 0, 0, 0, 0, 0, 0, 0, 0, 0, 0, 0, 0, 0, 0, 0, 0, 0, 0, 0, 0, 0, 0, 0, 0, 0, 0, 0, 0, 0, 0, 0, 0, 0, 0, 0, 0, 0, 0, 0, 0, 0, 0, 0, 0, 0, 0, 0, 0, 0, 0, 0, 0, 0, 0, 0, 0, 0, 0, 0, 0, 0, 0, 0, 0, 0, 0, 0, 0, 0, 0, 0, 0, 0, 0, 0, 0, 0, 0, 0, 0, 0, 0, 0, 0, 0, 0, 0, 0, 0, 0, 0, 0, 0, 0, 0, 0, 0, 0, 0, 0, 0, 0, 0, 0, 0, 0, 0, 0, 0, 0, 0, 0, 0, 0, 0, 0, 0, 0, 0, 0, 0, 0, 0, 0, 0, 0, 0, 0, 0, 0, 0, 0, 0, 0, 0, 0, 0, 0, 0, 0, 0, 0, 0, 0, 0, 0, 0, 0, 0, 0, 0, 0, 0, 0, 0, 0, 0, 0, 0, 0, 0, 0, 0, 0, 0, 0, 0, 0, 0, 0, 0, 0, 0, 0, 0, 0, 0, 0, 0, 0, 0, 0, 0, 0, 0, 0, 0, 0, 0, 0, 0, 0, 0, 0, 0, 0, 0, 0, 0, 0, 0, 0, 0, 0, 0, 0, 0, 0, 0, 0, 0, 0, 0, 0, 0, 0, 0, 0, 0, 0, 0, 0, 0, 0, 0, 0, 0, 0, 0, 0, 0, 0, 0, 0, 0, 0, 0, 0, 0, 0, 0, 0, 0, 0, 0, 0, 0, 0, 0, 0, 0, 0, 0, 0, 0, 0, 0, 0, 0, 0, 0, 0, 0, 0, 0, 0, 0, 0, 0, 0, 0, 0, 0, 1, 0, 0, 0, 0, 0, 0, 0, 0, 0, 0, 0, 0, 0, 0, 0, 0, 0, 0, 0, 0, 0, 0, 0, 0, 0, 0, 0, 0, 0, 0, 0, 0, 0, 0, 0, 0, 0, 0, 0, 0, 0, 0, 0, 0, 0, 0, 0, 0, 0, 0, 0, 0, 0, 0, 0, 0, 0, 0, 0, 0, 0, 0, 0, 0, 0, 0, 0, 0, 0, 0, 0, 0, 0, 0, 1, 0, 0, 0, 0, 0, 0, 0, 0, 0, 0, 0, 0, 0, 0, 0, 0, 0, 0, 0, 0, 1, 0, 0, 1, 0, 0, 0, 0, 0, 0, 0, 0, 0, 0, 0, 0, 0, 0, 0, 0, 0, 0, 0, 0, 0, 0, 0, 0, 0, 0, 0, 0, 0, 0, 0, 0, 0, 0, 0, 0, 0, 0, 0, 0, 0, 0, 0, 0, 0, 0, 0, 0, 0, 0, 0, 0, 0, 0, 0, 0, 0, 0, 0, 0, 0, 0, 0, 0, 0, 0, 0, 0, 0, 0, 0, 0, 0, 0, 0, 0, 0, 0, 0, 0, 0, 0, 0, 0, 0, 0, 0, 0, 0, 0, 0, 0, 0, 0, 0, 0, 0, 0, 0, 0, 0, 0, 0, 0, 0, 0, 0, 0, 0, 0, 0, 0, 0, 0, 0, 0, 0, 0, 0, 0, 0, 0, 0, 0, 0, 0, 0, 0, 0, 0, 0, 0, 0, 0, 0, 0, 0, 0, 0, 0, 0, 0, 0, 0, 0, 0, 0, 0, 0, 0, 0, 0, 0, 0, 0, 0, 0, 0, 0, 0, 0, 0, 0, 0, 0, 0, 0, 0, 0, 0, 0, 0, 0, 0, 0, 0, 0, 0, 0, 0, 0, 0, 0, 0, 0, 0, 0, 0, 0, 0, 0, 0, 0, 0, 0, 0, 0, 0, 0, 0, 0, 0, 0, 0, 0, 0, 0, 0, 0, 0, 0, 0, 0, 0, 0, 0, 0, 0, 0, 0, 0, 0, 0, 0, 0, 0, 0, 0, 0, 0, 0, 0, 0, 0, 0, 0, 0, 0, 0, 0, 0, 0, 0, 0, 0, 0, 0, 0, 0, 0, 0, 0, 0, 0, 0, 0, 0, 0, 0, 0, 0, 0, 0, 0, 0, 0, 0, 0, 0, 0, 0, 0, 0, 0, 0, 0, 0, 0, 0, 0, 0, 0, 0, 0, 0, 0, 0, 0, 0, 0, 0, 0, 0, 0, 0, 0, 0, 0, 0, 0, 0, 0, 0, 0, 0, 0, 0, 0, 0, 0, 0, 0, 0, 0, 0, 0, 0, 0, 0, 0, 0, 0, 0, 0, 0, 0, 0, 0, 0, 0, 0, 0, 0, 0, 0, 0, 0, 0, 0, 0, 0, 0, 0, 0, 0, 0, 0, 0, 0, 0, 0, 0, 0, 0, 0, 0, 0, 0, 0, 0, 0, 0, 0, 0, 0, 0, 0, 0, 0, 0, 0, 0, 0, 0, 0, 0, 0, 0, 0, 0, 0, 0, 0, 0, 0, 0, 0, 0, 0, 0, 0, 0, 0, 0, 0, 0, 0, 0, 0, 0, 0, 0, 0, 0, 0, 0, 0, 0, 0, 0, 0, 0, 0, 0, 0, 0, 0, 0, 0, 0, 0, 0, 0, 0, 0, 0, 0, 0, 0, 0, 0, 0, 0, 0, 0, 0, 0, 0, 0, 0, 0, 0, 0, 0, 0, 0, 0, 0, 0, 0, 0, 0, 0, 0, 0, 0, 0, 0, 0, 0, 0, 0, 0, 0, 0, 0, 1, 0, 0, 0, 0, 0, 0, 0, 0, 0, 0, 0, 0, 0, 0, 0, 0, 0, 0, 0, 0, 0, 0, 0, 0, 0, 0, 0, 0, 0, 0, 0, 0, 0, 0, 0, 0, 0, 0, 0, 0, 0, 0, 0, 0, 0, 0, 0, 0, 0, 0, 0, 0, 0, 0, 0, 0, 0, 0, 0, 0, 0, 0, 0, 0, 0, 0, 0, 0, 0, 0, 0, 0, 0, 0, 0, 0, 0, 0, 0, 0, 0, 0, 0, 0, 0, 0, 0, 0, 0, 0, 0, 0, 0, 0, 0, 0, 0, 0, 0, 0, 0, 0, 0, 0, 0, 0, 0, 0, 0, 0, 0, 0, 0, 0, 0, 0, 0, 0, 0, 0, 0, 0, 0, 0, 0, 0, 0, 0, 0, 0, 0, 0, 0, 0, 0, 0, 0, 0, 0, 0, 0, 0, 0, 0, 0, 0, 0, 0, 0, 0, 0, 0, 0, 0, 0, 0, 0, 0, 0, 0, 0, 0, 0, 0, 0, 0, 0, 0, 0, 0, 0, 0, 0, 0, 0, 0, 0, 0, 0, 0, 0, 0, 0, 0, 0, 0, 0, 0, 0, 0, 0, 0, 0, 0, 0, 0, 0, 0, 0, 0, 0, 0, 0, 0, 0, 0, 0, 0, 0, 0, 0, 0, 0, 0, 0, 0, 0, 0, 0, 0, 0, 0, 0, 0, 0, 0, 0, 0, 0, 0, 0, 0, 0, 0, 0, 0, 0, 0, 0, 0, 0, 0, 0, 0, 0, 0, 0, 0, 0, 0, 0, 0, 0, 0, 0, 0, 0, 0, 0, 0, 0, 0, 0, 0, 0, 0, 0, 0, 0, 0, 0, 0, 0, 0, 0, 0, 0, 0, 0, 0, 0, 0, 0, 0, 0, 0, 0, 0, 0, 0, 0, 0, 0, 0, 0, 0, 0, 0, 0, 0, 0, 0, 0, 0, 0, 0, 0, 0, 0, 0, 0, 0, 0, 0, 0, 0, 0, 0, 0, 0, 0, 0, 0, 0, 0, 0, 0, 0, 0, 0, 0, 0, 0, 0, 0, 0, 0, 0, 0, 0, 0, 0, 0, 0, 0, 0, 0, 0, 0, 0, 0, 0, 0, 0, 0, 0, 0, 0, 0, 0, 0, 0, 0, 0, 0, 0, 0, 0, 0, 0, 0, 0, 0, 0, 0, 0, 0, 0, 0, 0, 0, 0, 0, 0, 0, 0, 0, 0, 0, 0, 0, 0, 0, 0, 0, 0, 0, 0, 0, 0, 0, 0, 0, 0, 0, 0, 0, 0, 0, 0, 0, 0, 0, 0, 0, 0, 0, 0, 0, 0, 0, 0, 0, 0, 0, 0, 0, 0, 0, 0, 0, 0, 0, 0, 0, 0, 0, 0, 0, 0, 0, 0, 0, 0, 0, 0, 0, 0, 0, 0, 0, 0, 0, 0, 0, 0, 0, 0, 0, 0, 0, 0, 0, 0, 0, 0, 0, 0, 0, 0, 0, 0, 0, 0, 0, 0, 0, 0, 0, 0, 0, 0, 0, 0, 0, 0, 0, 0, 0, 0, 0, 0, 0, 0, 0, 0, 0, 0, 0, 0, 0, 0, 0, 0, 0, 0, 0, 0, 0, 0, 0, 0, 1, 0, 0, 0, 0, 0, 0, 0, 0, 0, 0, 0, 0, 0, 0, 0, 0, 0, 0, 0, 0, 0, 0, 0, 0, 0, 0, 0, 0, 0, 0, 0, 0, 0, 0, 0, 2, 0, 0, 0, 0, 0, 0, 0, 0, 0, 0, 0, 0, 0, 0, 0, 0, 0, 0, 0, 0, 0, 0, 0, 0, 0, 0, 0, 0, 0, 0, 0, 0, 0, 0, 0, 0, 0, 0, 0, 0, 1, 0, 0, 0, 0, 0, 0, 0, 0, 0, 0, 0, 0, 0, 0, 0, 0, 0, 0, 0, 0, 0, 0, 0, 0, 0, 0, 0, 0, 0, 0, 0, 0, 0, 0, 0, 0, 0, 0, 0, 0, 0, 0, 0, 0, 0, 0, 0, 0, 0, 0, 0, 0, 0, 0, 0, 0, 0, 0, 0, 0, 0, 0, 0, 0, 0, 0, 0, 0, 0, 0, 0, 0, 0, 0, 0, 0, 0, 0, 0, 0, 0, 0, 0, 0, 0, 0, 0, 0, 0, 0, 0, 0, 0, 0, 0, 0, 0, 0, 0, 0, 0, 0, 0, 0, 0, 0, 0, 0, 0, 0, 0, 0, 0, 0, 0, 0, 0, 0, 0, 0, 0, 0, 0, 0, 0, 0, 0, 0, 0, 0, 0, 0, 0, 0, 0, 0, 0, 0, 0, 0, 0, 0, 0, 0, 0, 0, 0, 0, 0, 0, 0, 0, 0, 0, 0, 0, 0, 0, 0, 0, 0, 0, 0, 0, 0, 0, 0, 0, 0, 0, 0, 0, 0, 0, 0, 0, 0, 0, 0, 0, 0, 0, 0, 0, 0, 0, 0, 0, 0, 0, 0, 0, 0, 0, 0, 0, 0, 0, 0, 0, 0, 0, 0, 0, 0, 0, 0, 0, 0, 0, 0, 0, 0, 0, 0, 0, 0, 0, 0, 0, 0, 0, 0, 0, 0, 0, 0, 0, 0, 0, 0, 0, 0, 0, 0, 0, 0, 0, 0, 0, 0, 0, 0, 0, 0, 0, 0, 0, 0, 0, 0, 0, 0, 0, 0, 0, 0, 0, 0, 0, 0, 0, 0, 0, 0, 0, 0, 0, 0, 0, 0, 0, 0, 0, 0, 0, 0, 0, 0, 0, 0, 0, 0, 0, 0, 0, 0, 0, 0, 0, 0, 0, 0, 0, 0, 0, 0, 0, 0, 0, 0, 0, 0, 0, 0, 0, 0, 0, 0, 0, 0, 0, 0, 0, 0, 0, 0, 0, 0, 0, 0, 0, 0, 0, 0, 0, 0, 0, 0, 0, 0, 0, 0, 0, 0, 0, 0, 0, 0, 0, 0, 0, 0, 0, 0, 0, 0, 0, 0, 0, 0, 0, 0, 0, 0, 0, 0, 0, 0, 0, 0, 0, 0, 0, 0, 0, 0, 0, 0, 0, 0, 0, 0, 0, 0, 0, 0, 0, 0, 0, 0, 0, 0, 0, 0, 0, 0, 0, 0, 0, 0, 0, 0, 0, 0, 0, 0, 0, 0, 0, 0, 0, 0, 0, 0, 0, 0, 0, 0, 0, 0, 0, 0, 0, 0, 0, 0, 0, 0, 0, 0, 0, 0, 0, 0, 0, 0, 0, 0, 0, 0, 0, 0, 0, 0, 0, 0, 0, 0, 0, 0, 0, 0, 0, 0, 0, 0, 0, 0, 0, 0, 0, 0, 0, 0, 0, 0, 0, 0, 0, 0, 0, 0, 0, 0, 0, 0, 0, 0, 0, 0, 0, 0, 0, 0, 0, 0, 0, 0, 0, 0, 0, 0, 0, 0, 0, 0, 0, 0, 0, 0, 0, 0, 0, 0, 0, 0, 1, 0, 0, 0, 0, 0, 0, 0, 0, 0, 0, 0, 0, 0, 0, 0, 0, 0, 0, 0, 0, 0, 0, 0, 0, 0, 0, 0, 0, 0, 0, 0, 0, 0, 0, 0, 0, 0, 0, 0, 0, 0, 0, 0, 0, 0, 0, 0, 0, 0, 0, 0, 0, 0, 0, 0, 0, 0, 0, 0, 0, 0, 0, 0, 0, 0, 0, 0, 0, 0, 0, 0, 0, 0, 0, 0, 0, 0, 0, 0, 0, 0, 0, 0, 0, 0, 0, 0, 0, 0, 0, 0, 0, 0, 0, 0, 0, 0, 0, 0, 0, 0, 0, 0, 0, 0, 0, 0, 0, 0, 0, 2, 0, 0, 0, 0, 0, 0, 0, 0, 0, 0, 0, 0, 0, 0, 0, 0, 0, 0, 0, 0, 0, 0, 0, 0, 0, 0, 0, 0, 0, 0, 0, 0, 0, 0, 0, 0, 0, 0, 0, 0, 0, 0, 0, 0, 0, 0, 0, 0, 0, 0, 0, 0, 0, 0, 0, 0, 0, 0, 0, 0, 0, 0, 0, 0, 0, 0, 0, 0, 0, 0, 0, 0, 0, 0, 0, 0, 0, 0, 0, 0, 0, 0, 0, 0, 0, 0, 0, 0, 0, 0, 0, 0, 0, 0, 0, 0, 0, 0, 0, 0, 0, 0, 0, 0, 0, 0, 0, 0, 0, 0, 0, 0, 0, 0, 0, 0, 0, 0, 0, 0, 0, 0, 0, 0, 0, 0, 0, 0, 0, 0, 0, 0, 0, 0, 0, 0, 0, 0, 0, 0, 0, 0, 0, 0, 0, 0, 0, 0, 0, 0, 0, 0, 0, 0, 0, 0, 0, 0, 0, 0, 0, 0, 0, 0, 0, 0, 0, 0, 0, 0, 0, 0, 0, 0, 0, 0, 0, 0, 0, 0, 0, 0, 0, 0, 0, 0, 0, 0, 0, 0, 0, 0, 0, 0, 0, 0, 0, 0, 0, 0, 0, 0, 0, 0, 0, 0, 0, 0, 0, 0, 0, 0, 0, 0, 0, 0, 0, 0, 0, 0, 0, 0, 0, 0, 0, 0, 0, 0, 0, 0, 0, 0, 0, 0, 0, 0, 0, 0, 0, 0, 0, 0, 0, 0, 0, 0, 0, 0, 0, 0, 0, 0, 0, 0, 0, 0, 0, 0, 0, 0, 0, 0, 0, 0, 0, 0, 0, 0, 0, 0, 0, 0, 0, 0, 0, 0, 0, 0, 0, 0, 0, 0, 0, 0, 0, 0, 0, 0, 0, 0, 0, 0, 0, 0, 0, 0, 0, 0, 0, 0, 0, 0, 0, 0, 0, 0, 0, 0, 0, 0, 0, 0, 0, 0, 0, 0, 0, 0, 0, 0, 0, 0, 0, 0, 0, 0, 0, 0, 0, 0, 0, 0, 0, 0, 0, 0, 0, 0, 0, 0, 0, 0, 0, 0, 0, 0, 0, 0, 0, 0, 0, 0, 0, 0, 0, 0, 0, 0, 0, 0, 0, 0, 0, 0, 0, 0, 0, 0, 0, 0, 0, 0, 0, 0, 0, 0, 0, 0, 0, 0, 0, 0, 0, 0, 0, 0, 0, 0, 0, 0, 0, 0, 0, 0, 0, 0, 0, 0, 0, 0, 0, 0, 0, 0, 0, 0, 0, 0, 0, 0, 0, 0, 0, 0, 0, 0, 0, 0, 0, 0, 0, 0, 0, 0, 0, 0, 0, 0, 0, 0, 0, 0, 0, 0, 0, 0, 0, 0, 0, 0, 0, 0, 0, 0, 0, 0, 0, 0, 0, 0, 0, 0, 0, 0, 0, 0, 0, 0, 0, 0, 0, 0, 0, 0, 0, 0, 0, 0, 0, 0, 0, 0, 0, 0, 0, 0, 0, 0, 0, 0, 0, 0, 0, 0, 0, 0, 0, 0, 0, 0, 0, 0, 0, 0, 0, 0, 0, 0, 0, 0, 0, 0, 0, 0, 0, 0, 0, 0, 0, 0, 0, 0, 0, 0, 0, 0, 0, 0, 0, 0, 0, 0, 0, 0, 0, 0, 0, 0, 0, 0, 0, 0, 0, 0, 0, 0, 0, 0, 0, 0, 0, 0, 0, 0, 0, 0, 0, 0, 0, 0, 0, 0, 0, 0, 0, 0, 0, 0, 0, 0, 0, 0, 0, 0, 0, 0, 0, 0, 0, 0, 0, 0, 0, 0, 0, 0, 0, 0, 0, 0, 0, 0, 0, 0, 0, 0, 0, 0, 0, 0, 0, 0, 0, 0, 0, 0, 0, 0, 0, 0, 0, 0, 0, 0, 0, 0, 0, 0, 0, 0, 0, 0, 0, 0, 0, 0, 0, 0, 0, 0, 0, 0, 0, 0, 0, 0, 0, 0, 0, 0, 0, 0, 0, 0, 0, 0, 0, 0, 0, 0, 0, 0, 0, 0, 0, 0, 0, 0, 0, 0, 0, 0, 0, 0, 0, 0, 0, 0, 0, 0, 0, 0, 0, 0, 0, 0, 0, 0, 0, 0, 0, 0, 0, 0, 0, 0, 0, 0, 0, 0, 0, 0, 0, 0, 0, 0, 0, 0, 0, 0, 1, 0, 0, 0, 0, 0, 0, 0, 0, 0, 0, 0, 0, 0, 0, 0, 0, 0, 0, 0, 0, 0, 0, 0, 0, 0, 0, 0, 0, 0, 0, 0, 0, 0, 0, 0, 0, 0, 0, 0, 0, 0, 0, 0, 0, 0, 0, 0, 0, 0, 0, 0, 0, 0, 0, 0, 0, 0, 0, 0, 0, 0, 0, 0, 0, 0, 0, 0, 0, 0, 0, 0, 0, 0, 0, 0, 0, 0, 0, 0, 0, 0, 0, 0, 0, 0, 0, 0, 0, 0, 0, 0, 0, 0, 0, 0, 0, 0, 0, 0, 0, 0, 0, 0, 0, 0, 0, 0, 1, 0, 0, 0, 0, 0, 0, 0, 0, 0, 0, 0, 0, 0, 0, 0, 0, 0, 0, 0, 0, 0, 0, 0, 0, 0, 0, 0, 0, 0, 0, 0, 0, 0, 0, 0, 0, 0, 0, 0, 0, 0, 0, 0, 0, 0, 0, 0, 0, 0, 0, 0, 0, 0, 0, 0, 0, 0, 0, 0, 0, 0, 0, 0, 0, 0, 0, 0, 0, 0, 0, 0, 0, 0, 0, 0, 0, 0, 0, 0, 0, 0, 0, 0, 0, 0, 0, 0, 0, 0, 0, 0, 0, 0, 0, 0, 0, 0, 0, 0, 0, 0, 0, 0, 0, 0, 0, 0, 0, 0, 0, 0, 0, 0, 0, 0, 0, 0, 0, 0, 0, 0, 0, 0, 0, 0, 0, 0, 0, 0, 0, 0, 0, 0, 0, 0, 0, 0, 0, 0, 0, 0, 0, 0, 0, 0, 0, 0, 0, 0, 0, 0, 0, 0, 0, 0, 0, 0, 0, 0, 0, 0, 0, 0, 0, 0, 0, 0, 0, 0, 0, 0, 0, 0, 0, 0, 0, 0, 0, 0, 0, 0, 0, 0, 0, 0, 0, 0, 0, 0, 0, 0, 0, 0, 0, 0, 0, 0, 0, 0, 0, 0, 0, 0, 0, 0, 0, 0, 0, 0, 0, 0, 0, 0, 0, 0, 0, 0, 0, 0, 0, 0, 0, 0, 0, 0, 0, 0, 0, 0, 0, 0, 0, 0, 0, 0, 0, 0, 0, 0, 0, 0, 0, 0, 0, 0, 0, 0, 0, 0, 0, 0, 0, 0, 0, 0, 0, 0, 0, 0, 0, 0, 0, 0, 0, 0, 0, 0, 0, 0, 0, 0, 0, 0, 0, 0, 0, 0, 0, 0, 0, 0, 0, 0, 0, 0, 0, 0, 0, 0, 0, 0, 0, 0, 0, 0, 0, 0, 0, 0, 0, 0, 0, 0, 0, 0, 0, 0, 0, 0, 0, 0, 0, 0, 0, 0, 0, 0, 0, 0, 0, 0, 0, 0, 0, 0, 0, 0, 0, 0, 0, 0, 0, 0, 0, 0, 0, 0, 0, 0, 0, 0, 0, 0, 0, 0, 0, 0, 0, 0, 0, 0, 0, 0, 0, 0, 0, 0, 0, 0, 0, 0, 0, 0, 0, 0, 0, 0, 0, 0, 0, 0, 0, 0, 0, 0, 0, 0, 0, 0, 0, 0, 0, 0, 0, 0, 0, 0, 0, 0, 0, 0, 0, 0, 0, 0, 0, 0, 0, 0, 0, 0, 0, 0, 0, 0, 0, 0, 0, 0, 0, 0, 0, 0, 0, 0, 0, 0, 0, 0, 0, 0, 0, 0, 0, 0, 0, 0, 0, 0, 0, 0, 0, 0, 0, 0, 0, 0, 0, 0, 0, 0, 0, 0, 0, 0, 0, 0, 0, 0, 0, 0, 0, 0, 0, 0, 0, 0, 0, 0, 0, 0, 0, 0, 2, 0, 1, 0], type: <class 'list'>, valid types: <class 'bytes'>, <class 'bytearray'>, file-like object",
     "output_type": "error",
     "traceback": [
      "\u001b[0;31m---------------------------------------------------------------------------\u001b[0m",
      "\u001b[0;31mParamValidationError\u001b[0m                      Traceback (most recent call last)",
      "\u001b[0;32m<ipython-input-46-c9ab54ae3a48>\u001b[0m in \u001b[0;36m<module>\u001b[0;34m\u001b[0m\n\u001b[1;32m      1\u001b[0m response = runtime.invoke_endpoint(EndpointName = xgb_predictor.endpoint, # The name of the endpoint we created\n\u001b[1;32m      2\u001b[0m                                        \u001b[0mContentType\u001b[0m \u001b[0;34m=\u001b[0m \u001b[0;34m'text/csv'\u001b[0m\u001b[0;34m,\u001b[0m                     \u001b[0;31m# The data format that is expected\u001b[0m\u001b[0;34m\u001b[0m\u001b[0;34m\u001b[0m\u001b[0m\n\u001b[0;32m----> 3\u001b[0;31m                                        Body = test_bow)\n\u001b[0m",
      "\u001b[0;32m~/anaconda3/envs/pytorch_p36/lib/python3.6/site-packages/botocore/client.py\u001b[0m in \u001b[0;36m_api_call\u001b[0;34m(self, *args, **kwargs)\u001b[0m\n\u001b[1;32m    355\u001b[0m                     \"%s() only accepts keyword arguments.\" % py_operation_name)\n\u001b[1;32m    356\u001b[0m             \u001b[0;31m# The \"self\" in this scope is referring to the BaseClient.\u001b[0m\u001b[0;34m\u001b[0m\u001b[0;34m\u001b[0m\u001b[0;34m\u001b[0m\u001b[0m\n\u001b[0;32m--> 357\u001b[0;31m             \u001b[0;32mreturn\u001b[0m \u001b[0mself\u001b[0m\u001b[0;34m.\u001b[0m\u001b[0m_make_api_call\u001b[0m\u001b[0;34m(\u001b[0m\u001b[0moperation_name\u001b[0m\u001b[0;34m,\u001b[0m \u001b[0mkwargs\u001b[0m\u001b[0;34m)\u001b[0m\u001b[0;34m\u001b[0m\u001b[0;34m\u001b[0m\u001b[0m\n\u001b[0m\u001b[1;32m    358\u001b[0m \u001b[0;34m\u001b[0m\u001b[0m\n\u001b[1;32m    359\u001b[0m         \u001b[0m_api_call\u001b[0m\u001b[0;34m.\u001b[0m\u001b[0m__name__\u001b[0m \u001b[0;34m=\u001b[0m \u001b[0mstr\u001b[0m\u001b[0;34m(\u001b[0m\u001b[0mpy_operation_name\u001b[0m\u001b[0;34m)\u001b[0m\u001b[0;34m\u001b[0m\u001b[0;34m\u001b[0m\u001b[0m\n",
      "\u001b[0;32m~/anaconda3/envs/pytorch_p36/lib/python3.6/site-packages/botocore/client.py\u001b[0m in \u001b[0;36m_make_api_call\u001b[0;34m(self, operation_name, api_params)\u001b[0m\n\u001b[1;32m    647\u001b[0m         }\n\u001b[1;32m    648\u001b[0m         request_dict = self._convert_to_request_dict(\n\u001b[0;32m--> 649\u001b[0;31m             api_params, operation_model, context=request_context)\n\u001b[0m\u001b[1;32m    650\u001b[0m \u001b[0;34m\u001b[0m\u001b[0m\n\u001b[1;32m    651\u001b[0m         \u001b[0mservice_id\u001b[0m \u001b[0;34m=\u001b[0m \u001b[0mself\u001b[0m\u001b[0;34m.\u001b[0m\u001b[0m_service_model\u001b[0m\u001b[0;34m.\u001b[0m\u001b[0mservice_id\u001b[0m\u001b[0;34m.\u001b[0m\u001b[0mhyphenize\u001b[0m\u001b[0;34m(\u001b[0m\u001b[0;34m)\u001b[0m\u001b[0;34m\u001b[0m\u001b[0;34m\u001b[0m\u001b[0m\n",
      "\u001b[0;32m~/anaconda3/envs/pytorch_p36/lib/python3.6/site-packages/botocore/client.py\u001b[0m in \u001b[0;36m_convert_to_request_dict\u001b[0;34m(self, api_params, operation_model, context)\u001b[0m\n\u001b[1;32m    695\u001b[0m             api_params, operation_model, context)\n\u001b[1;32m    696\u001b[0m         request_dict = self._serializer.serialize_to_request(\n\u001b[0;32m--> 697\u001b[0;31m             api_params, operation_model)\n\u001b[0m\u001b[1;32m    698\u001b[0m         \u001b[0;32mif\u001b[0m \u001b[0;32mnot\u001b[0m \u001b[0mself\u001b[0m\u001b[0;34m.\u001b[0m\u001b[0m_client_config\u001b[0m\u001b[0;34m.\u001b[0m\u001b[0minject_host_prefix\u001b[0m\u001b[0;34m:\u001b[0m\u001b[0;34m\u001b[0m\u001b[0;34m\u001b[0m\u001b[0m\n\u001b[1;32m    699\u001b[0m             \u001b[0mrequest_dict\u001b[0m\u001b[0;34m.\u001b[0m\u001b[0mpop\u001b[0m\u001b[0;34m(\u001b[0m\u001b[0;34m'host_prefix'\u001b[0m\u001b[0;34m,\u001b[0m \u001b[0;32mNone\u001b[0m\u001b[0;34m)\u001b[0m\u001b[0;34m\u001b[0m\u001b[0;34m\u001b[0m\u001b[0m\n",
      "\u001b[0;32m~/anaconda3/envs/pytorch_p36/lib/python3.6/site-packages/botocore/validate.py\u001b[0m in \u001b[0;36mserialize_to_request\u001b[0;34m(self, parameters, operation_model)\u001b[0m\n\u001b[1;32m    291\u001b[0m                                                     operation_model.input_shape)\n\u001b[1;32m    292\u001b[0m             \u001b[0;32mif\u001b[0m \u001b[0mreport\u001b[0m\u001b[0;34m.\u001b[0m\u001b[0mhas_errors\u001b[0m\u001b[0;34m(\u001b[0m\u001b[0;34m)\u001b[0m\u001b[0;34m:\u001b[0m\u001b[0;34m\u001b[0m\u001b[0;34m\u001b[0m\u001b[0m\n\u001b[0;32m--> 293\u001b[0;31m                 \u001b[0;32mraise\u001b[0m \u001b[0mParamValidationError\u001b[0m\u001b[0;34m(\u001b[0m\u001b[0mreport\u001b[0m\u001b[0;34m=\u001b[0m\u001b[0mreport\u001b[0m\u001b[0;34m.\u001b[0m\u001b[0mgenerate_report\u001b[0m\u001b[0;34m(\u001b[0m\u001b[0;34m)\u001b[0m\u001b[0;34m)\u001b[0m\u001b[0;34m\u001b[0m\u001b[0;34m\u001b[0m\u001b[0m\n\u001b[0m\u001b[1;32m    294\u001b[0m         return self._serializer.serialize_to_request(parameters,\n\u001b[1;32m    295\u001b[0m                                                      operation_model)\n",
      "\u001b[0;31mParamValidationError\u001b[0m: Parameter validation failed:\nInvalid type for parameter Body, value: [0, 0, 0, 0, 0, 0, 0, 0, 0, 0, 0, 0, 0, 0, 0, 0, 0, 0, 0, 0, 0, 0, 0, 0, 0, 0, 0, 0, 0, 0, 0, 0, 0, 0, 0, 0, 0, 0, 0, 0, 0, 0, 0, 0, 0, 0, 0, 0, 0, 0, 0, 0, 0, 0, 0, 0, 0, 0, 0, 0, 0, 0, 0, 0, 0, 0, 0, 0, 0, 0, 0, 0, 0, 0, 0, 0, 0, 0, 0, 0, 0, 0, 0, 0, 0, 0, 0, 0, 0, 0, 0, 0, 0, 0, 0, 0, 0, 0, 0, 0, 0, 0, 0, 0, 0, 0, 0, 0, 0, 0, 0, 0, 0, 0, 0, 0, 0, 0, 0, 0, 0, 0, 0, 0, 0, 0, 0, 0, 0, 0, 0, 0, 0, 0, 0, 0, 0, 0, 0, 0, 0, 0, 0, 0, 0, 0, 0, 0, 0, 0, 0, 0, 0, 0, 0, 0, 0, 0, 0, 0, 0, 0, 0, 0, 0, 0, 0, 0, 0, 0, 0, 0, 0, 0, 0, 0, 0, 0, 0, 0, 0, 0, 0, 0, 0, 0, 0, 0, 0, 0, 0, 0, 0, 0, 0, 0, 0, 0, 0, 0, 0, 0, 0, 0, 0, 0, 0, 0, 0, 0, 0, 0, 0, 0, 0, 0, 0, 0, 0, 0, 0, 0, 0, 0, 0, 0, 1, 0, 0, 0, 0, 0, 0, 0, 0, 0, 0, 0, 0, 0, 0, 0, 0, 0, 0, 0, 0, 0, 0, 0, 0, 0, 0, 0, 0, 0, 1, 0, 0, 0, 0, 0, 0, 0, 0, 0, 0, 0, 0, 0, 0, 0, 0, 0, 0, 0, 0, 0, 0, 0, 0, 0, 0, 0, 0, 0, 0, 0, 0, 0, 0, 0, 0, 0, 0, 0, 0, 0, 0, 0, 0, 0, 0, 0, 0, 0, 0, 0, 0, 0, 0, 0, 0, 0, 0, 0, 0, 0, 0, 0, 0, 0, 0, 0, 0, 0, 0, 0, 0, 0, 0, 0, 0, 0, 0, 0, 0, 0, 0, 0, 0, 0, 0, 0, 0, 0, 0, 0, 0, 0, 0, 0, 0, 0, 0, 0, 0, 0, 0, 0, 0, 0, 0, 0, 0, 0, 0, 0, 0, 0, 0, 0, 0, 0, 0, 0, 0, 0, 0, 0, 0, 0, 0, 0, 0, 0, 0, 0, 0, 0, 0, 0, 0, 0, 0, 0, 0, 0, 0, 0, 0, 0, 0, 0, 0, 0, 0, 0, 0, 0, 0, 0, 0, 0, 0, 0, 0, 0, 0, 0, 0, 0, 0, 0, 0, 0, 0, 0, 0, 0, 0, 0, 0, 0, 0, 0, 0, 0, 0, 0, 0, 0, 0, 0, 0, 0, 0, 0, 0, 0, 0, 0, 0, 0, 0, 0, 0, 0, 0, 0, 0, 0, 0, 0, 0, 0, 0, 0, 0, 0, 0, 0, 0, 0, 0, 0, 0, 0, 0, 0, 0, 0, 0, 0, 0, 0, 0, 0, 0, 0, 0, 0, 0, 0, 0, 0, 0, 0, 0, 0, 0, 0, 0, 0, 0, 0, 0, 0, 0, 0, 0, 0, 0, 0, 0, 0, 0, 0, 0, 0, 0, 0, 0, 0, 0, 0, 0, 0, 0, 0, 0, 0, 0, 0, 0, 0, 0, 0, 0, 0, 0, 0, 0, 0, 0, 0, 0, 0, 0, 0, 0, 0, 0, 0, 0, 0, 0, 0, 0, 0, 0, 0, 0, 0, 0, 0, 0, 0, 0, 0, 0, 0, 0, 0, 0, 0, 0, 0, 0, 0, 0, 0, 0, 0, 0, 0, 0, 0, 0, 0, 0, 0, 0, 0, 0, 0, 0, 0, 0, 0, 0, 0, 0, 0, 0, 0, 0, 0, 0, 0, 0, 0, 0, 0, 0, 0, 0, 0, 0, 0, 0, 0, 0, 0, 0, 0, 0, 0, 0, 0, 0, 0, 0, 0, 0, 0, 1, 0, 0, 0, 0, 0, 0, 0, 0, 0, 0, 0, 0, 0, 0, 0, 0, 0, 0, 0, 0, 0, 0, 0, 0, 0, 0, 0, 0, 0, 0, 0, 0, 0, 0, 0, 0, 0, 0, 0, 0, 0, 0, 0, 0, 0, 0, 0, 0, 0, 0, 0, 0, 0, 0, 0, 0, 0, 0, 0, 0, 0, 0, 0, 0, 0, 0, 0, 0, 0, 0, 0, 0, 0, 0, 0, 0, 0, 0, 0, 0, 0, 0, 0, 0, 0, 0, 0, 0, 0, 0, 0, 0, 0, 0, 0, 0, 0, 0, 0, 0, 0, 0, 0, 0, 0, 0, 0, 0, 0, 0, 0, 0, 0, 0, 0, 0, 0, 0, 0, 0, 0, 0, 0, 0, 0, 0, 0, 0, 0, 0, 0, 0, 0, 0, 0, 0, 0, 0, 0, 0, 0, 0, 0, 0, 0, 0, 0, 0, 0, 0, 0, 0, 0, 0, 0, 0, 0, 0, 0, 0, 0, 0, 0, 0, 0, 0, 0, 0, 0, 0, 0, 0, 0, 0, 0, 0, 0, 0, 0, 0, 0, 0, 0, 0, 0, 0, 0, 0, 0, 0, 0, 0, 0, 0, 0, 0, 0, 0, 0, 0, 0, 0, 0, 0, 0, 0, 0, 0, 0, 0, 0, 0, 0, 0, 0, 0, 0, 0, 0, 0, 0, 0, 0, 0, 0, 0, 0, 0, 0, 0, 0, 0, 0, 0, 0, 0, 0, 0, 0, 0, 0, 0, 0, 0, 0, 0, 0, 0, 0, 0, 0, 0, 0, 1, 0, 0, 0, 0, 0, 0, 0, 0, 0, 0, 0, 0, 0, 0, 0, 0, 0, 0, 0, 0, 0, 0, 0, 0, 0, 0, 0, 0, 0, 0, 0, 0, 0, 0, 0, 0, 0, 0, 0, 0, 0, 0, 0, 0, 0, 0, 0, 0, 0, 0, 0, 0, 0, 0, 0, 0, 0, 0, 0, 0, 0, 0, 0, 0, 0, 0, 0, 0, 0, 0, 0, 0, 0, 0, 0, 0, 0, 0, 0, 0, 0, 0, 0, 0, 0, 0, 1, 0, 0, 0, 0, 0, 0, 0, 0, 0, 0, 0, 0, 0, 0, 0, 0, 0, 0, 0, 0, 0, 0, 0, 0, 0, 0, 0, 0, 0, 0, 0, 0, 0, 0, 0, 0, 0, 0, 0, 0, 0, 0, 0, 0, 0, 0, 0, 0, 0, 0, 0, 0, 0, 0, 0, 0, 0, 0, 0, 0, 0, 0, 0, 0, 0, 0, 0, 0, 0, 0, 0, 0, 0, 0, 0, 0, 0, 0, 0, 0, 0, 0, 0, 0, 0, 0, 0, 0, 0, 0, 0, 0, 0, 0, 0, 0, 0, 0, 0, 0, 0, 0, 0, 0, 0, 0, 0, 0, 0, 0, 0, 0, 0, 0, 0, 0, 0, 0, 0, 0, 0, 0, 0, 0, 0, 0, 0, 0, 0, 0, 0, 0, 0, 0, 0, 0, 0, 0, 0, 0, 0, 0, 0, 0, 0, 0, 0, 0, 0, 0, 0, 0, 0, 0, 0, 0, 0, 0, 0, 0, 0, 0, 0, 0, 0, 0, 0, 0, 0, 0, 0, 0, 0, 0, 0, 0, 0, 0, 0, 0, 0, 0, 0, 0, 0, 0, 0, 0, 0, 0, 0, 0, 0, 0, 0, 0, 0, 0, 0, 0, 0, 0, 0, 0, 0, 0, 0, 0, 0, 0, 0, 0, 0, 0, 0, 0, 0, 0, 0, 0, 0, 0, 0, 0, 0, 0, 0, 0, 0, 0, 0, 0, 0, 0, 0, 0, 0, 0, 0, 0, 0, 0, 0, 0, 0, 0, 0, 0, 0, 0, 0, 0, 1, 0, 0, 0, 0, 0, 0, 0, 0, 0, 0, 0, 0, 0, 0, 0, 0, 0, 0, 0, 0, 0, 0, 0, 0, 0, 0, 0, 0, 0, 0, 0, 0, 0, 0, 0, 0, 0, 0, 0, 0, 0, 0, 0, 0, 0, 0, 0, 0, 0, 0, 0, 0, 0, 0, 0, 1, 0, 0, 0, 0, 0, 0, 0, 0, 0, 0, 0, 0, 0, 0, 0, 0, 0, 0, 0, 0, 0, 0, 0, 0, 0, 0, 0, 0, 0, 0, 0, 0, 0, 0, 0, 0, 0, 0, 0, 0, 0, 0, 0, 0, 0, 0, 0, 0, 0, 0, 0, 0, 0, 0, 0, 0, 0, 0, 0, 0, 0, 0, 0, 0, 0, 0, 0, 0, 0, 0, 0, 0, 0, 0, 0, 0, 0, 0, 0, 0, 0, 0, 0, 0, 0, 0, 0, 0, 0, 0, 0, 0, 0, 0, 0, 0, 0, 0, 0, 0, 0, 0, 0, 0, 0, 0, 0, 0, 0, 0, 0, 0, 0, 0, 0, 0, 0, 0, 0, 0, 0, 0, 0, 0, 0, 0, 0, 0, 0, 0, 0, 0, 0, 0, 0, 0, 0, 0, 0, 0, 0, 0, 0, 0, 0, 0, 0, 0, 0, 0, 0, 0, 0, 0, 0, 0, 0, 0, 0, 0, 0, 0, 0, 0, 0, 0, 0, 0, 0, 0, 0, 0, 0, 0, 0, 0, 0, 0, 0, 0, 0, 0, 0, 0, 0, 0, 0, 0, 0, 0, 0, 0, 0, 0, 0, 0, 0, 0, 0, 0, 0, 0, 0, 0, 0, 0, 0, 0, 0, 0, 0, 0, 0, 0, 0, 0, 0, 0, 0, 0, 0, 0, 0, 0, 0, 0, 0, 0, 0, 0, 0, 0, 0, 0, 0, 0, 0, 0, 0, 0, 0, 0, 0, 0, 0, 0, 0, 0, 0, 0, 0, 0, 0, 0, 0, 0, 0, 0, 0, 0, 0, 0, 0, 0, 0, 0, 0, 0, 0, 0, 0, 0, 0, 0, 0, 0, 0, 0, 0, 0, 0, 0, 0, 0, 0, 0, 0, 0, 0, 0, 0, 0, 0, 0, 0, 0, 0, 0, 0, 0, 0, 0, 0, 0, 0, 0, 0, 0, 0, 0, 0, 0, 0, 0, 0, 0, 0, 0, 0, 0, 0, 0, 0, 0, 0, 0, 0, 0, 0, 0, 0, 0, 0, 0, 0, 0, 0, 0, 0, 0, 0, 0, 0, 0, 0, 0, 0, 0, 0, 0, 0, 0, 0, 0, 0, 0, 0, 0, 0, 0, 0, 0, 0, 0, 0, 0, 0, 0, 0, 0, 0, 0, 0, 0, 0, 0, 0, 0, 0, 0, 0, 0, 0, 0, 0, 0, 0, 0, 0, 0, 0, 0, 0, 0, 0, 0, 0, 0, 0, 0, 0, 0, 0, 0, 0, 0, 0, 0, 0, 0, 0, 0, 0, 0, 0, 0, 0, 0, 0, 0, 0, 0, 0, 0, 0, 0, 0, 0, 0, 0, 0, 0, 0, 0, 0, 0, 0, 0, 0, 0, 0, 0, 0, 0, 0, 0, 0, 0, 0, 0, 0, 0, 0, 0, 0, 0, 0, 0, 0, 0, 0, 0, 0, 0, 0, 0, 0, 0, 0, 0, 0, 0, 0, 0, 0, 0, 0, 0, 0, 0, 0, 0, 0, 0, 0, 0, 0, 0, 0, 0, 0, 0, 0, 0, 0, 0, 0, 0, 0, 0, 0, 0, 0, 0, 0, 0, 0, 0, 0, 0, 0, 0, 0, 0, 0, 0, 0, 0, 0, 0, 0, 0, 0, 0, 0, 0, 0, 0, 0, 0, 0, 0, 0, 0, 0, 0, 0, 0, 0, 0, 0, 0, 0, 0, 0, 0, 0, 0, 0, 0, 0, 0, 0, 0, 0, 0, 0, 0, 0, 0, 0, 0, 0, 0, 0, 0, 0, 0, 0, 0, 0, 0, 0, 0, 0, 0, 0, 0, 0, 0, 0, 0, 0, 0, 0, 0, 0, 0, 0, 0, 0, 0, 0, 0, 0, 0, 0, 0, 0, 0, 0, 0, 0, 0, 0, 0, 0, 0, 0, 0, 0, 0, 0, 0, 0, 0, 0, 0, 0, 0, 0, 0, 0, 0, 0, 0, 0, 0, 0, 0, 0, 0, 0, 0, 0, 0, 0, 0, 0, 0, 0, 0, 0, 0, 0, 0, 0, 0, 0, 0, 0, 0, 0, 0, 0, 0, 0, 0, 0, 0, 0, 0, 0, 0, 0, 0, 0, 0, 0, 0, 0, 0, 0, 0, 0, 0, 0, 0, 0, 0, 0, 1, 0, 0, 0, 0, 0, 0, 0, 0, 0, 0, 0, 0, 0, 0, 0, 0, 0, 0, 0, 0, 0, 0, 0, 0, 0, 0, 0, 0, 0, 0, 0, 0, 0, 0, 0, 0, 0, 0, 0, 0, 0, 0, 0, 0, 0, 0, 0, 0, 0, 0, 0, 0, 0, 0, 0, 0, 0, 0, 0, 0, 0, 0, 0, 0, 0, 0, 0, 0, 0, 0, 0, 0, 0, 0, 1, 0, 0, 0, 0, 0, 0, 0, 0, 0, 0, 0, 0, 0, 0, 0, 0, 0, 0, 0, 0, 1, 0, 0, 1, 0, 0, 0, 0, 0, 0, 0, 0, 0, 0, 0, 0, 0, 0, 0, 0, 0, 0, 0, 0, 0, 0, 0, 0, 0, 0, 0, 0, 0, 0, 0, 0, 0, 0, 0, 0, 0, 0, 0, 0, 0, 0, 0, 0, 0, 0, 0, 0, 0, 0, 0, 0, 0, 0, 0, 0, 0, 0, 0, 0, 0, 0, 0, 0, 0, 0, 0, 0, 0, 0, 0, 0, 0, 0, 0, 0, 0, 0, 0, 0, 0, 0, 0, 0, 0, 0, 0, 0, 0, 0, 0, 0, 0, 0, 0, 0, 0, 0, 0, 0, 0, 0, 0, 0, 0, 0, 0, 0, 0, 0, 0, 0, 0, 0, 0, 0, 0, 0, 0, 0, 0, 0, 0, 0, 0, 0, 0, 0, 0, 0, 0, 0, 0, 0, 0, 0, 0, 0, 0, 0, 0, 0, 0, 0, 0, 0, 0, 0, 0, 0, 0, 0, 0, 0, 0, 0, 0, 0, 0, 0, 0, 0, 0, 0, 0, 0, 0, 0, 0, 0, 0, 0, 0, 0, 0, 0, 0, 0, 0, 0, 0, 0, 0, 0, 0, 0, 0, 0, 0, 0, 0, 0, 0, 0, 0, 0, 0, 0, 0, 0, 0, 0, 0, 0, 0, 0, 0, 0, 0, 0, 0, 0, 0, 0, 0, 0, 0, 0, 0, 0, 0, 0, 0, 0, 0, 0, 0, 0, 0, 0, 0, 0, 0, 0, 0, 0, 0, 0, 0, 0, 0, 0, 0, 0, 0, 0, 0, 0, 0, 0, 0, 0, 0, 0, 0, 0, 0, 0, 0, 0, 0, 0, 0, 0, 0, 0, 0, 0, 0, 0, 0, 0, 0, 0, 0, 0, 0, 0, 0, 0, 0, 0, 0, 0, 0, 0, 0, 0, 0, 0, 0, 0, 0, 0, 0, 0, 0, 0, 0, 0, 0, 0, 0, 0, 0, 0, 0, 0, 0, 0, 0, 0, 0, 0, 0, 0, 0, 0, 0, 0, 0, 0, 0, 0, 0, 0, 0, 0, 0, 0, 0, 0, 0, 0, 0, 0, 0, 0, 0, 0, 0, 0, 0, 0, 0, 0, 0, 0, 0, 0, 0, 0, 0, 0, 0, 0, 0, 0, 0, 0, 0, 0, 0, 0, 0, 0, 0, 0, 0, 0, 0, 0, 0, 0, 0, 0, 0, 0, 0, 0, 0, 0, 0, 0, 0, 0, 0, 0, 0, 0, 0, 0, 0, 0, 0, 0, 0, 0, 0, 0, 0, 0, 0, 0, 0, 0, 0, 0, 0, 0, 0, 0, 0, 0, 0, 0, 0, 0, 0, 0, 0, 0, 0, 0, 0, 0, 0, 0, 0, 0, 0, 0, 0, 0, 0, 0, 0, 0, 0, 0, 0, 0, 0, 0, 0, 0, 0, 0, 0, 0, 0, 0, 0, 0, 0, 0, 0, 0, 0, 0, 0, 0, 0, 0, 0, 0, 1, 0, 0, 0, 0, 0, 0, 0, 0, 0, 0, 0, 0, 0, 0, 0, 0, 0, 0, 0, 0, 0, 0, 0, 0, 0, 0, 0, 0, 0, 0, 0, 0, 0, 0, 0, 0, 0, 0, 0, 0, 0, 0, 0, 0, 0, 0, 0, 0, 0, 0, 0, 0, 0, 0, 0, 0, 0, 0, 0, 0, 0, 0, 0, 0, 0, 0, 0, 0, 0, 0, 0, 0, 0, 0, 0, 0, 0, 0, 0, 0, 0, 0, 0, 0, 0, 0, 0, 0, 0, 0, 0, 0, 0, 0, 0, 0, 0, 0, 0, 0, 0, 0, 0, 0, 0, 0, 0, 0, 0, 0, 0, 0, 0, 0, 0, 0, 0, 0, 0, 0, 0, 0, 0, 0, 0, 0, 0, 0, 0, 0, 0, 0, 0, 0, 0, 0, 0, 0, 0, 0, 0, 0, 0, 0, 0, 0, 0, 0, 0, 0, 0, 0, 0, 0, 0, 0, 0, 0, 0, 0, 0, 0, 0, 0, 0, 0, 0, 0, 0, 0, 0, 0, 0, 0, 0, 0, 0, 0, 0, 0, 0, 0, 0, 0, 0, 0, 0, 0, 0, 0, 0, 0, 0, 0, 0, 0, 0, 0, 0, 0, 0, 0, 0, 0, 0, 0, 0, 0, 0, 0, 0, 0, 0, 0, 0, 0, 0, 0, 0, 0, 0, 0, 0, 0, 0, 0, 0, 0, 0, 0, 0, 0, 0, 0, 0, 0, 0, 0, 0, 0, 0, 0, 0, 0, 0, 0, 0, 0, 0, 0, 0, 0, 0, 0, 0, 0, 0, 0, 0, 0, 0, 0, 0, 0, 0, 0, 0, 0, 0, 0, 0, 0, 0, 0, 0, 0, 0, 0, 0, 0, 0, 0, 0, 0, 0, 0, 0, 0, 0, 0, 0, 0, 0, 0, 0, 0, 0, 0, 0, 0, 0, 0, 0, 0, 0, 0, 0, 0, 0, 0, 0, 0, 0, 0, 0, 0, 0, 0, 0, 0, 0, 0, 0, 0, 0, 0, 0, 0, 0, 0, 0, 0, 0, 0, 0, 0, 0, 0, 0, 0, 0, 0, 0, 0, 0, 0, 0, 0, 0, 0, 0, 0, 0, 0, 0, 0, 0, 0, 0, 0, 0, 0, 0, 0, 0, 0, 0, 0, 0, 0, 0, 0, 0, 0, 0, 0, 0, 0, 0, 0, 0, 0, 0, 0, 0, 0, 0, 0, 0, 0, 0, 0, 0, 0, 0, 0, 0, 0, 0, 0, 0, 0, 0, 0, 0, 0, 0, 0, 0, 0, 0, 0, 0, 0, 0, 0, 0, 0, 0, 0, 0, 0, 0, 0, 0, 0, 0, 0, 0, 0, 0, 0, 0, 0, 0, 0, 0, 0, 0, 0, 0, 0, 0, 0, 0, 0, 0, 0, 0, 0, 0, 0, 0, 0, 0, 0, 0, 0, 0, 0, 0, 0, 0, 0, 0, 0, 0, 0, 0, 0, 0, 0, 0, 0, 0, 0, 0, 0, 0, 0, 0, 0, 0, 0, 0, 0, 0, 0, 0, 0, 0, 0, 0, 0, 0, 0, 0, 0, 0, 0, 0, 0, 0, 0, 0, 0, 0, 0, 0, 0, 0, 0, 1, 0, 0, 0, 0, 0, 0, 0, 0, 0, 0, 0, 0, 0, 0, 0, 0, 0, 0, 0, 0, 0, 0, 0, 0, 0, 0, 0, 0, 0, 0, 0, 0, 0, 0, 0, 2, 0, 0, 0, 0, 0, 0, 0, 0, 0, 0, 0, 0, 0, 0, 0, 0, 0, 0, 0, 0, 0, 0, 0, 0, 0, 0, 0, 0, 0, 0, 0, 0, 0, 0, 0, 0, 0, 0, 0, 0, 1, 0, 0, 0, 0, 0, 0, 0, 0, 0, 0, 0, 0, 0, 0, 0, 0, 0, 0, 0, 0, 0, 0, 0, 0, 0, 0, 0, 0, 0, 0, 0, 0, 0, 0, 0, 0, 0, 0, 0, 0, 0, 0, 0, 0, 0, 0, 0, 0, 0, 0, 0, 0, 0, 0, 0, 0, 0, 0, 0, 0, 0, 0, 0, 0, 0, 0, 0, 0, 0, 0, 0, 0, 0, 0, 0, 0, 0, 0, 0, 0, 0, 0, 0, 0, 0, 0, 0, 0, 0, 0, 0, 0, 0, 0, 0, 0, 0, 0, 0, 0, 0, 0, 0, 0, 0, 0, 0, 0, 0, 0, 0, 0, 0, 0, 0, 0, 0, 0, 0, 0, 0, 0, 0, 0, 0, 0, 0, 0, 0, 0, 0, 0, 0, 0, 0, 0, 0, 0, 0, 0, 0, 0, 0, 0, 0, 0, 0, 0, 0, 0, 0, 0, 0, 0, 0, 0, 0, 0, 0, 0, 0, 0, 0, 0, 0, 0, 0, 0, 0, 0, 0, 0, 0, 0, 0, 0, 0, 0, 0, 0, 0, 0, 0, 0, 0, 0, 0, 0, 0, 0, 0, 0, 0, 0, 0, 0, 0, 0, 0, 0, 0, 0, 0, 0, 0, 0, 0, 0, 0, 0, 0, 0, 0, 0, 0, 0, 0, 0, 0, 0, 0, 0, 0, 0, 0, 0, 0, 0, 0, 0, 0, 0, 0, 0, 0, 0, 0, 0, 0, 0, 0, 0, 0, 0, 0, 0, 0, 0, 0, 0, 0, 0, 0, 0, 0, 0, 0, 0, 0, 0, 0, 0, 0, 0, 0, 0, 0, 0, 0, 0, 0, 0, 0, 0, 0, 0, 0, 0, 0, 0, 0, 0, 0, 0, 0, 0, 0, 0, 0, 0, 0, 0, 0, 0, 0, 0, 0, 0, 0, 0, 0, 0, 0, 0, 0, 0, 0, 0, 0, 0, 0, 0, 0, 0, 0, 0, 0, 0, 0, 0, 0, 0, 0, 0, 0, 0, 0, 0, 0, 0, 0, 0, 0, 0, 0, 0, 0, 0, 0, 0, 0, 0, 0, 0, 0, 0, 0, 0, 0, 0, 0, 0, 0, 0, 0, 0, 0, 0, 0, 0, 0, 0, 0, 0, 0, 0, 0, 0, 0, 0, 0, 0, 0, 0, 0, 0, 0, 0, 0, 0, 0, 0, 0, 0, 0, 0, 0, 0, 0, 0, 0, 0, 0, 0, 0, 0, 0, 0, 0, 0, 0, 0, 0, 0, 0, 0, 0, 0, 0, 0, 0, 0, 0, 0, 0, 0, 0, 0, 0, 0, 0, 0, 0, 0, 0, 0, 0, 0, 0, 0, 0, 0, 0, 0, 0, 0, 0, 0, 0, 0, 0, 0, 0, 0, 0, 0, 0, 0, 0, 0, 0, 0, 0, 0, 0, 0, 0, 0, 0, 0, 0, 0, 0, 0, 0, 0, 0, 0, 0, 0, 0, 0, 0, 0, 0, 0, 0, 0, 0, 0, 0, 0, 0, 0, 0, 0, 0, 0, 0, 0, 0, 0, 0, 0, 0, 0, 0, 1, 0, 0, 0, 0, 0, 0, 0, 0, 0, 0, 0, 0, 0, 0, 0, 0, 0, 0, 0, 0, 0, 0, 0, 0, 0, 0, 0, 0, 0, 0, 0, 0, 0, 0, 0, 0, 0, 0, 0, 0, 0, 0, 0, 0, 0, 0, 0, 0, 0, 0, 0, 0, 0, 0, 0, 0, 0, 0, 0, 0, 0, 0, 0, 0, 0, 0, 0, 0, 0, 0, 0, 0, 0, 0, 0, 0, 0, 0, 0, 0, 0, 0, 0, 0, 0, 0, 0, 0, 0, 0, 0, 0, 0, 0, 0, 0, 0, 0, 0, 0, 0, 0, 0, 0, 0, 0, 0, 0, 0, 0, 2, 0, 0, 0, 0, 0, 0, 0, 0, 0, 0, 0, 0, 0, 0, 0, 0, 0, 0, 0, 0, 0, 0, 0, 0, 0, 0, 0, 0, 0, 0, 0, 0, 0, 0, 0, 0, 0, 0, 0, 0, 0, 0, 0, 0, 0, 0, 0, 0, 0, 0, 0, 0, 0, 0, 0, 0, 0, 0, 0, 0, 0, 0, 0, 0, 0, 0, 0, 0, 0, 0, 0, 0, 0, 0, 0, 0, 0, 0, 0, 0, 0, 0, 0, 0, 0, 0, 0, 0, 0, 0, 0, 0, 0, 0, 0, 0, 0, 0, 0, 0, 0, 0, 0, 0, 0, 0, 0, 0, 0, 0, 0, 0, 0, 0, 0, 0, 0, 0, 0, 0, 0, 0, 0, 0, 0, 0, 0, 0, 0, 0, 0, 0, 0, 0, 0, 0, 0, 0, 0, 0, 0, 0, 0, 0, 0, 0, 0, 0, 0, 0, 0, 0, 0, 0, 0, 0, 0, 0, 0, 0, 0, 0, 0, 0, 0, 0, 0, 0, 0, 0, 0, 0, 0, 0, 0, 0, 0, 0, 0, 0, 0, 0, 0, 0, 0, 0, 0, 0, 0, 0, 0, 0, 0, 0, 0, 0, 0, 0, 0, 0, 0, 0, 0, 0, 0, 0, 0, 0, 0, 0, 0, 0, 0, 0, 0, 0, 0, 0, 0, 0, 0, 0, 0, 0, 0, 0, 0, 0, 0, 0, 0, 0, 0, 0, 0, 0, 0, 0, 0, 0, 0, 0, 0, 0, 0, 0, 0, 0, 0, 0, 0, 0, 0, 0, 0, 0, 0, 0, 0, 0, 0, 0, 0, 0, 0, 0, 0, 0, 0, 0, 0, 0, 0, 0, 0, 0, 0, 0, 0, 0, 0, 0, 0, 0, 0, 0, 0, 0, 0, 0, 0, 0, 0, 0, 0, 0, 0, 0, 0, 0, 0, 0, 0, 0, 0, 0, 0, 0, 0, 0, 0, 0, 0, 0, 0, 0, 0, 0, 0, 0, 0, 0, 0, 0, 0, 0, 0, 0, 0, 0, 0, 0, 0, 0, 0, 0, 0, 0, 0, 0, 0, 0, 0, 0, 0, 0, 0, 0, 0, 0, 0, 0, 0, 0, 0, 0, 0, 0, 0, 0, 0, 0, 0, 0, 0, 0, 0, 0, 0, 0, 0, 0, 0, 0, 0, 0, 0, 0, 0, 0, 0, 0, 0, 0, 0, 0, 0, 0, 0, 0, 0, 0, 0, 0, 0, 0, 0, 0, 0, 0, 0, 0, 0, 0, 0, 0, 0, 0, 0, 0, 0, 0, 0, 0, 0, 0, 0, 0, 0, 0, 0, 0, 0, 0, 0, 0, 0, 0, 0, 0, 0, 0, 0, 0, 0, 0, 0, 0, 0, 0, 0, 0, 0, 0, 0, 0, 0, 0, 0, 0, 0, 0, 0, 0, 0, 0, 0, 0, 0, 0, 0, 0, 0, 0, 0, 0, 0, 0, 0, 0, 0, 0, 0, 0, 0, 0, 0, 0, 0, 0, 0, 0, 0, 0, 0, 0, 0, 0, 0, 0, 0, 0, 0, 0, 0, 0, 0, 0, 0, 0, 0, 0, 0, 0, 0, 0, 0, 0, 0, 0, 0, 0, 0, 0, 0, 0, 0, 0, 0, 0, 0, 0, 0, 0, 0, 0, 0, 0, 0, 0, 0, 0, 0, 0, 0, 0, 0, 0, 0, 0, 0, 0, 0, 0, 0, 0, 0, 0, 0, 0, 0, 0, 0, 0, 0, 0, 0, 0, 0, 0, 0, 0, 0, 0, 0, 0, 0, 0, 0, 0, 0, 0, 0, 0, 0, 0, 0, 0, 0, 0, 0, 0, 0, 0, 0, 0, 0, 0, 0, 0, 0, 0, 0, 0, 0, 0, 0, 0, 0, 0, 0, 0, 0, 0, 0, 0, 0, 0, 0, 0, 0, 0, 0, 0, 0, 0, 0, 0, 0, 0, 0, 0, 0, 0, 0, 0, 0, 0, 0, 0, 0, 0, 0, 0, 0, 0, 0, 0, 0, 0, 0, 0, 0, 0, 0, 0, 0, 0, 0, 0, 0, 0, 0, 0, 0, 0, 0, 0, 0, 0, 0, 0, 0, 0, 0, 0, 0, 0, 0, 0, 0, 0, 0, 0, 0, 0, 0, 0, 0, 0, 0, 0, 0, 0, 0, 0, 0, 0, 0, 0, 1, 0, 0, 0, 0, 0, 0, 0, 0, 0, 0, 0, 0, 0, 0, 0, 0, 0, 0, 0, 0, 0, 0, 0, 0, 0, 0, 0, 0, 0, 0, 0, 0, 0, 0, 0, 0, 0, 0, 0, 0, 0, 0, 0, 0, 0, 0, 0, 0, 0, 0, 0, 0, 0, 0, 0, 0, 0, 0, 0, 0, 0, 0, 0, 0, 0, 0, 0, 0, 0, 0, 0, 0, 0, 0, 0, 0, 0, 0, 0, 0, 0, 0, 0, 0, 0, 0, 0, 0, 0, 0, 0, 0, 0, 0, 0, 0, 0, 0, 0, 0, 0, 0, 0, 0, 0, 0, 0, 1, 0, 0, 0, 0, 0, 0, 0, 0, 0, 0, 0, 0, 0, 0, 0, 0, 0, 0, 0, 0, 0, 0, 0, 0, 0, 0, 0, 0, 0, 0, 0, 0, 0, 0, 0, 0, 0, 0, 0, 0, 0, 0, 0, 0, 0, 0, 0, 0, 0, 0, 0, 0, 0, 0, 0, 0, 0, 0, 0, 0, 0, 0, 0, 0, 0, 0, 0, 0, 0, 0, 0, 0, 0, 0, 0, 0, 0, 0, 0, 0, 0, 0, 0, 0, 0, 0, 0, 0, 0, 0, 0, 0, 0, 0, 0, 0, 0, 0, 0, 0, 0, 0, 0, 0, 0, 0, 0, 0, 0, 0, 0, 0, 0, 0, 0, 0, 0, 0, 0, 0, 0, 0, 0, 0, 0, 0, 0, 0, 0, 0, 0, 0, 0, 0, 0, 0, 0, 0, 0, 0, 0, 0, 0, 0, 0, 0, 0, 0, 0, 0, 0, 0, 0, 0, 0, 0, 0, 0, 0, 0, 0, 0, 0, 0, 0, 0, 0, 0, 0, 0, 0, 0, 0, 0, 0, 0, 0, 0, 0, 0, 0, 0, 0, 0, 0, 0, 0, 0, 0, 0, 0, 0, 0, 0, 0, 0, 0, 0, 0, 0, 0, 0, 0, 0, 0, 0, 0, 0, 0, 0, 0, 0, 0, 0, 0, 0, 0, 0, 0, 0, 0, 0, 0, 0, 0, 0, 0, 0, 0, 0, 0, 0, 0, 0, 0, 0, 0, 0, 0, 0, 0, 0, 0, 0, 0, 0, 0, 0, 0, 0, 0, 0, 0, 0, 0, 0, 0, 0, 0, 0, 0, 0, 0, 0, 0, 0, 0, 0, 0, 0, 0, 0, 0, 0, 0, 0, 0, 0, 0, 0, 0, 0, 0, 0, 0, 0, 0, 0, 0, 0, 0, 0, 0, 0, 0, 0, 0, 0, 0, 0, 0, 0, 0, 0, 0, 0, 0, 0, 0, 0, 0, 0, 0, 0, 0, 0, 0, 0, 0, 0, 0, 0, 0, 0, 0, 0, 0, 0, 0, 0, 0, 0, 0, 0, 0, 0, 0, 0, 0, 0, 0, 0, 0, 0, 0, 0, 0, 0, 0, 0, 0, 0, 0, 0, 0, 0, 0, 0, 0, 0, 0, 0, 0, 0, 0, 0, 0, 0, 0, 0, 0, 0, 0, 0, 0, 0, 0, 0, 0, 0, 0, 0, 0, 0, 0, 0, 0, 0, 0, 0, 0, 0, 0, 0, 0, 0, 0, 0, 0, 0, 0, 0, 0, 0, 0, 0, 0, 0, 0, 0, 0, 0, 0, 0, 0, 0, 0, 0, 0, 0, 0, 0, 0, 0, 0, 0, 0, 0, 0, 0, 0, 0, 0, 0, 0, 0, 0, 0, 0, 0, 0, 0, 0, 0, 0, 0, 0, 0, 0, 0, 0, 0, 0, 0, 0, 0, 0, 0, 0, 0, 0, 0, 0, 2, 0, 1, 0], type: <class 'list'>, valid types: <class 'bytes'>, <class 'bytearray'>, file-like object"
     ]
    }
   ],
   "source": [
    "response = runtime.invoke_endpoint(EndpointName = xgb_predictor.endpoint, # The name of the endpoint we created\n",
    "                                       ContentType = 'text/csv',                     # The data format that is expected\n",
    "                                       Body = test_bow)"
   ]
  },
  {
   "cell_type": "markdown",
   "metadata": {},
   "source": [
    "So why did we get an error?\n",
    "\n",
    "Because we tried to send the endpoint a list of integers but it expected us to send data of type `text/csv`. So, we need to convert it."
   ]
  },
  {
   "cell_type": "code",
   "execution_count": 47,
   "metadata": {},
   "outputs": [],
   "source": [
    "response = runtime.invoke_endpoint(EndpointName = xgb_predictor.endpoint, # The name of the endpoint we created\n",
    "                                       ContentType = 'text/csv',                     # The data format that is expected\n",
    "                                       Body = ','.join([str(val) for val in test_bow]).encode('utf-8'))"
   ]
  },
  {
   "cell_type": "code",
   "execution_count": 48,
   "metadata": {},
   "outputs": [
    {
     "name": "stdout",
     "output_type": "stream",
     "text": [
      "{'ResponseMetadata': {'RequestId': '8349acd6-1ae0-4171-a8ff-59f3cfdbdd04', 'HTTPStatusCode': 200, 'HTTPHeaders': {'x-amzn-requestid': '8349acd6-1ae0-4171-a8ff-59f3cfdbdd04', 'x-amzn-invoked-production-variant': 'AllTraffic', 'date': 'Wed, 05 May 2021 09:50:15 GMT', 'content-type': 'text/csv; charset=utf-8', 'content-length': '18'}, 'RetryAttempts': 0}, 'ContentType': 'text/csv; charset=utf-8', 'InvokedProductionVariant': 'AllTraffic', 'Body': <botocore.response.StreamingBody object at 0x7f9868a27cc0>}\n"
     ]
    }
   ],
   "source": [
    "print(response)"
   ]
  },
  {
   "cell_type": "markdown",
   "metadata": {},
   "source": [
    "As we can see, the response from our model is a somewhat complicated looking dict that contains a bunch of information. The bit that we are most interested in is `'Body'` object which is a streaming object that we need to `read` in order to make use of."
   ]
  },
  {
   "cell_type": "code",
   "execution_count": 49,
   "metadata": {},
   "outputs": [
    {
     "name": "stdout",
     "output_type": "stream",
     "text": [
      "0.3992118239402771\n"
     ]
    }
   ],
   "source": [
    "response = response['Body'].read().decode('utf-8')\n",
    "print(response)"
   ]
  },
  {
   "cell_type": "markdown",
   "metadata": {},
   "source": [
    "Now that we know how to process the incoming user data we can start setting up the infrastructure to make our simple web app work. To do this we will make use of two different services. Amazon's Lambda and API Gateway services.\n",
    "\n",
    "Lambda is a service which allows someone to write some relatively simple code and have it executed whenever a chosen trigger occurs. For example, you may want to update a database whenever new data is uploaded to a folder stored on S3.\n",
    "\n",
    "API Gateway is a service that allows you to create HTTP endpoints (url addresses) which are connected to other AWS services. One of the benefits to this is that you get to decide what credentials, if any, are required to access these endpoints.\n",
    "\n",
    "In our case we are going to set up an HTTP endpoint through API Gateway which is open to the public. Then, whenever anyone sends data to our public endpoint we will trigger a Lambda function which will send the input (in our case a review) to our model's endpoint and then return the result."
   ]
  },
  {
   "cell_type": "markdown",
   "metadata": {},
   "source": [
    "### Setting up a Lambda function\n",
    "\n",
    "The first thing we are going to do is set up a Lambda function. This Lambda function will be executed whenever our public API has data sent to it. When it is executed it will receive the data, perform any sort of processing that is required, send the data (the review) to the SageMaker endpoint we've created and then return the result.\n",
    "\n",
    "#### Part A: Create an IAM Role for the Lambda function\n",
    "\n",
    "Since we want the Lambda function to call a SageMaker endpoint, we need to make sure that it has permission to do so. To do this, we will construct a role that we can later give the Lambda function.\n",
    "\n",
    "Using the AWS Console, navigate to the **IAM** page and click on **Roles**. Then, click on **Create role**. Make sure that the **AWS service** is the type of trusted entity selected and choose **Lambda** as the service that will use this role, then click **Next: Permissions**.\n",
    "\n",
    "In the search box type `sagemaker` and select the check box next to the **AmazonSageMakerFullAccess** policy. Then, click on **Next: Review**.\n",
    "\n",
    "Lastly, give this role a name. Make sure you use a name that you will remember later on, for example `LambdaSageMakerRole`. Then, click on **Create role**."
   ]
  },
  {
   "cell_type": "markdown",
   "metadata": {},
   "source": [
    "#### Part B: Create a Lambda function\n",
    "\n",
    "Now it is time to actually create the Lambda function. Remember from earlier that in order to process the user provided input and send it to our endpoint we need to gather two pieces of information:\n",
    "\n",
    " - The name of the endpoint, and\n",
    " - the vocabulary object.\n",
    "\n",
    "We will copy these pieces of information to our Lambda function after we create it.\n",
    "\n",
    "To start, using the AWS Console, navigate to the AWS Lambda page and click on **Create a function**. When you get to the next page, make sure that **Author from scratch** is selected. Now, name your Lambda function, using a name that you will remember later on, for example `sentiment_analysis_xgboost_func`. Make sure that the **Python 3.6** runtime is selected and then choose the role that you created in the previous part. Then, click on **Create Function**.\n",
    "\n",
    "On the next page you will see some information about the Lambda function you've just created. If you scroll down you should see an editor in which you can write the code that will be executed when your Lambda function is triggered. Collecting the code we wrote above to process a single review and adding it to the provided example `lambda_handler` we arrive at the following.\n",
    "\n",
    "```python\n",
    "# We need to use the low-level library to interact with SageMaker since the SageMaker API\n",
    "# is not available natively through Lambda.\n",
    "import boto3\n",
    "\n",
    "# And we need the regular expression library to do some of the data processing\n",
    "import re\n",
    "\n",
    "REPLACE_NO_SPACE = re.compile(\"(\\.)|(\\;)|(\\:)|(\\!)|(\\')|(\\?)|(\\,)|(\\\")|(\\()|(\\))|(\\[)|(\\])\")\n",
    "REPLACE_WITH_SPACE = re.compile(\"(<br\\s*/><br\\s*/>)|(\\-)|(\\/)\")\n",
    "\n",
    "def review_to_words(review):\n",
    "    words = REPLACE_NO_SPACE.sub(\"\", review.lower())\n",
    "    words = REPLACE_WITH_SPACE.sub(\" \", words)\n",
    "    return words\n",
    "    \n",
    "def bow_encoding(words, vocabulary):\n",
    "    bow = [0] * len(vocabulary) # Start by setting the count for each word in the vocabulary to zero.\n",
    "    for word in words.split():  # For each word in the string\n",
    "        if word in vocabulary:  # If the word is one that occurs in the vocabulary, increase its count.\n",
    "            bow[vocabulary[word]] += 1\n",
    "    return bow\n",
    "\n",
    "\n",
    "def lambda_handler(event, context):\n",
    "    \n",
    "    vocab = \"*** ACTUAL VOCABULARY GOES HERE ***\"\n",
    "    \n",
    "    words = review_to_words(event['body'])\n",
    "    bow = bow_encoding(words, vocab)\n",
    "\n",
    "    # The SageMaker runtime is what allows us to invoke the endpoint that we've created.\n",
    "    runtime = boto3.Session().client('sagemaker-runtime')\n",
    "\n",
    "    # Now we use the SageMaker runtime to invoke our endpoint, sending the review we were given\n",
    "    response = runtime.invoke_endpoint(EndpointName = '***ENDPOINT NAME HERE***',# The name of the endpoint we created\n",
    "                                       ContentType = 'text/csv',                 # The data format that is expected\n",
    "                                       Body = ','.join([str(val) for val in bow]).encode('utf-8')) # The actual review\n",
    "\n",
    "    # The response is an HTTP response whose body contains the result of our inference\n",
    "    result = response['Body'].read().decode('utf-8')\n",
    "    \n",
    "    # Round the result so that our web app only gets '1' or '0' as a response.\n",
    "    result = round(float(result))\n",
    "\n",
    "    return {\n",
    "        'statusCode' : 200,\n",
    "        'headers' : { 'Content-Type' : 'text/plain', 'Access-Control-Allow-Origin' : '*' },\n",
    "        'body' : str(result)\n",
    "    }\n",
    "```"
   ]
  },
  {
   "cell_type": "markdown",
   "metadata": {},
   "source": [
    "Once you have copy and pasted the code above into the Lambda code editor, replace the `**ENDPOINT NAME HERE**` portion with the name of the endpoint that we deployed earlier. You can determine the name of the endpoint using the code cell below."
   ]
  },
  {
   "cell_type": "code",
   "execution_count": 50,
   "metadata": {},
   "outputs": [
    {
     "data": {
      "text/plain": [
       "'xgboost-2021-05-05-09-16-27-497'"
      ]
     },
     "execution_count": 50,
     "metadata": {},
     "output_type": "execute_result"
    }
   ],
   "source": [
    "xgb_predictor.endpoint"
   ]
  },
  {
   "cell_type": "markdown",
   "metadata": {},
   "source": [
    "In addition, you will need to copy the vocabulary dict to the appropriate place in the code at the beginning of the `lambda_handler` method. The cell below prints out the vocabulary dict in a way that is easy to copy and paste."
   ]
  },
  {
   "cell_type": "code",
   "execution_count": 51,
   "metadata": {},
   "outputs": [
    {
     "name": "stdout",
     "output_type": "stream",
     "text": [
      "{'please': 3304, 'note': 3044, 'that': 4424, 'havent': 2053, 'seen': 3865, 'the': 4426, 'film': 1716, 'since': 3990, 'discovered': 1280, 'it': 2366, 'in': 2257, '2007': 37, 'and': 226, 'my': 2951, 'town': 4541, 'is': 2360, 'smaller': 4034, 'doesnt': 1309, 'carry': 700, 'however': 2183, 'really': 3556, 'want': 4788, 'to': 4507, 'say': 3799, 'something': 4066, 'about': 67, 'im': 2232, 'actually': 109, 'doing': 1312, 'research': 3644, 'for': 1784, 'university': 4667, 'on': 3105, 'title': 4504, 'character': 758, 'richard': 3686, 'would': 4957, 'like': 2599, 'point': 3316, 'out': 3141, 'person': 3238, 'they': 4442, 'based': 404, 'main': 2707, 'was': 4805, 'reality': 3551, 'completely': 922, 'different': 1248, 'hollywoods': 2138, 'ideas': 2215, 'of': 3083, 'people': 3221, 'artistic': 308, 'granted': 1957, 'real': 3547, 'dr': 1340, 'totally': 4532, 'cure': 1081, 'women': 4923, 'never': 3001, 'have': 2052, 'anything': 260, 'as': 311, 'liberal': 2588, 'represented': 3638, 'think': 4452, 'its': 2370, 'laughable': 2530, 'see': 3855, 'various': 4715, 'critics': 1064, 'who': 4871, 'write': 4967, 'this': 4457, 'has': 2043, 'some': 4061, 'historical': 2119, 'basis': 408, 'only': 3110, 'actual': 108, 'fact': 1621, 'can': 665, 'friendship': 1838, 'between': 475, 'dont': 1324, 'waste': 4808, 'your': 4991, 'time': 4495, 'with': 4911, 'such': 4268, 'horror': 2168, 'experienced': 1581, 'at': 331, 'hands': 2020, 'doctor': 1304, 'now': 3054, 'been': 438, 'by': 642, 'industry': 2280, 'will': 4886, 'keep': 2449, 'you': 4986, 'edge': 1418, 'typically': 4624, 'go': 1924, 'military': 2844, 'war': 4792, 'movies': 2927, 'but': 636, 'worth': 4953, 'serious': 3891, 'also': 199, 'humorous': 2193, 'proved': 3446, 'be': 418, 'heroic': 2090, 'honest': 2146, 'no': 3020, 'matter': 2769, 'what': 4858, 'know': 2489, 'hes': 2093, 'got': 1944, 'back': 378, 'developed': 1223, 'throughout': 4478, 'he': 2056, 'wasnt': 4807, 'just': 2437, 'suit': 4284, 'definitely': 1162, 'could': 1007, 'hero': 2088, 'handle': 2018, 'gun': 1996, 'ending': 1471, 'through': 4477, 'me': 2778, 'little': 2624, 'though': 4461, 'didnt': 1242, 'action': 100, 'glad': 1916, 'saw': 3798, 'nonetheless': 3029, 'checking': 778, 'movie': 2926, 'great': 1964, 'stars': 4155, 'their': 4431, 'earlier': 1399, 'years': 4979, 'stevens': 4183, 'looked': 2647, 'very': 4723, 'convincing': 985, 'jean': 2389, 'his': 2118, 'united': 4664, 'states': 4163, 'heston': 2094, 'did': 1241, 'pretty': 3384, 'good': 1937, 'job': 2405, 'andrew': 228, 'jackson': 2375, 'moments': 2887, 'were': 4848, 'bit': 488, 'stilted': 4190, 'flick': 1754, 'students': 4239, 'learn': 2550, 'part': 3193, 'our': 3139, 'history': 2121, 'shows': 3960, 'all': 187, 'happy': 2032, 'endings': 1472, 'do': 1302, 'not': 3040, 'include': 2261, 'lovers': 2673, 'getting': 1901, 'together': 4511, 'each': 1395, 'other': 3135, 'sometimes': 4067, 'away': 369, 'find': 1726, 'similar': 3978, 'background': 380, 'understand': 4643, 'them': 4432, 'better': 472, 'long': 2644, 'run': 3755, 'viewed': 4737, 'every': 1539, 'year': 4978, 'least': 2554, 'twice': 4613, '16': 8, 'best': 469, 'ive': 2372, 'ever': 1538, 'love': 2669, 'much': 2934, 'big': 478, 'epic': 1506, 'pictures': 3270, 'ill': 2228, 'spare': 4093, 'kick': 2460, 'few': 1700, 'simple': 3983, 'films': 1721, 'where': 4864, 'plot': 3309, 'takes': 4351, 'set': 3898, 'pieces': 3273, 'dialogue': 1234, 'isnt': 2362, 'so': 4046, 'cleverly': 842, 'written': 4972, 'ties': 4490, 'itself': 2371, 'endless': 1473, 'purple': 3473, 'there': 4438, 'are': 285, 'hundreds': 2196, 'fit': 1740, 'bill': 481, 'opinion': 3118, 'gone': 1935, 'seconds': 3848, 'one': 3107, 'ones': 3108, 'an': 223, 'name': 2960, 'quite': 3495, 'execution': 1566, 'whatever': 4859, 'original': 3129, 'up': 4683, 'thanks': 4423, 'bigger': 479, 'budget': 610, 'often': 3095, 'these': 4441, 'kinds': 2478, 'complete': 921, 'disaster': 1276, 'ugly': 4625, 'remake': 3612, 'italian': 2367, 'blew': 505, 'here': 2086, 'cast': 710, 'mostly': 2910, 'excellent': 1555, 'actors': 104, 'succeeds': 4264, 'imdb': 2240, 'youll': 4988, 'scenes': 3811, 'same': 3778, 'line': 2610, 'goes': 1930, 'forth': 1804, 'whom': 4875, 'voice': 4761, 'lot': 2661, 'found': 1811, 'annoying': 249, 'smile': 4036, 'actor': 103, 'gets': 1900, 'chance': 747, 'show': 3953, 'off': 3084, 'or': 3124, 'her': 2085, 'definition': 1163, 'style': 4249, 'cage': 645, 'leading': 2547, 'pack': 3165, 'course': 1019, 'should': 3951, 'noted': 3045, 'amusing': 221, 'mrs': 2930, 'pitt': 3280, 'given': 1913, 'first': 1736, 'chemistry': 782, 'nick': 3012, 'date': 1118, 'review': 3676, 'leads': 2548, 'couple': 1016, 'nice': 3008, 'villain': 4744, 'even': 1533, 'scary': 3807, 'chris': 806, 'play': 3296, 'tough': 4537, 'guy': 2000, 'roles': 3727, 'before': 440, 'deliberately': 1166, 'directed': 1259, 'make': 2713, 'role': 3726, 'from': 1840, 'we': 4823, 'heroes': 2089, 'going': 1931, 'succeed': 4262, 'somehow': 4063, 'sitting': 4007, 'car': 680, 'enjoying': 1487, 'ride': 3692, 'played': 3297, 'tongue': 4518, 'far': 1653, 'cheek': 779, 'went': 4847, 'over': 3148, 'heads': 2059, 'giving': 1915, 'poor': 3328, 'rating': 3529, 'wouldnt': 4958, 'minded': 2850, 'fourth': 1813, 'wall': 4781, 'breaking': 570, 'camera': 659, 'kind': 2476, 'substance': 4258, 'if': 2222, 'executed': 1565, 'worthless': 4954, 'most': 2909, 'wonderfully': 4929, 'noticed': 3049, 'seems': 3864, 'common': 906, 'using': 4698, 'fast': 1661, 'cut': 1089, 'extreme': 1609, 'close': 853, 'shots': 3950, 'direct': 1258, 'days': 1130, 'personally': 3243, 'thing': 4450, 'prefer': 3368, 'stunts': 4246, 'impressive': 2253, 'enough': 1491, 'need': 2987, 'artificial': 306, 'tension': 4404, 'tight': 4492, 'told': 4513, 'many': 2732, 'get': 1899, 'without': 4913, 'losing': 2658, 'life': 2592, 'mean': 2779, 'clearly': 840, 'care': 684, 'man': 2721, 'move': 2921, 'vehicle': 4718, 'put': 3480, 'use': 4692, 'slow': 4031, 'burning': 627, 'finale': 1723, 'drives': 1367, 'into': 2332, 'ground': 1979, 'fun': 1848, 'way': 4820, 'possible': 3350, 'yes': 4982, 'post': 3352, '11': 2, 'picture': 3269, 'social': 4049, 'commentary': 899, 'effort': 1432, 'pacing': 3163, 'uneven': 4649, 'rarely': 3524, 'come': 886, 'than': 4420, 'hate': 2046, 'cars': 702, 'why': 4878, 'reading': 3544, 'comments': 901, 'id': 2212, 'take': 4349, 'numerous': 3062, 'tedious': 4387, 'guess': 1989, 'franchise': 1817, 'any': 256, 'day': 1129, '10': 0, 'bourne': 554, 'jason': 2383, 'matt': 2768, 'damon': 1101, 'spy': 4135, 'kid': 2464, 'block': 508, 'brings': 587, 'quest': 3486, 'identity': 2217, 'seeks': 3860, 'end': 1468, 'latest': 2526, 'program': 3424, 'super': 4295, 'himself': 2111, 'watched': 4813, 'yesterday': 4983, 'today': 4508, 'brilliant': 583, 'recall': 3562, 'remains': 3611, 'weak': 4824, 'still': 4188, 'enjoyable': 1485, 'link': 2613, 'chain': 741, 'weakest': 4825, 'aside': 315, 'chase': 769, 'which': 4867, 'easily': 1406, 'slight': 4027, 'lacking': 2504, 'suspense': 4330, 'boy': 557, 'does': 1308, 'when': 4862, 'escape': 1517, 'police': 3322, 'inept': 2281, 'watching': 4815, 'him': 2110, 'mind': 2849, 'two': 4620, 'guys': 2001, 'create': 1036, 'more': 2904, 'those': 4460, 'million': 2847, 'giant': 1905, 'robots': 3718, 'paul': 3214, 'shooting': 3943, 'la': 2500, 'documentary': 1307, 'filming': 1718, 'characters': 760, 'ordinary': 3128, 'places': 3284, 'cia': 814, 'within': 4912, 'miles': 2843, 'allowed': 190, 'seemed': 3862, 'listen': 2619, 'nothing': 3047, 'less': 2575, 'awe': 370, 'inspiring': 2302, 'used': 4693, 'weapons': 4829, 'being': 448, 'book': 535, 'look': 2646, 'again': 146, 'fan': 1648, 'ask': 316, 'music': 2946, 'helped': 2080, 'hardly': 2036, 'moment': 2886, 'nail': 2957, 'bite': 489, 'acting': 99, 'julia': 2427, 'situation': 4008, 'new': 3003, 'highly': 2105, 'sympathetic': 4342, 'light': 2595, 'plays': 3301, 'sounds': 4084, 'minor': 2857, 'genuinely': 1892, 'looks': 2649, 'struggles': 4235, 'humanity': 2189, 'boring': 543, 'almost': 193, 'works': 4945, 'script': 3834, 'am': 204, 'reminded': 3619, 'scene': 3809, 'brosnan': 597, 'bond': 532, 'sean': 3840, 'asks': 319, 'james': 2378, 'silence': 3974, 'screams': 3828, 'men': 2805, 'killed': 2469, 'made': 2697, 'consider': 949, 'meaning': 2780, 'purpose': 3474, 'how': 2181, 'government': 1948, 'resources': 3651, 'albeit': 173, 'always': 203, 'bothered': 549, 'despite': 1211, 'nearly': 2981, 'anywhere': 263, 'thought': 4462, 'attempts': 343, 'features': 1680, 'maybe': 2776, 'hell': 2077, 'probably': 3407, 'youd': 4987, 'fool': 1779, 'others': 3136, 'drags': 1345, 'touch': 4533, 'near': 2979, 'feel': 1684, 'overlook': 3153, 'summer': 4291, 'match': 2762, 'saying': 3800, 'sure': 4308, 'decides': 1150, 'category': 718, 'fits': 1741, 'story': 4207, 'fairly': 1631, 'interesting': 2325, 'rather': 3528, 'especially': 1520, 'disappointed': 1273, 'spoiler': 4123, 'tell': 4395, 'earth': 1403, 'she': 3923, 'home': 2142, 'calling': 653, 'detective': 1220, 'knows': 2493, 'exactly': 1551, 'whats': 4860, 'plus': 3311, 'video': 4733, 'tape': 4365, 'proof': 3434, 'instead': 2307, 'runs': 3757, 'starts': 4159, 'nuts': 3064, 'everything': 1544, 'expect': 1575, 'then': 4436, 'acts': 107, 'surprised': 4313, 'uncle': 4636, 'stands': 4147, 'walking': 4779, 'well': 4843, 'idiot': 2218, 'dumb': 1385, 'loads': 2633, 'subtle': 4260, 'humor': 2192, 'enjoy': 1484, 'anyone': 259, 'dennis': 1179, 'hopper': 2161, 'mess': 2818, 'head': 2057, 'laugh': 2529, 'aint': 163, 'shakespeare': 3915, 'done': 1322, 'absolutely': 72, 'beautiful': 428, 'holds': 2131, 'own': 3158, 'episode': 1507, 'too': 4522, 'bad': 382, 'hasnt': 2044, 'had': 2003, 'opportunities': 3120, 'tom': 4514, 'navy': 2976, 'perfectly': 3226, 'william': 4887, 'solid': 4057, 'throw': 4479, 'walk': 4775, 'middle': 2833, 'youve': 4995, 'kept': 2456, 'attention': 345, 'laughing': 2533, 'bought': 552, 'soon': 4074, 'available': 361, 'brain': 562, 'candy': 668, 'china': 795, 'choose': 799, 'screen': 3829, 'because': 432, 'italy': 2368, 'couldnt': 1008, 'added': 116, 'acted': 98, 'gave': 1875, 'lessons': 2578, 'morning': 2906, 'obviously': 3072, 'useful': 4694, 'dubbed': 1379, 'thank': 4421, 'goodness': 1938, 'david': 1124, 'peter': 3247, 'full': 1846, 'jokes': 2415, 'meant': 2784, 'taken': 4350, 'seriously': 3892, 'according': 88, 'inside': 2297, 'information': 2288, 'give': 1912, 'sense': 3877, 'behind': 447, 'bedroom': 437, 'doors': 1329, 'while': 4868, 'begin': 442, 'couples': 1017, 'eric': 1514, 'harris': 2038, 'appears': 278, 'lawyer': 2541, 'running': 3756, 'attorney': 348, 'estate': 1525, 'successful': 4266, 'plastic': 3294, 'lets': 2580, 'enter': 1494, 'beautifully': 429, 'porn': 3336, 'star': 4150, 'blue': 518, 'shes': 3930, 'renting': 3629, 'house': 2178, 'across': 96, 'street': 4216, 'lives': 2628, 'herself': 2092, 'beginning': 443, 'window': 4894, 'sees': 3866, 'engaged': 1480, 'girlfriend': 1910, 'alexander': 180, 'secretly': 3851, 'begins': 444, 'wonder': 4926, 'next': 3007, 'four': 1812, 'woman': 4921, 'happens': 2029, 'living': 2629, 'lifestyle': 2593, 'makes': 2716, 'pass': 3201, 'says': 3801, 'plan': 3287, 'motion': 2913, 'office': 3091, 'naked': 2959, 'asking': 318, 'quote': 3496, 'happily': 2030, 'married': 2744, 'theres': 4440, 'wife': 4884, 'stays': 4169, 'girl': 1909, 'door': 1328, 'right': 3696, 'room': 3735, 'after': 143, 'puts': 3481, 'comes': 891, 'having': 2054, 'sex': 3907, 'bear': 420, 'piano': 3264, 'red': 3576, 'eye': 1611, 'obvious': 3071, 'anyway': 261, 'later': 2525, 'three': 4469, 'both': 547, 'order': 3126, 'buy': 640, 'ruin': 3750, 'destroy': 1213, 'practice': 3363, 'guilt': 1994, 'finds': 1728, 'college': 875, 'ago': 154, 'seeing': 3857, 'old': 3100, 'pro': 3406, 'along': 195, 'jealous': 2388, 'business': 633, 'follow': 1772, 'true': 4596, 'fight': 1707, 'against': 147, 'considering': 952, 'involved': 2346, 'except': 1556, 'lengthy': 2570, 'expected': 1577, 'coming': 896, 'second': 3846, 'once': 3106, 'relatively': 3600, 'major': 2711, 'number': 3060, 'times': 4497, 'suppose': 4305, 'surrounded': 4318, 'hardcore': 2034, 'wrap': 4963, 'storyline': 4208, 'overall': 3150, 'grade': 1951, 'fred': 1825, 'comedies': 889, 'drama': 1346, 'somewhat': 4068, 'usual': 4699, 'self': 3869, 'wish': 4904, 'face': 1616, 'performances': 3229, 'quality': 3484, 'werent': 4849, 'warm': 4794, 'liked': 2600, 'blues': 519, 'performance': 3228, 'genre': 1888, 'impressed': 2251, 'turn': 4605, 'able': 66, 'watch': 4811, 'pleasantly': 3303, 'wanted': 4789, 'shed': 3924, 'welcome': 4842, 'comedy': 890, 'girls': 1911, 'act': 97, 'whose': 4877, 'body': 527, 'double': 1331, 'treats': 4575, 'us': 4690, 'sexually': 3910, 'bored': 541, 'husband': 2204, 'directly': 1263, 'results': 3662, 'string': 4227, 'murders': 2943, 'involve': 2345, 'high': 2100, 'class': 833, 'prostitute': 3440, 'nancy': 2964, 'allen': 188, 'wrong': 4973, 'bring': 585, 'night': 3013, 'michael': 2829, 'caine': 647, 'de': 1131, 'rip': 3700, 'excuse': 1564, 'pay': 3216, 'homage': 2141, 'hitchcock': 2123, 'sisters': 4002, 'dressed': 1358, 'kill': 2468, 'loaded': 2632, 'technical': 4381, 'skill': 4013, 'thrillers': 4473, 'absurd': 73, 'tired': 4501, 'feature': 1678, 'surprisingly': 4316, 'effective': 1429, 'jump': 2429, 'scares': 3806, 'nasty': 2968, 'graphic': 1958, 'murder': 2939, 'sequences': 3888, 'past': 3207, 'silly': 3976, 'must': 2950, 'dated': 1119, '1980': 20, 'john': 2409, 'shot': 3949, 'fictional': 1703, 'abraham': 69, 'greatest': 1966, 'faults': 1669, 'may': 2775, 'ability': 65, 'dance': 1103, 'worst': 4952, 'views': 4742, 'reveal': 3670, 'mr': 2929, 'early': 1400, 'lacks': 2505, 'beauty': 430, 'depth': 1190, 'vision': 4754, 'series': 3890, 'gorgeous': 1942, 'ford': 1789, 'unique': 4662, 'telling': 4396, 'sings': 3997, 'young': 4989, 'henry': 2084, 'fonda': 1777, 'clever': 841, 'lincoln': 2608, 'concerns': 934, 'brothers': 599, 'trial': 4580, 'claim': 828, 'committed': 905, 'classic': 835, 'angry': 238, 'mob': 2879, 'justice': 2438, 'lynch': 2691, 'pair': 3176, 'until': 4680, 'steps': 4177, 'rob': 3710, 'case': 707, 'boys': 559, 'follows': 1775, 'become': 433, 'dramas': 1347, 'witnesses': 4916, 'delight': 1167, 'judge': 2424, 'upon': 4684, 'missing': 2869, 'hint': 2112, 'arent': 288, 'hollywood': 2137, 'overly': 3155, 'future': 1856, 'entirely': 1503, 'constructed': 959, 'themes': 4434, 'taste': 4369, 'special': 4097, 'hard': 2033, 'deeper': 1155, 'perfect': 3224, 'example': 1553, 'work': 4940, 'focuses': 1768, 'killings': 2473, 'stories': 4205, 'lots': 2662, 'realistic': 3550, 'necessarily': 2983, 'connected': 945, 'yet': 4984, 'disjointed': 1287, 'tells': 4397, 'words': 4938, 'typical': 4623, 'images': 2235, 'emotions': 1461, 'entire': 1502, 'helps': 2082, 'production': 3419, 'values': 4710, 'might': 2835, 'scare': 3803, 'particular': 3194, 'tone': 4517, 'atmosphere': 333, 'dark': 1115, 'disturbing': 1300, 'depressing': 1188, 'enjoyed': 1486, 'thats': 4425, 'guns': 1998, 'mindless': 2851, 'killing': 2472, 'flop': 1760, 'let': 2579, 'questions': 3489, 'answers': 252, 'type': 4621, 'deal': 1135, 'die': 1243, 'trying': 4601, 'solution': 4059, 'extremely': 1610, 'flawed': 1750, 'toward': 4539, 'personalities': 3241, 'cameras': 660, 'constant': 957, 'greed': 1968, 'happen': 2026, 'low': 2676, 'standard': 4144, 'entertainment': 1500, 'sum': 4289, 'stinks': 4192, 'proves': 3447, 'directors': 1266, 'whoever': 4872, 'certainly': 738, 'reviewers': 3678, 'noir': 3023, 'add': 115, 'comment': 898, 'reviewer': 3677, 'regarding': 3589, 'cook': 988, 'deserved': 1200, 'appeared': 276, 'barbara': 397, 'stanwyck': 4149, 'ball': 388, 'fire': 1734, 'singing': 3995, 'legendary': 2565, 'gene': 1879, 'suggest': 4280, 'phantom': 3251, 'lady': 2507, 'inspired': 2301, 'witnessed': 4915, 'movements': 2924, 'hopes': 2159, 'influenced': 2287, 'drugs': 1374, 'los': 2653, 'moved': 2922, 'south': 4087, 'mother': 2911, 'dies': 1245, 'brother': 598, 'working': 4944, 'sleazy': 4023, 'strip': 4228, 'owner': 3159, 'taking': 4352, 'naive': 2958, 'victor': 4731, 'birthday': 487, 'under': 4639, 'sexy': 3911, 'manipulative': 2727, 'mistress': 2874, 'unfolds': 4651, 'ways': 4822, 'cinematography': 820, 'nudity': 3059, 'explicit': 1591, 'uses': 4697, 'popular': 3333, 'technique': 4383, 'points': 3319, 'view': 4736, 'sequence': 3887, 'pulp': 3465, 'fiction': 1702, 'dogs': 1311, 'device': 1227, 'elements': 1443, 'heat': 2067, 'revealed': 3671, 'motivations': 2915, 'cliché': 844, 'entertaining': 1499, 'call': 651, 'memorable': 2802, 'countries': 1013, 'rent': 3626, 'lose': 2654, 'sleep': 4024, 'mini': 2854, 'alex': 179, 'queen': 3485, 'tried': 4584, 'following': 1774, 'family': 1645, 'whereas': 4865, 'result': 3660, 'masterful': 2758, 'inspiration': 2300, 'firstly': 1737, 'perhaps': 3235, 'tv': 4610, 'saga': 3773, 'shallow': 3917, 'superficial': 4298, 'authentic': 358, 'marks': 2742, 'parts': 3199, 'prepared': 3371, 'mix': 2876, 'last': 2521, 'third': 4455, 'hours': 2177, 'hoped': 2156, 'tale': 4353, 'iii': 2227, 'tales': 4357, 'generations': 1884, 'growing': 1983, 'message': 2819, 'horrible': 2163, 'mistakes': 2873, 'impossible': 2249, 'nomination': 3026, 'alone': 194, 'heres': 2087, 'sam': 3777, 'lee': 2559, 'portrays': 3344, 'caused': 724, 'disappointment': 1275, 'dad': 1095, 'alright': 198, 'explanation': 1590, 'cannot': 670, 'convey': 982, 'sadness': 3770, 'father': 1666, 'crying': 1074, 'fake': 1635, 'literally': 2622, 'tears': 4380, 'corner': 996, 'eyes': 1613, 'connect': 944, 'dog': 1310, 'during': 1387, 'rape': 3521, 'irrelevant': 2358, 'confusing': 942, 'viewer': 4738, 'supposed': 4306, 'heck': 2071, 'cops': 993, 'shoot': 3942, 'killer': 2470, 'started': 4157, 'officer': 3092, 'already': 197, 'dead': 1132, 'opportunity': 3121, 'foot': 1781, 'hurt': 2202, 'clear': 839, 'left': 2561, 'weight': 4840, 'actress': 105, 'nominated': 3025, 'performer': 3231, 'guessing': 1991, 'violence': 4747, 'among': 217, 'children': 792, 'east': 1407, 'wins': 4899, 'cop': 991, 'violent': 4748, 'beating': 425, 'truly': 4597, 'wrote': 4974, 'sick': 3963, 'disgusting': 1286, 'whole': 4873, 'check': 777, 'dream': 1354, 'male': 2719, 'strangers': 4214, 'friends': 1837, 'help': 2079, 'lees': 2560, 'avoid': 363, 'shelf': 3926, 'deserve': 1199, 'finally': 1724, 'continue': 969, 'sexual': 3908, 'basic': 406, 'instinct': 2308, 'sequel': 3885, 'packed': 3166, 'needed': 2988, 'remember': 3616, 'romance': 3732, 'master': 2757, 'jerry': 2396, 'else': 1448, 'intense': 2316, 'mistake': 2871, 'winner': 4897, 'audiences': 353, 'everywhere': 1545, '2001': 31, 'news': 3005, 'five': 1743, 'dropped': 1370, 'project': 3427, 'possibility': 3349, 'director': 1264, 'writer': 4968, 'present': 3374, 'stone': 4197, 'hear': 2061, 'due': 1382, 'slightly': 4029, 'word': 4937, 'certain': 737, 'adapted': 114, 'pointless': 3318, 'storytelling': 4209, 'money': 2888, 'reason': 3557, 'numbers': 3061, 'friendly': 1836, 'needs': 2990, 'hole': 2132, 'clean': 838, 'pleasant': 3302, 'gives': 1914, 'fans': 1650, 'weve': 4856, 'expecting': 1578, 'academy': 77, 'award': 366, 'nor': 3032, 'try': 4600, 'simply': 3986, 'delivers': 1172, 'seem': 3861, 'themselves': 4435, 'loose': 2650, 'said': 3774, 'shall': 3916, 'paced': 3162, 'thrills': 4475, 'driving': 1368, 'partner': 3198, 'fare': 1655, 'primary': 3394, 'suspect': 4327, 'accident': 84, 'glass': 1917, 'drawn': 1351, 'meets': 2795, 'another': 250, 'criminal': 1057, 'slowly': 4032, 'surely': 4309, 'around': 297, 'spell': 4104, 'power': 3359, 'possibly': 3351, 'dangerous': 1110, 'rage': 3505, 'erotic': 1515, 'scenery': 3810, 'ensues': 1493, 'mentions': 2813, 'previous': 3387, 'briefly': 580, 'audience': 352, 'level': 2584, 'notch': 3043, '14': 6, 'spot': 4131, 'awesome': 371, 'manages': 2725, 'non': 3027, 'chosen': 805, 'perform': 3227, 'final': 1722, 'live': 2625, 'prize': 3405, 'winning': 4898, 'place': 3282, 'standards': 4145, 'folks': 1771, 'heard': 2062, 'came': 656, 'gotten': 1947, 'awful': 372, 'reviews': 3679, 'colorful': 878, 'group': 1980, 'laughed': 2532, 'recent': 3566, 'independent': 2272, 'subject': 4253, 'dating': 1120, 'peoples': 3222, 'experience': 1580, 'wont': 4932, 'met': 2822, 'recognize': 3569, 'situations': 4009, 'portrayed': 3342, 'comedic': 888, 'fashion': 1659, 'portray': 3340, 'unreal': 4676, 'contrast': 975, 'alert': 178, 'zero': 4996, 'hatred': 2049, 'associated': 327, 'school': 3813, 'huge': 2185, 'mission': 2870, 'filled': 1715, 'massacre': 2754, 'attack': 337, 'fellow': 1691, 'favorite': 1671, 'respected': 3653, 'teens': 4392, 'honestly': 2147, 'understanding': 4645, 'event': 1535, 'events': 1536, 'knew': 2486, 'english': 1483, 'assigned': 325, 'generation': 1883, 'everyone': 1542, 'pick': 3265, 'twin': 4615, 'tragic': 4552, 'choice': 797, '3rd': 47, 'idea': 2213, 'leave': 2555, 'effect': 1428, 'interviews': 2330, 'sky': 4017, 'terror': 4412, 'thousands': 4466, 'compelling': 916, 'down': 1335, 'horrific': 2166, 'masterpiece': 2759, 'although': 201, 'agree': 155, 'ashamed': 312, 'pile': 3275, '80s': 59, 'outside': 3146, 'viewing': 4740, 'local': 2634, 'store': 4204, 'monsters': 2893, 'costume': 1005, 'lines': 2612, 'evil': 1548, 'wizard': 4919, 'meet': 2793, 'thrilling': 4474, 'box': 555, 'exciting': 1563, 'castle': 712, 'bird': 484, 'carrying': 701, 'handsome': 2021, 'safety': 3772, 'engaging': 1481, 'none': 3028, 'sea': 3838, 'pure': 3471, 'value': 4709, 'lost': 2660, 'beat': 423, 'supporting': 4304, 'bette': 471, 'davis': 1126, 'kids': 2467, 'leaving': 2557, 'mexico': 2827, 'train': 4556, 'relatives': 3601, 'underground': 4640, 'stop': 4201, 'nazis': 2978, 'rest': 3657, 'arrive': 300, 'nazi': 2977, 'either': 1438, 'turns': 4609, 'cares': 690, 'willing': 4889, 'yourself': 4993, 'mid': 2832, 'superb': 4296, 'tracks': 4545, 'black': 493, 'turned': 4606, 'attempt': 340, 'returning': 3667, 'including': 2264, 'joan': 2404, 'existent': 1572, 'entry': 1504, 'wished': 4905, 'hand': 2015, 'held': 2074, 'minutes': 2859, 'capture': 676, 'tense': 4403, 'intimate': 2331, 'combat': 882, 'equally': 1510, 'occasional': 3074, 'technology': 4385, 'laws': 2540, 'current': 1084, 'exist': 1569, 'sort': 4077, 'gritty': 1977, 'magic': 2703, 'absence': 70, 'involving': 2349, 'writers': 4969, 'emotional': 1459, 'connection': 946, 'blank': 501, 'faced': 1617, 'unlike': 4670, 'reveals': 3673, 'truth': 4599, 'satisfying': 3791, 'conclusion': 936, 'swimming': 4338, 'pool': 3327, 'water': 4816, 'sit': 4003, 'lily': 2605, 'relationship': 3597, 'crush': 1072, 'captain': 674, 'team': 4378, 'leader': 2546, 'blonde': 511, 'persona': 3239, 'secret': 3849, 'visually': 4758, 'marie': 2737, 'party': 3200, 'image': 2233, 'bomb': 531, 'bathroom': 412, 'mirror': 2861, 'imitation': 2241, 'breaks': 571, 'heart': 2064, 'catching': 716, 'flies': 1756, 'appearances': 275, 'sake': 3775, 'looking': 2648, 'agrees': 157, 'mechanical': 2788, 'wants': 4791, 'seemingly': 3863, 'important': 2247, 'cant': 671, 'princess': 3397, 'respect': 3652, 'lips': 2615, 'easy': 1410, 'kiss': 2483, 'friend': 1835, 'attached': 336, 'carries': 699, 'meeting': 2794, 'expectations': 1576, 'closet': 858, 'frustrated': 1842, 'toy': 4542, 'anne': 246, 'food': 1778, 'presents': 3377, 'physical': 3262, 'tries': 4585, 'breasts': 572, 'flat': 1748, 'chest': 784, 'thinks': 4454, 'fat': 1663, 'brutal': 603, 'suggests': 4282, 'potential': 3355, 'sister': 4001, 'parents': 3188, 'mad': 2696, 'anyways': 262, 'talking': 4360, 'loved': 2670, 'dvd': 1391, 'somewhere': 4069, '15': 7, 'song': 4071, 'variety': 4714, 'funny': 1852, 'lively': 2627, 'creative': 1041, 'process': 3412, 'premise': 3370, 'lighting': 2596, 'driven': 1365, 'difficult': 1249, 'facial': 1619, 'expressions': 1603, 'spoken': 4126, 'world': 4946, 'cinema': 816, 'festival': 1697, 'reactions': 3542, 'unwatchable': 4682, 'sloppy': 4030, 'painful': 3171, 'unfortunately': 4654, 'remembered': 3617, 'bright': 581, 'lights': 2597, 'african': 142, 'wave': 4818, 'remarkable': 3613, 'indeed': 2271, 'rated': 3527, 'disappeared': 1271, 'cinemas': 817, 'weeks': 4839, 'release': 3602, 'limited': 2606, 'appeal': 271, 'emotionally': 1460, 'helping': 2081, 'masters': 2761, 'keeping': 2450, 'several': 3905, 'crafted': 1029, 'gem': 1877, 'paltrow': 3178, 'jeremy': 2394, 'ms': 2931, 'finest': 1730, 'oh': 3096, 'sorry': 4076, 'convincingly': 986, 'charming': 768, 'alan': 171, 'sets': 3899, 'costumes': 1006, 'soundtrack': 4085, 'art': 304, 'visual': 4757, 'period': 3236, 'plenty': 3307, 'cool': 989, 'editing': 1421, 'england': 1482, 'directing': 1260, 'emma': 1457, 'pity': 3281, 'realize': 3552, 'aware': 368, 'visit': 4755, 'lovely': 2671, 'jane': 2380, 'adaptation': 113, 'strictly': 4223, 'speaking': 4095, 'closest': 857, 'nyc': 3065, 'orson': 3132, 'welles': 4844, 'horse': 2170, 'central': 735, 'park': 3190, 'regret': 3591, 'fresh': 1833, 'fallen': 1638, 'snow': 4045, 'nowhere': 3056, 'convoluted': 987, 'darker': 1116, 'secrets': 3852, 'childhood': 790, 'shadows': 3913, 'hidden': 2096, 'mary': 2751, 'short': 3946, 'shorts': 3948, 'offered': 3088, 'detailed': 1218, 'analysis': 224, 'particularly': 3195, 'regard': 3588, 'related': 3594, 'question': 3487, 'books': 536, 'roman': 3731, 'city': 825, 'wars': 4804, '1940s': 13, 'elizabeth': 1445, 'curse': 1086, 'golden': 1934, 'age': 148, 'thinking': 4453, 'making': 2718, 'hed': 2072, 'state': 4160, 'ran': 3513, 'studios': 4241, 'floor': 1759, 'above': 68, 'sent': 3880, 'hospital': 2172, 'spite': 4117, 'became': 431, 'obsessed': 3069, 'despair': 1207, 'known': 2492, 'modern': 2882, 'crime': 1055, 'called': 652, 'kicked': 2461, 'ii': 2226, 'producer': 3415, 'someone': 4064, 'imaginative': 2237, 'presented': 3376, 'sneak': 4043, 'lay': 2542, '45': 50, 'bullet': 620, 'path': 3209, 'cat': 713, 'twilight': 4614, 'zone': 4999, 'darkness': 1117, 'incredible': 2269, 'luck': 2681, 'includes': 2263, 'took': 4523, 'released': 3603, 're': 3535, 'president': 3378, 'harry': 2039, 'wicked': 4879, 'satire': 3788, 'christopher': 811, 'nuclear': 3057, 'contains': 964, 'statement': 4162, 'concerning': 933, 'american': 213, 'principal': 3398, 'victim': 4729, 'psychotic': 3459, 'dealing': 1136, 'plans': 3292, 'remote': 3622, 'island': 2361, 'acid': 95, 'joke': 2414, 'began': 441, 'destroying': 1215, 'named': 2961, 'dress': 1357, 'painted': 3174, 'ironic': 2355, 'broad': 590, 'interpretation': 2328, 'considered': 951, 'clue': 864, 'viewers': 4739, 'revolves': 3682, 'shark': 3921, 'causes': 725, 'human': 2188, 'san': 3780, 'francisco': 1819, 'museum': 2945, 'condition': 937, 'spending': 4106, 'forget': 1793, 'stay': 4166, 'trouble': 4592, 'clark': 832, 'twenty': 4612, 'gang': 1867, 'revenge': 3675, 'attacks': 339, 'thugs': 4484, 'becomes': 434, 'martial': 2747, 'arts': 310, 'crack': 1027, 'dramatic': 1348, 'versus': 4722, 'angel': 231, 'batman': 413, 'symbolism': 4341, 'wonderful': 4928, 'nostalgia': 3038, 'refreshing': 3586, 'pretentious': 3383, 'garbage': 1870, 'jazz': 2387, 'bonus': 534, 'league': 2549, 'late': 2523, 'pulled': 3462, 'poorly': 3329, 'offer': 3087, 'otherwise': 3137, 'worse': 4951, 'canadian': 667, 'pointed': 3317, 'generally': 1881, 'lack': 2502, 'hoping': 2160, 'producers': 3416, 'forgotten': 1797, 'commercial': 902, 'holes': 2133, 'atrocious': 335, 'effects': 1431, 'six': 4010, 'ranks': 3519, 'protagonists': 3442, '30': 42, 'dialog': 1232, 'imagery': 2234, 'fail': 1625, 'progress': 3425, 'logical': 2639, 'mafia': 2700, 'faith': 1633, 'korean': 2495, 'brought': 600, 'female': 1693, 'student': 4238, 'forced': 1787, 'teach': 4374, 'spoiled': 4122, 'rich': 3685, 'hilarious': 2106, 'revelation': 3674, 'kim': 2475, 'ha': 2002, 'romantic': 3733, 'unnecessary': 4672, 'nude': 3058, 'disney': 1289, 'angela': 232, 'delightful': 1168, 'julie': 2428, 'andrews': 229, 'magical': 2704, 'support': 4303, 'tune': 4602, 'singer': 3993, 'gifted': 1907, 'notice': 3048, 'cameos': 658, 'king': 2479, 'television': 4394, 'bruce': 602, 'small': 4033, 'score': 3822, 'songs': 4072, 'believing': 457, 'road': 3709, 'stretched': 4222, 'german': 1896, 'attacked': 338, 'army': 295, 'struggle': 4234, 'guard': 1988, 'britain': 588, 'tribute': 4581, 'animation': 242, 'stage': 4139, 'asked': 317, 'mention': 2810, 'waves': 4819, 'sensitive': 3879, 'impression': 2252, 'changing': 752, 'death': 1141, 'lasted': 2522, 'opening': 3114, 'weekend': 4838, 'australia': 356, 'rush': 3759, 'ned': 2986, 'kelly': 2452, 'outstanding': 3147, 'lead': 2545, 'paper': 3183, 'read': 3543, 'sunshine': 4294, 'direction': 1261, 'talent': 4354, 'soldiers': 4054, 'design': 1202, 'australian': 357, 'bush': 632, 'irish': 2353, 'century': 736, 'feeling': 1685, 'missed': 2867, 'folk': 1770, 'selling': 3873, 'universal': 4665, 'content': 966, 'myself': 2953, 'embarrassing': 1454, 'felt': 1692, 'throat': 4476, 'constantly': 958, 'alcoholic': 177, 'lonely': 2643, 'problem': 3408, 'cold': 872, 'cheated': 775, 'inner': 2292, 'finished': 1733, 'relief': 3605, 'kevin': 2457, 'okay': 3099, 'orange': 3125, 'teen': 4388, 'avoided': 364, 'adult': 125, 'start': 4156, 'theater': 4427, 'ripped': 3701, 'explosion': 1596, 'aliens': 184, 'shown': 3959, 'buck': 605, 'cheap': 774, 'designed': 1203, 'innocence': 2293, 'ended': 1470, 'study': 4242, 'del': 1165, 'creates': 1038, 'control': 977, 'magnificent': 2705, 'brilliantly': 584, 'polished': 3323, 'cry': 1073, 'join': 2412, 'spanish': 4092, 'urban': 4688, 'landscape': 2513, 'daring': 1114, 'mainly': 2708, 'dealt': 1138, 'endearing': 1469, 'suits': 4287, 'vice': 4727, 'believe': 454, 'competition': 918, 'sports': 4130, 'al': 170, 'banned': 395, 'colors': 879, 'dear': 1140, 'wanna': 4786, 'form': 1798, 'won': 4925, 'global': 1920, 'sheriff': 3929, 'saturday': 3792, 'unless': 4669, 'basically': 407, 'mildly': 2840, 'retarded': 3663, 'speed': 4103, 'stuff': 4243, 'showed': 3956, 'rendition': 3625, 'comedian': 887, 'shouldnt': 3952, 'develop': 1222, 'costs': 1004, 'snl': 4044, 'law': 2538, 'march': 2734, 'occasion': 3073, 'discover': 1279, 'thoughtful': 4463, 'dedicated': 1153, 'focus': 1766, 'appreciated': 280, 'method': 2824, 'filmmaker': 1719, 'circumstances': 822, 'led': 2558, 'version': 4720, 'happened': 2027, 'strong': 4229, 'struck': 4232, 'answer': 251, 'response': 3654, 'notion': 3050, 'headed': 2058, 'stronger': 4230, 'personal': 3240, 'theme': 4433, 'favorites': 1672, 'seven': 3903, 'sinatra': 3989, 'transformation': 4560, 'hope': 2155, 'ruth': 3763, 'gordon': 1940, 'killers': 2471, 'columbo': 881, 'episodes': 1508, 'falk': 1636, 'extra': 1606, 'surprising': 4315, 'tend': 4400, 'contrary': 974, 'dutch': 1389, 'feels': 1687, 'utterly': 4702, 'empty': 1465, 'cinematic': 818, 'whatsoever': 4861, 'problems': 3409, 'identify': 2216, 'shine': 3931, 'disneys': 1290, 'witty': 4917, 'george': 1893, 'jungle': 2434, 'bare': 398, 'lame': 2510, 'liners': 2611, 'idiotic': 2219, 'product': 3418, 'side': 3965, 'gadget': 1860, 'received': 3564, 'homer': 2144, 'grow': 1982, 'falling': 1639, 'trap': 4563, 'son': 4070, 'mine': 2853, 'fate': 1665, 'free': 1827, 'challenge': 743, 'soviet': 4089, 'turning': 4608, 'miss': 2866, 'science': 3816, 'rocket': 3721, 'minds': 2852, 'refuses': 3587, 'force': 1786, 'forces': 1788, 'plain': 3286, 'survival': 4320, 'guts': 1999, 'accept': 80, 'dreams': 1355, 'step': 4175, 'energy': 1478, 'front': 1841, 'football': 1783, '1950s': 14, '1960s': 15, 'areas': 287, 'traditional': 4550, 'courage': 1018, 'speak': 4094, 'tremendous': 4579, 'paris': 3189, 'grand': 1953, 'exceptionally': 1559, 'jim': 2402, 'carrey': 696, 'disappointing': 1274, 'writing': 4971, 'spend': 4105, 'ought': 3138, 'beyond': 476, 'ron': 3734, 'howard': 2182, 'necessary': 2984, 'qualities': 3483, 'measure': 2786, 'horribly': 2164, 'race': 3499, 'driver': 1366, 'contract': 973, 'painfully': 3172, 'unfunny': 4655, 'gags': 1862, 'burt': 629, 'reed': 3580, 'stinker': 4191, 'hair': 2005, 'downright': 1337, 'tons': 4520, 'sixties': 4011, 'reynolds': 3684, 'thankfully': 4422, 'beatty': 427, 'jackie': 2374, 'bag': 384, 'lousy': 2667, 'tiresome': 4502, 'heavy': 2070, 'nights': 3016, 'decent': 1147, 'attractive': 351, 'capable': 672, 'deadly': 1133, 'slasher': 4020, 'sub': 4252, 'collection': 874, 'hundred': 2195, 'treatment': 4574, 'warming': 4795, 'french': 1830, 'deserves': 1201, 'distribution': 1298, 'member': 2800, 'rural': 3758, 'natural': 2973, 'doubt': 1332, 'concept': 930, 'aids': 161, 'aspect': 321, 'leo': 2571, 'hide': 2097, 'explore': 1594, 'surviving': 4323, 'admit': 122, 'fears': 1677, 'immediately': 2242, 'sticks': 4186, 'comfortable': 892, 'break': 569, 'locked': 2637, 'position': 3345, 'switch': 4339, 'gas': 1874, 'fortunately': 1805, 'kicks': 2463, 'decide': 1148, 'makers': 2715, 'white': 4870, 'seat': 3845, 'ahead': 159, 'drive': 1363, 'pleased': 3305, 'merely': 2815, 'fantastic': 1651, 'journey': 2421, 'recommend': 3571, 'trek': 4578, 'space': 4090, 'stewart': 4184, 'aka': 168, 'depression': 1189, 'redeeming': 3577, 'ward': 4793, 'empathy': 1462, 'bother': 548, 'caring': 691, 'theyd': 4443, 'filmed': 1717, 'bat': 410, 'thrown': 4481, 'flying': 1764, 'mst3k': 2932, 'bottom': 551, 'fairy': 1632, 'cinderella': 815, 'stolen': 4195, 'slave': 4022, 'witness': 4914, 'share': 3920, 'wealth': 4826, 'daughter': 1121, 'dollar': 1314, 'signs': 3973, 'playing': 3300, 'shell': 3927, 'prince': 3396, 'eventually': 1537, 'kingdom': 2480, 'terrible': 4407, 'remain': 3609, 'week': 4837, 'desire': 1205, 'fitting': 1742, 'thoroughly': 4459, 'incoherent': 2265, 'ridiculous': 3693, 'st': 4137, 'cute': 1090, 'animals': 240, 'juvenile': 2441, 'glenn': 1918, 'normally': 3034, 'acceptable': 81, 'mask': 2752, 'advantage': 129, 'sound': 4081, 'track': 4544, 'endure': 1475, 'usually': 4700, 'hold': 2129, 'interest': 2323, 'exercise': 1568, 'involves': 2348, 'presentation': 3375, 'language': 2516, 'means': 2783, 'open': 3112, 'baby': 376, 'boom': 537, 'americans': 214, 'moving': 2928, 'co': 867, 'norman': 3035, 'frank': 1821, 'christmas': 810, 'captures': 678, 'trio': 4587, 'expert': 1585, 'cary': 706, 'grant': 1956, 'douglas': 1334, 'proceedings': 3410, 'odds': 3082, 'timeless': 4496, 'hanks': 2025, 'pit': 3278, 'ice': 2210, 'explored': 1595, 'ad': 110, 'daughters': 1122, 'bath': 411, 'manhattan': 2726, 'apartment': 265, 'photo': 3257, 'magazine': 2701, 'realizes': 3554, 'agent': 150, 'advice': 133, 'cole': 873, 'badly': 383, 'torn': 4528, 'favor': 1670, 'push': 3477, 'excessive': 1560, 'rise': 3702, 'imagined': 2239, 'slapstick': 4019, 'flawless': 1751, 'delivery': 1173, 'farce': 1654, 'career': 686, 'originally': 3131, 'funnier': 1850, 'blend': 504, 'appealing': 272, 'color': 877, 'smoking': 4040, 'assistant': 326, 'louise': 2666, 'lovable': 2668, '2004': 34, 'provides': 3450, 'intriguing': 2335, 'material': 2766, 'radio': 3504, 'versions': 4721, 'appropriate': 283, 'cartoon': 704, 'included': 2262, 'comical': 894, 'tour': 4538, 'futuristic': 1857, 'theatrical': 4430, 'trailers': 4555, 'ten': 4399, 'classics': 837, 'extras': 1608, 'japanese': 2382, 'talk': 4358, 'masses': 2755, 'grown': 1984, 'cities': 823, 'battles': 415, 'godzilla': 1929, 'whos': 4876, 'dozen': 1338, 'monster': 2892, 'outer': 3143, 'oddly': 3081, 'charm': 767, 'destroyed': 1214, 'phony': 3256, 'ed': 1415, 'wood': 4933, 'japan': 2381, 'urge': 4689, 'dinosaur': 1255, 'troops': 4591, 'machine': 2693, 'field': 1704, 'wreck': 4965, 'reasonably': 3559, 'mom': 2885, 'parent': 3187, '60s': 54, '90s': 61, 'spooky': 4128, 'younger': 4990, 'older': 3101, 'confusion': 943, 'child': 789, 'youre': 4992, 'ray': 3533, 'hitting': 2126, 'theyre': 4445, 'gory': 1943, 'claims': 830, 'twisted': 4618, 'dull': 1384, 'hour': 2176, 'born': 544, 'dolls': 1316, 'intention': 2319, 'amateur': 206, 'fails': 1628, 'ok': 3098, 'splatter': 4118, 'hilariously': 2107, 'bunch': 623, 'friday': 1834, 'finish': 1732, 'terrorists': 4414, 'eating': 1413, 'dinosaurs': 1256, 'incompetent': 2266, 'colonel': 876, 'scott': 3824, 'joey': 2408, 'gore': 1941, 'general': 1880, 'whenever': 4863, 'creature': 1045, 'adventure': 130, 'ludicrous': 2685, 'success': 4265, 'spoilers': 4124, 'wearing': 4831, 'pull': 3461, 'rubber': 3747, 'morgan': 2905, 'drug': 1373, 'boyfriend': 558, 'murdered': 2940, 'fbi': 1675, 'jeff': 2390, 'explained': 1587, 'slaughter': 4021, 'florida': 1761, 'half': 2007, 'wore': 4939, 'halloween': 2010, 'outfit': 3144, 'spring': 4134, 'vacation': 4704, 'beach': 419, 'starting': 4158, 'computer': 927, 'brad': 560, 'chief': 788, 'jack': 2373, 'saves': 3796, 'weird': 4841, 'church': 813, 'intentions': 2321, 'oz': 3160, 'washington': 4806, 'jay': 2386, 'jones': 2418, 'survive': 4321, 'vicious': 4728, 'large': 2517, 'arrested': 298, 'commit': 904, 'catch': 714, 'loses': 2657, 'hank': 2024, 'joseph': 2419, 'lawrence': 2539, 'unconvincing': 4638, 'victims': 4730, 'sight': 3969, 'insight': 2298, 'drunk': 1375, 'obnoxious': 3067, 'walks': 4780, 'upset': 4687, 'rate': 3526, 'praise': 3364, 'newly': 3004, 'powerful': 3360, '100': 1, 'eight': 1436, 'babe': 375, 'europe': 1529, 'ruins': 3752, 'medium': 2792, 'wonders': 4931, 'political': 3324, '80': 58, 'key': 2458, 'thus': 4486, 'factory': 1623, 'france': 1816, 'reel': 3581, 'workers': 4943, 'clothing': 861, 'louis': 2665, 'le': 2544, 'cinematographer': 819, 'things': 4451, 'apparently': 270, 'managed': 2723, 'minute': 2858, 'abysmal': 76, 'piece': 3272, 'actions': 101, 'frequently': 1832, 'relation': 3595, 'nobody': 3022, 'concerned': 932, 'waters': 4817, 'threatening': 4468, 'buddies': 608, 'apparent': 269, 'element': 1442, 'photography': 3260, 'dreary': 1356, 'wasting': 4810, 'titled': 4505, 'twelve': 4611, 'impact': 2244, '50s': 52, 'wrestling': 4966, 'marty': 2749, 'rock': 3720, 'roll': 3728, 'nose': 3037, 'sounding': 4083, 'ken': 2453, 'stuck': 4237, 'fine': 1729, 'jimmy': 2403, 'mouse': 2919, 'fall': 1637, 'chair': 742, 'jumped': 2430, 'ship': 3934, 'larry': 2520, 'nelson': 2997, 'board': 522, 'improvement': 2256, 'description': 1197, 'blows': 517, 'north': 3036, 'roger': 3724, 'sole': 4055, 'boot': 538, 'scientific': 3817, 'ignore': 2224, 'yellow': 4981, 'tag': 4348, 'artist': 307, 'win': 4892, 'hire': 2116, 'matches': 2764, 'amazing': 209, 'cause': 723, 'showing': 3958, 'hype': 2207, 'crap': 1031, 'stick': 4185, 'crappy': 1032, 'agreed': 156, 'produced': 3414, 'actresses': 106, 'everybody': 1540, 'forgot': 1796, 'network': 3000, 'revolutionary': 3681, 'paying': 3217, 'grandfather': 1954, 'feed': 1683, 'shoots': 3944, 'unfortunate': 4653, 'chased': 770, 'onto': 3111, 'cliff': 847, 'mans': 2730, 'rare': 3523, 'air': 164, 'activities': 102, 'proud': 3444, 'locations': 2636, 'valuable': 4708, 'glimpse': 1919, 'service': 3896, 'leg': 2562, 'damage': 1099, 'imagine': 2238, 'wild': 4885, 'vietnam': 4735, 'wwii': 4975, 'unusual': 4681, 'positive': 3346, 'website': 4834, 'build': 614, 'counter': 1011, 'stress': 4220, 'surprise': 4312, 'falls': 1640, 'screenplay': 3831, 'effectively': 1430, 'era': 1513, 'empire': 1464, 'kate': 2446, 'mark': 2739, 'splendid': 4119, 'superior': 4300, 'et': 1526, 'appear': 273, 'pleasure': 3306, 'wondering': 4930, 'copy': 994, 'delivered': 1170, 'boxing': 556, 'robert': 3713, 'wise': 4903, 'somebody': 4062, 'likes': 2602, 'sport': 4129, 'crucial': 1068, 'transition': 4561, 'rules': 3754, 'illegal': 2229, 'towards': 4540, 'flynn': 1765, 'smith': 4038, 'upper': 4685, 'sullivan': 4288, 'famous': 1647, 'hey': 2095, 'realism': 3549, 'bull': 619, 'semi': 3874, '2002': 32, 'gentle': 1890, 'poignant': 3315, 'community': 908, 'airport': 167, 'west': 4852, 'london': 2641, 'ups': 4686, 'strike': 4224, 'unlikely': 4671, 'passion': 3205, 'soccer': 4048, 'grows': 1985, 'families': 1644, 'talented': 4355, 'backgrounds': 381, 'joe': 2407, 'jonathan': 2417, 'myers': 2952, 'coach': 868, 'crisis': 1060, 'remaining': 3610, 'object': 3066, 'beloved': 461, 'realise': 3548, 'bollywood': 530, 'veteran': 4724, 'khan': 2459, 'struggling': 4236, 'nevertheless': 3002, 'greatly': 1967, 'overrated': 3156, 'jamie': 2379, 'curtis': 1087, 'factor': 1622, 'amount': 219, 'spent': 4108, 'popcorn': 3331, 'sequels': 3886, 'god': 1926, 'zombie': 4997, 'random': 3514, 'quirky': 3493, 'taught': 4370, 'dickens': 1240, 'assume': 328, 'smiling': 4037, 'visuals': 4759, 'terrific': 4409, 'par': 3184, 'cube': 1076, 'likable': 2598, 'loser': 2655, 'dave': 1123, 'miller': 2846, 'alive': 186, 'fights': 1710, 'solo': 4058, 'poem': 3312, 'harder': 2035, 'climactic': 848, 'battle': 414, 'describes': 1196, 'concern': 931, 'marry': 2745, 'mass': 2753, 'depiction': 1185, 'marvelous': 2750, 'building': 615, 'nature': 2975, 'hall': 2009, 'burns': 628, 'changes': 751, 'visits': 4756, 'cell': 730, 'demands': 1175, 'warrior': 4802, 'devil': 1228, 'ah': 158, 'prison': 3401, 'settings': 3901, 'deaths': 1142, 'reduced': 3579, 'mentioned': 2811, 'challenging': 744, '24': 39, 'safe': 3771, 'stunning': 4244, 'debut': 1143, 'deep': 1154, 'intelligence': 2313, 'village': 4743, 'exposed': 1598, 'wears': 4832, 'defeat': 1157, 'consistently': 954, 'test': 4416, 'commented': 900, 'glorious': 1921, 'afternoon': 144, 'cd': 728, 'eddie': 1416, 'albert': 174, 'top': 4525, 'agents': 151, 'countryside': 1015, 'olivier': 3103, 'flight': 1757, 'fancy': 1649, 'relies': 3606, 'heavily': 2069, 'theory': 4437, 'burton': 630, 'hired': 2117, 'defend': 1158, 'accused': 91, 'learns': 2553, 'whether': 4866, 'created': 1037, 'provoking': 3452, 'crocodile': 1065, 'rabbit': 3498, 'explains': 1589, 'relate': 3593, 'ironically': 2356, 'enemy': 1477, 'wells': 4845, 'montage': 2894, 'model': 2880, 'titles': 4506, 'strongly': 4231, 'reminiscent': 3621, 'cameron': 661, 'striking': 4226, 'laughably': 2531, '30s': 44, 'raymond': 3534, 'speech': 4102, 'ideal': 2214, 'expressed': 1601, 'relevant': 3604, 'sir': 4000, 'arthur': 305, 'vhs': 4725, 'edited': 1420, 'machines': 2694, 'exists': 1573, 'alien': 183, 'stupid': 4247, 'confused': 941, 'touching': 4536, 'setting': 3900, 'expensive': 1579, 'sin': 3988, 'combine': 884, 'western': 4853, 'intrigue': 2333, 'cowboy': 1025, 'sword': 4340, 'holding': 2130, 'knife': 2487, 'jumping': 2431, 'bed': 436, 'tiger': 4491, 'dub': 1378, 'gerard': 1895, 'charles': 764, 'former': 1800, 'invasion': 2340, 'messed': 2821, 'etc': 1527, 'anybody': 257, 'racist': 3503, 'woody': 4936, 'basketball': 409, 'players': 3299, 'providing': 3451, 'offended': 3085, 'offers': 3090, 'stanley': 4148, 'save': 3794, 'structure': 4233, 'trick': 4582, 'company': 910, 'backdrop': 379, '17': 9, 'appreciation': 281, 'spielberg': 4110, 'sad': 3767, 'desperate': 1208, 'oscars': 3134, 'sign': 3970, 'blind': 506, 'season': 3843, '70s': 56, 'eve': 1532, 'lone': 2642, 'survivor': 4324, 'plane': 3288, 'crash': 1033, 'pulling': 3463, 'barely': 399, 'awake': 365, 'predictable': 3367, 'online': 3109, 'sarah': 3785, 'michelle': 2830, 'shame': 3918, 'purchased': 3470, 'print': 3399, 'majority': 2712, 'videos': 4734, 'achievement': 94, 'honor': 2150, 'ultra': 4629, 'single': 3996, '40': 48, 'total': 4531, 'celluloid': 731, '2006': 36, 'innovative': 2295, 'documentaries': 1306, 'depicting': 1184, 'freeman': 1829, 'animated': 241, 'decades': 1145, 'theyve': 4446, 'hit': 2122, 'earl': 1398, 'discovery': 1282, 'channel': 753, 'closely': 855, 'touches': 4535, 'deeply': 1156, 'issue': 2364, 'approach': 282, 'planet': 3289, 'aspects': 322, 'hunter': 2199, 'woods': 4935, 'bears': 421, 'types': 4622, 'dying': 1393, 'disagree': 1269, 'comparison': 914, 'uk': 4626, 'religion': 3607, 'america': 212, 'religious': 3608, 'classes': 834, 'country': 1014, 'society': 4050, 'education': 1424, 'believes': 456, 'media': 2789, 'represent': 3637, 'matters': 2770, 'fantasy': 1652, 'remarkably': 3614, 'notable': 3041, 'lyrics': 2692, 'favourite': 1673, 'displayed': 1292, 'susan': 4326, 'walker': 4778, 'footage': 1782, 'trip': 4588, 'moon': 2900, 'tricks': 4583, 'composed': 926, 'raw': 3532, 'millions': 2848, 'narration': 2965, 'audio': 354, 'hearing': 2063, 'revealing': 3672, 'clips': 852, 'chose': 804, 'distant': 1295, 'placed': 3283, 'evidence': 1546, 'robot': 3717, 'sidekick': 3966, 'disbelief': 1277, 'stupidity': 4248, 'medical': 2790, 'staff': 4138, 'clothes': 860, 'un': 4630, 'valley': 4707, 'land': 2511, 'directorial': 1265, 'hotel': 2175, 'creating': 1039, 'argue': 290, 'fascinating': 1658, 'divorce': 1301, 'stated': 4161, 'court': 1020, 'iran': 2350, 'system': 4345, 'africa': 141, 'legal': 2563, 'womens': 4924, 'rights': 3697, 'recognized': 3570, 'prime': 3395, 'abuse': 74, 'aunt': 355, 'fury': 1855, 'served': 3894, 'anymore': 258, 'ya': 4976, 'rain': 3506, 'guilty': 1995, 'broke': 593, 'decade': 1144, 'behavior': 446, 'dancing': 1107, 'pretend': 3381, 'revolution': 3680, 'oscar': 3133, 'worthy': 4956, 'duo': 1386, 'morris': 2908, 'concert': 935, 'musical': 2947, 'genius': 1887, 'defined': 1160, 'sounded': 4082, 'primarily': 3393, 'corny': 997, 'ps': 3453, '20': 29, 'retired': 3664, 'rough': 3741, 'exaggerated': 1552, 'arm': 292, 'silent': 3975, 'mistaken': 2872, 'garbo': 1871, 'shocked': 3939, 'studio': 4240, 'understood': 4647, 'standing': 4146, 'meaningful': 2781, 'expression': 1602, 'returns': 3668, 'wear': 4830, 'return': 3665, 'obsession': 3070, 'becoming': 435, 'sits': 4006, 'featuring': 1681, 'scenario': 3808, 'opens': 3115, 'officers': 3093, 'shadow': 3912, 'sing': 3992, 'gray': 1963, 'opera': 3116, 'voices': 4763, 'larger': 2519, 'spoof': 4127, 'rushed': 3760, 'insult': 2309, 'waiting': 4772, 'evening': 1534, 'streep': 4215, 'members': 2801, 'ann': 244, 'claire': 831, 'danes': 1108, 'addition': 118, 'credits': 1050, 'smooth': 4041, 'alas': 172, 'defense': 1159, 'ginger': 1908, 'rogers': 3725, 'terribly': 4408, 'miscast': 2862, 'british': 589, 'heroine': 2091, 'astaire': 330, 'routine': 3743, 'inventive': 2341, 'highlight': 2103, 'stale': 4141, 'occur': 3076, 'conventional': 979, 'tunes': 4603, 'pop': 3330, 'comic': 893, 'remind': 3618, 'distance': 1294, 'picked': 3266, 'danny': 1112, 'max': 2774, 'forward': 1808, 'button': 639, 'afterwards': 145, 'figured': 1712, 'recorded': 3574, '75': 57, 'minimum': 2856, 'junior': 2435, 'ready': 3546, 'parody': 3192, 'essentially': 1523, 'landing': 2512, 'parker': 3191, 'embarrassed': 1453, 'describe': 1194, 'steals': 4172, 'executive': 1567, 'decision': 1151, 'compared': 912, 'burned': 626, 'shower': 3957, 'rolled': 3729, 'suicide': 4283, 'cagney': 646, 'public': 3460, 'york': 4985, 'fooled': 1780, 'ted': 4386, 'movement': 2923, 'womans': 4922, 'author': 359, 'library': 2589, 'sat': 3786, 'cross': 1066, 'thriller': 4472, 'tradition': 4549, 'lying': 2690, 'perfection': 3225, 'con': 928, 'rick': 3689, 'responsible': 3656, 'sadly': 3769, 'nicholas': 3010, 'taylor': 4372, 'soldier': 4053, 'format': 1799, 'eastern': 1408, 'usa': 4691, 'adds': 119, 'page': 3167, 'novel': 3052, 'largely': 2518, 'exception': 1557, 'development': 1225, 'context': 968, 'lie': 2590, 'lately': 2524, 'sends': 3876, 'odd': 3080, 'twist': 4617, 'poetic': 3313, 'russian': 3762, 'explosions': 1597, 'cgi': 740, 'asian': 314, 'realized': 3553, 'emotion': 1458, 'kudos': 2497, 'memory': 2804, 'deals': 1137, 'reference': 3582, 'chaos': 755, 'fly': 1763, 'believed': 455, 'opposite': 3123, 'proceeds': 3411, 'soul': 4079, 'mate': 2765, 'leaves': 2556, 'quiet': 3492, 'birth': 486, 'frame': 1815, 'presence': 3373, 'ear': 1397, 'humans': 2190, 'justify': 2439, 'flaws': 1752, 'repeat': 3630, 'rolling': 3730, 'unbelievable': 4634, 'gratuitous': 1961, 'cardboard': 682, 'christ': 807, 'wedding': 4836, 'trees': 4577, 'rings': 3699, 'narrative': 2966, 'ex': 1549, 'ben': 463, 'kills': 2474, 'incredibly': 2270, 'gay': 1876, 'closing': 859, 'list': 2617, 'melodrama': 2797, 'treated': 4573, 'press': 3379, 'involvement': 2347, 'celebrity': 729, 'seeking': 3859, 'waitress': 4773, 'shelley': 3928, 'winters': 4901, 'captured': 677, 'forever': 1792, 'besides': 468, 'murderous': 2942, 'paranoia': 3186, 'reporter': 3636, 'mitchell': 2875, 'section': 3853, 'handled': 2019, 'fatal': 1664, 'enters': 1496, 'canada': 666, 'creatures': 1046, 'stereotypical': 4180, 'stereotypes': 4179, 'instance': 2304, 'native': 2972, 'westerns': 4854, 'terms': 4406, 'cave': 727, 'gag': 1861, 'repeated': 3631, 'row': 3744, 'johnson': 2411, 'theaters': 4428, 'christian': 808, 'beliefs': 452, 'entertained': 1498, 'madness': 2698, 'attempted': 341, 'threat': 4467, 'misery': 2865, 'laughter': 2535, 'scared': 3805, 'generic': 1885, 'ages': 152, 'brilliance': 582, 'consists': 955, 'vast': 4716, 'stellar': 4174, 'laughs': 2534, 'significant': 3972, 'coherent': 871, 'combination': 883, 'lowest': 2678, 'witch': 4909, 'bin': 483, 'hiding': 2099, 'watches': 4814, 'irritating': 2359, 'philosophy': 3254, 'thousand': 4465, 'dollars': 1315, 'raise': 3507, 'childish': 791, 'instantly': 2306, 'sci': 3815, 'fi': 1701, 'appearance': 274, 'wet': 4855, 'indians': 2275, 'bits': 490, 'lover': 2672, 'quit': 3494, 'joined': 2413, 'mgm': 2828, 'handful': 2017, 'turkey': 4604, 'wealthy': 4827, 'ladies': 2506, 'johnny': 2410, 'eager': 1396, 'busy': 635, 'worked': 4941, '25': 40, 'strange': 4211, 'property': 3438, 'died': 1244, 'feelings': 1686, 'intensity': 2317, 'stand': 4143, 'climax': 849, 'trilogy': 4586, 'lucas': 2680, 'summary': 4290, 'strikes': 4225, 'hanging': 2023, 'construction': 960, 'ultimate': 4627, 'rebel': 3561, 'luke': 2687, 'travel': 4567, 'rescue': 3643, 'lord': 2652, 'species': 4098, 'forest': 1791, 'mighty': 2836, 'convince': 983, 'sons': 4073, 'vs': 4767, 'spectacular': 4101, 'adults': 126, 'india': 2273, 'union': 4661, 'facing': 1620, 'arrives': 302, 'instant': 2305, 'california': 650, 'manner': 2729, 'staged': 4140, 'fest': 1696, 'develops': 1226, 'chasing': 772, 'tall': 4362, 'elephant': 1444, 'annie': 247, 'protect': 3443, 'jr': 2423, 'chuck': 812, 'lifetime': 2594, 'efforts': 1433, 'accent': 78, 'marriage': 2743, 'tea': 4373, 'gender': 1878, 'saving': 3797, 'false': 1641, 'racial': 3501, 'pride': 3391, 'saved': 3795, 'humble': 2191, 'glory': 1922, 'sacrifice': 3766, 'warner': 4799, 'send': 3875, 'messages': 2820, 'temple': 4398, 'loosely': 2651, 'root': 3737, '90': 60, 'thrill': 4471, 'arms': 294, 'dire': 1257, 'performs': 3234, 'soap': 4047, 'credible': 1048, 'affair': 135, 'philip': 3252, 'scheme': 3812, 'intent': 2318, 'convinced': 984, 'desperately': 1209, 'wed': 4835, 'plight': 3308, 'professional': 3421, 'wake': 4774, 'assault': 324, 'performed': 3230, 'dean': 1139, 'increasingly': 2268, 'curious': 1083, 'price': 3389, 'properly': 3437, 'suffers': 4278, 'benefit': 465, 'provided': 3449, 'average': 362, 'stephen': 4176, 'straight': 4210, 'cable': 644, 'paid': 3169, 'theatre': 4429, 'campbell': 663, 'lacked': 2503, 'relationships': 3598, 'macy': 2695, 'tony': 4521, 'dimensional': 1253, 'donald': 1321, 'sutherland': 4333, 'unforgettable': 4652, 'vincent': 4746, 'formula': 1802, 'putting': 3482, 'cuba': 1075, 'armed': 293, 'training': 4558, 'niro': 3019, 'southern': 4088, 'raised': 3508, 'farm': 1656, 'performers': 3232, 'powers': 3361, 'hal': 2006, 'boat': 523, 'rank': 3518, 'hates': 2048, 'animal': 239, 'wait': 4770, 'petty': 3249, 'doctors': 1305, 'flicks': 1755, 'educational': 1425, 'learned': 2551, 'details': 1219, 'happening': 2028, 'guessed': 1990, 'focused': 1767, 'camp': 662, 'sympathy': 4343, 'pushed': 3478, 'bringing': 586, 'conflict': 939, 'formulaic': 1803, 'cheesy': 781, 'drag': 1342, 'spoil': 4121, 'buying': 641, 'pink': 3277, 'heaven': 2068, 'ignorant': 2223, 'contain': 962, 'plant': 3293, 'moral': 2902, 'corrupt': 1001, 'higher': 2101, 'scale': 3802, 'biggest': 480, 'daily': 1097, 'fortune': 1806, 'useless': 4695, 'private': 3404, 'morality': 2903, 'daniel': 1111, 'editor': 1423, 'ends': 1474, 'souls': 4080, 'likely': 2601, 'dan': 1102, 'partly': 3197, 'fair': 1630, 'further': 1853, 'knowledge': 2491, 'negative': 2991, 'reaction': 3541, 'ring': 3698, 'cox': 1026, 'rubbish': 3748, 'humour': 2194, 'alfred': 181, 'spider': 4109, 'doc': 1303, 'watchable': 4812, 'pushing': 3479, 'tim': 4494, 'guarantee': 1987, 'intelligent': 2314, 'absolute': 71, 'robin': 3715, 'lower': 2677, 'belief': 451, 'travesty': 4570, 'stomach': 4196, 'innocent': 2294, 'meaningless': 2782, 'lesson': 2577, 'hits': 2125, 'trailer': 4554, 'grab': 1949, 'rotten': 3740, 'accidentally': 85, 'willis': 4890, 'thin': 4449, 'change': 749, 'size': 4012, 'madonna': 2699, 'dare': 1113, 'faithful': 1634, 'believable': 453, 'scrooge': 3837, 'carol': 693, 'inspector': 2299, 'matched': 2763, 'robinson': 3716, 'portrayal': 3341, 'abusive': 75, 'finding': 1727, 'deceased': 1146, 'russell': 3761, 'similarly': 3980, 'skills': 4014, 'warned': 4798, 'pot': 3354, 'brady': 561, 'murphy': 2944, 'hills': 2109, 'professor': 3422, 'letters': 2582, 'extended': 1604, 'funniest': 1851, 'plots': 3310, 'fear': 1676, 'shines': 3932, 'pace': 3161, 'don': 1320, 'baker': 385, 'suffered': 4276, 'mike': 2838, 'supernatural': 4302, 'gift': 1906, 'suffice': 4279, 'intended': 2315, 'neighbor': 2992, 'game': 1864, 'dances': 1106, 'engage': 1479, 'draw': 1349, 'distinct': 1296, 'ghost': 1902, 'tommy': 4516, 'talents': 4356, 'regular': 3592, 'betty': 474, 'hill': 2108, 'bland': 500, 'steal': 4170, 'loving': 2675, 'excited': 1561, 'staying': 4168, 'differences': 1247, 'naturally': 2974, 'mood': 2898, 'makeup': 2717, 'genuine': 1891, 'subplot': 4255, 'iraq': 2351, 'anti': 254, 'helicopter': 2076, 'followed': 1773, 'accurate': 90, 'tragedy': 4551, 'cooper': 990, 'daddy': 1096, 'aired': 165, 'holmes': 2139, 'stiff': 4187, 'report': 3635, 'drivel': 1364, 'promising': 3433, 'appreciate': 279, 'uninteresting': 4660, 'protagonist': 3441, 'goal': 1925, 'inane': 2258, 'filmmakers': 1720, 'provide': 3448, 'mill': 2845, 'billy': 482, 'gods': 1928, 'shining': 3933, 'sandra': 3782, 'poster': 3353, 'loves': 2674, 'surrounding': 4319, 'apart': 264, 'clichés': 846, 'accents': 79, 'whilst': 4869, 'similarities': 3979, 'clichéd': 845, 'vaguely': 4706, 'doubts': 1333, 'culture': 1079, 'hopefully': 2157, 'affected': 137, 'brains': 563, 'kinda': 2477, 'international': 2326, 'terrorist': 4413, 'contact': 961, 'appearing': 277, 'jail': 2376, 'security': 3854, 'taxi': 4371, 'emily': 1456, 'starring': 4154, 'productions': 3420, 'cameo': 657, 'lena': 2568, 'akshay': 169, 'underrated': 4642, 'lucky': 2683, 'suitable': 4285, 'crude': 1069, 'haunted': 2050, 'mysterious': 2955, 'eerie': 1427, 'deliver': 1169, 'keeps': 2451, 'unbearable': 4633, 'creepy': 1052, 'freddy': 1826, 'mediocre': 2791, 'illogical': 2231, 'allows': 192, 'separate': 3883, 'individual': 2277, 'credit': 1049, 'grave': 1962, 'gain': 1863, 'equal': 1509, 'americas': 215, 'reach': 3536, 'individuals': 2278, 'dignity': 1252, 'honesty': 2148, 'integrity': 2311, 'vague': 4705, 'pre': 3365, 'source': 4086, 'yeah': 4977, 'figure': 1711, 'theyll': 4444, 'twists': 4619, 'casting': 711, 'command': 897, 'dynamic': 1394, '1990s': 25, 'everyones': 1543, 'trash': 4565, 'stiller': 4189, 'hated': 2047, 'ourselves': 3140, '2nd': 41, 'teacher': 4375, 'frightening': 1839, 'recently': 3567, 'barry': 401, 'ralph': 3510, 'careers': 687, 'achieved': 93, 'escaped': 1518, 'trapped': 4564, 'rising': 3703, 'brando': 566, 'charisma': 762, 'sorts': 4078, 'husbands': 2205, 'location': 2635, 'aged': 149, 'spirit': 4113, 'moore': 2901, 'grew': 1972, 'teenager': 4390, 'crowd': 1067, '50': 51, 'thirty': 4456, 'awkward': 374, 'prequel': 3372, 'tracy': 4546, 'spends': 4107, 'wishing': 4907, 'hood': 2151, 'station': 4164, 'bank': 394, 'trust': 4598, 'anderson': 227, 'advanced': 128, 'childrens': 793, 'antics': 255, 'exceptional': 1558, 'complaint': 920, 'cartoons': 705, 'bumbling': 622, 'amazingly': 210, 'ease': 1404, 'forgettable': 1794, 'mothers': 2912, 'wound': 4960, 'band': 391, 'beaten': 424, 'cuts': 1091, 'em': 1452, 'explaining': 1588, 'shake': 3914, 'alternate': 200, 'mentioning': 2812, 'bet': 470, 'european': 1530, 'portraying': 3343, 'enjoyment': 1488, 'fell': 1690, 'personality': 3242, 'performing': 3233, 'arrival': 299, 'critical': 1062, 'amazed': 208, 'eat': 1411, 'graphics': 1959, 'letter': 2581, 'longer': 2645, 'steve': 4181, 'described': 1195, 'hurts': 2203, 'terry': 4415, 'gonna': 1936, 'pg': 3250, '13': 4, 'channels': 754, 'promise': 3430, 'cheese': 780, 'wannabe': 4787, 'projects': 3428, 'experiment': 1583, 'passing': 3204, 'resemblance': 3645, 'fx': 1858, 'edition': 1422, 'sue': 4274, 'bob': 524, 'sentence': 3881, 'bleak': 503, 'wandering': 4785, 'coffee': 870, 'shop': 3945, 'occasionally': 3075, 'asleep': 320, 'mundane': 2938, 'reminds': 3620, 'mixture': 2878, 'wit': 4908, 'lazy': 2543, 'linda': 2609, 'soft': 4051, 'knock': 2488, 'mel': 2796, 'brooks': 596, 'mystery': 2956, '3000': 43, 'infamous': 2284, 'quickly': 3491, 'misses': 2868, 'department': 1182, 'skip': 4016, 'ass': 323, 'damn': 1100, 'throws': 4482, 'kitchen': 2485, 'sink': 3999, 'artists': 309, 'popularity': 3334, 'highlights': 2104, 'chinese': 796, 'restored': 3659, 'massive': 2756, 'buff': 611, 'games': 1865, 'miserable': 2863, 'conceived': 929, 'learning': 2552, 'joy': 2422, 'attitudes': 347, 'loud': 2664, 'introduction': 2339, 'contemporary': 965, 'franco': 1820, 'civil': 826, 'ballet': 389, 'junk': 2436, 'anna': 245, 'notorious': 3051, 'historically': 2120, 'scottish': 3825, 'square': 4136, 'jennifer': 2392, 'chaplin': 756, 'maggie': 2702, 'catherine': 719, 'attraction': 350, 'definite': 1161, 'depressed': 1187, 'neither': 2996, 'arnold': 296, 'forbidden': 1785, 'tomatoes': 4515, 'caught': 722, 'dragged': 1343, 'fetched': 1698, 'flesh': 1753, 'cult': 1077, 'creep': 1051, 'steel': 4173, 'oil': 3097, 'nations': 2971, 'access': 83, 'worlds': 4947, 'difference': 1246, 'mental': 2808, 'drew': 1360, 'introduced': 2337, 'teenage': 4389, 'hardy': 2037, 'amongst': 218, 'cover': 1022, 'subsequent': 4257, 'thick': 4447, 'river': 3707, 'heights': 2073, 'roberts': 3714, 'environment': 1505, 'normal': 3033, 'suspicious': 4332, 'solve': 4060, 'scooby': 3820, 'doo': 1325, 'minimal': 2855, 'chick': 786, 'memories': 2803, 'ruined': 3751, 'mtv': 2933, 'horrors': 2169, 'pat': 3208, 'sell': 3871, 'derek': 1192, 'meanwhile': 2785, 'robbery': 3711, 'investigate': 2342, 'kicking': 2462, 'buddy': 609, 'listening': 2620, 'flash': 1745, 'mouth': 2920, 'sucked': 4270, 'sheer': 3925, 'fully': 1847, 'arrogant': 303, 'tie': 4488, 'surreal': 4317, 'importantly': 2248, 'furthermore': 1854, 'compare': 911, 'intellectual': 2312, 'ultimately': 4628, 'abandoned': 62, 'essential': 1522, 'unable': 4631, 'account': 89, 'tonight': 4519, 'holiday': 2134, 'persons': 3244, 'sadistic': 3768, 'prisoner': 3402, 'continues': 971, 'opposed': 3122, 'beings': 449, 'surface': 4310, 'centers': 734, 'flashback': 1746, 'regardless': 3590, 'moronic': 2907, 'purchase': 3469, 'cash': 709, 'idiots': 2220, 'stooges': 4200, 'blake': 498, 'stranger': 4213, 'bucks': 606, 'reaching': 3539, 'hot': 2174, 'promises': 3432, 'butt': 638, 'failed': 1626, 'explain': 1586, 'scream': 3826, 'treat': 4572, 'area': 286, 'rented': 3628, 'worn': 4948, 'anthony': 253, 'speaks': 4096, 'dorothy': 1330, 'scores': 3823, 'melodramatic': 2798, 'exact': 1550, 'countless': 1012, 'dry': 1377, 'achieve': 92, 'length': 2569, 'utter': 4701, 'picking': 3267, 'insane': 2296, 'competent': 917, 'edie': 1419, 'sally': 3776, 'elvira': 1450, 'lol': 2640, 'bus': 631, 'mansion': 2731, 'hugh': 2186, 'models': 2881, 'youth': 4994, 'hearted': 2065, 'bar': 396, 'wayne': 4821, 'rid': 3690, 'smart': 4035, 'realizing': 3555, 'isolated': 2363, 'decided': 1149, 'drawing': 1350, 'teeth': 4393, 'timothy': 4499, 'moves': 2925, 'mario': 2738, 'disc': 1278, 'introduce': 2336, 'resist': 3648, 'wishes': 4906, 'encounters': 1467, 'mountain': 2917, 'dawn': 1127, 'earned': 1401, 'texas': 4418, 'horses': 2171, 'priceless': 3390, 'suspend': 4329, 'scripted': 3835, 'hang': 2022, 'desert': 1198, 'truck': 4595, 'neat': 2982, 'widely': 4881, 'recommended': 3572, 'wow': 4962, 'demented': 1176, 'marketing': 2741, 'resident': 3647, 'suddenly': 4273, 'internet': 2327, 'continuity': 972, 'stan': 4142, 'unseen': 4678, 'introduces': 2338, 'worried': 4949, 'prevent': 3385, 'toys': 4543, 'gradually': 1952, 'werewolf': 4850, 'center': 732, 'strangely': 4212, 'catchy': 717, 'trade': 4547, 'metal': 2823, 'scientist': 3818, 'manage': 2722, 'van': 4713, 'angle': 236, 'practically': 3362, 'outrageous': 3145, 'crazy': 1035, 'hat': 2045, 'ears': 1402, 'bizarre': 492, 'wrapped': 4964, 'currently': 1085, 'sold': 4052, 'roots': 3738, 'essence': 1521, 'receive': 3563, 'text': 4419, 'therefore': 4439, 'drink': 1361, '1930s': 11, 'branagh': 564, 'belong': 459, 'dreadful': 1353, 'lane': 2515, 'mild': 2839, 'forty': 1807, 'plague': 3285, 'titanic': 4503, 'conspiracy': 956, 'ocean': 3079, 'pearl': 3220, 'sun': 4292, 'hooked': 2153, 'everyday': 1541, 'crew': 1053, 'pants': 3182, 'menacing': 2807, '1972': 18, 'successfully': 4267, 'rose': 3739, 'brutally': 604, 'blame': 499, 'laid': 2508, 'feet': 1688, 'experiments': 1584, 'border': 539, 'card': 681, 'wisdom': 4902, 'reads': 3545, 'sucks': 4271, 'walked': 4776, 'creator': 1043, 'cats': 721, 'digital': 1251, 'copies': 992, 'blood': 512, 'mixed': 2877, 'atmospheric': 334, 'bold': 528, 'ho': 2127, 'elsewhere': 1449, 'insulting': 2310, 'screening': 3830, 'club': 863, 'offensive': 3086, 'psycho': 3457, 'molly': 2884, 'centered': 733, 'punch': 3466, 'happiness': 2031, 'wind': 4893, 'cases': 708, 'built': 618, 'nearby': 2980, '60': 53, 'ships': 3935, 'freedom': 1828, 'brown': 601, 'orders': 3127, 'knowing': 2490, 'destiny': 1212, 'physically': 3263, 'rival': 3706, 'eg': 1434, 'charismatic': 763, 'simon': 3982, 'leslie': 2574, 'loyal': 2679, 'walter': 4784, 'roy': 3745, 'elaborate': 1439, 'grey': 1973, 'voiced': 4762, 'fox': 1814, 'guest': 1992, 'worry': 4950, 'presumably': 3380, 'initially': 2291, 'psychic': 3456, 'psychiatrist': 3455, 'resembles': 3646, 'novels': 3053, 'commercials': 903, 'notably': 3042, 'ryan': 3765, 'clues': 865, 'carried': 698, 'extraordinary': 1607, 'reunion': 3669, 'fault': 1668, 'domestic': 1318, 'nicely': 3009, 'lived': 2626, 'relative': 3599, 'hearts': 2066, 'removed': 3624, 'alike': 185, 'civilization': 827, '2000': 30, 'interested': 2324, 'leonard': 2572, 'glover': 1923, 'admittedly': 123, '1980s': 21, 'angeles': 233, 'fix': 1744, 'plausible': 3295, 'conservative': 948, 'tiny': 4500, 'porno': 3337, 'losers': 2656, 'fashioned': 1660, 'wives': 4918, 'shock': 3938, 'stylish': 4251, 'carefully': 689, 'jerk': 2395, 'official': 3094, 'failing': 1627, 'citizen': 824, 'financial': 1725, 'charge': 761, 'rambo': 3511, 'blowing': 515, 'wanting': 4790, 'sweet': 4336, 'escapes': 1519, 'spoke': 4125, 'politics': 3326, 'succeeded': 4263, 'figures': 1713, 'complicated': 925, 'photographed': 3258, 'reputation': 3640, 'hudson': 2184, 'unknown': 4668, 'indian': 2274, '40s': 49, 'mann': 2728, 'paint': 3173, 'treasure': 4571, 'hunters': 2200, 'searching': 3842, 'gold': 1932, 'closer': 856, 'synopsis': 4344, 'map': 2733, 'attend': 344, 'fascinated': 1657, 'royal': 3746, 'victoria': 4732, 'count': 1010, 'bore': 540, 'passionate': 3206, 'blunt': 520, 'questionable': 3488, 'below': 462, 'reaches': 3538, 'ancient': 225, '1st': 28, 'pain': 3170, 'travels': 4569, 'mail': 2706, 'landscapes': 2514, 'martin': 2748, 'wes': 4851, 'craven': 1034, 'technically': 4382, 'national': 2970, 'precious': 3366, 'brian': 576, 'descent': 1193, 'maintain': 2710, 'contrived': 976, 'bela': 450, 'lugosi': 2686, 'aging': 153, 'brief': 579, 'corpse': 999, 'wallace': 4782, 'serves': 3895, 'racism': 3502, 'reflect': 3584, 'issues': 2365, 'curiosity': 1082, 'wondered': 4927, 'starred': 4153, 'trail': 4553, 'transfer': 4559, 'circle': 821, 'investigation': 2343, 'patrick': 3213, 'sides': 3967, 'influence': 2286, 'advance': 127, 'horrifying': 2167, 'improve': 2254, 'bitter': 491, 'exploitation': 1592, 'greater': 1965, 'scope': 3821, 'ridiculously': 3694, 'stock': 4193, '1999': 27, 'dude': 1381, 'cynical': 1093, 'suspenseful': 4331, 'developing': 1224, 'split': 4120, 'bell': 458, 'cards': 683, 'overacting': 3149, 'angles': 237, 'timing': 4498, 'aforementioned': 139, 'carl': 692, 'dancer': 1104, 'ian': 2209, 'pulls': 3464, 'understated': 4646, 'drops': 1372, 'recognition': 3568, 'inferior': 2285, 'torture': 4529, 'flashbacks': 1747, 'code': 869, 'distracting': 1297, 'improved': 2255, 'immensely': 2243, 'greek': 1970, 'chorus': 803, 'wolf': 4920, 'quotes': 3497, 'clown': 862, 'blond': 510, 'liking': 2604, 'nicholson': 3011, 'wendy': 4846, 'changed': 750, 'blow': 514, 'angels': 234, 'generated': 1882, 'kubrick': 2496, 'wide': 4880, 'shut': 3961, 'base': 402, 'solely': 4056, 'logic': 2638, 'dawson': 1128, 'brenda': 575, 'crimes': 1056, 'berlin': 467, 'cultural': 1078, 'communist': 907, 'propaganda': 3435, 'murderer': 2941, 'needless': 2989, 'wacky': 4769, 'indie': 2276, 'months': 2897, 'adam': 111, 'sandler': 3781, 'inducing': 2279, 'familys': 1646, 'critic': 1061, 'patient': 3211, 'pregnant': 3369, 'suffering': 4277, 'prove': 3445, 'advise': 134, 'todd': 4510, 'errors': 1516, '1968': 16, 'perspective': 3245, 'references': 3583, 'occurs': 3078, 'virginia': 4750, 'responsibility': 3655, 'ambitious': 211, 'cruel': 1070, 'consequences': 947, 'shoes': 3941, 'allow': 189, 'breath': 573, 'streets': 4217, 'producing': 3417, 'bloody': 513, 'load': 2631, 'obscure': 3068, 'search': 3841, 'danger': 1109, 'blade': 495, 'giallo': 1904, 'resolution': 3649, 'vampires': 4712, 'hammer': 2014, 'gothic': 1945, 'masterpieces': 2760, 'broken': 594, 'required': 3641, 'task': 4368, 'eastwood': 1409, 'businessman': 634, 'receives': 3565, 'produce': 3413, 'subtlety': 4261, 'wing': 4896, 'health': 2060, 'cared': 685, 'peace': 3219, 'bodies': 526, 'argument': 291, 'topic': 4526, 'gangsters': 1869, 'equivalent': 1512, 'craig': 1030, 'serving': 3897, 'adventures': 131, 'stayed': 4167, 'bridge': 578, 'ie': 2221, 'choices': 798, 'status': 4165, 'huh': 2187, 'keaton': 2448, 'gangster': 1868, 'maria': 2736, 'garden': 1872, 'faces': 1618, 'notes': 3046, 'attitude': 346, 'holy': 2140, 'jewish': 2401, 'wooden': 4934, 'tap': 4364, 'hopeless': 2158, 'mainstream': 2709, 'detail': 1217, 'worker': 4942, 'fathers': 1667, 'encounter': 1466, 'suspects': 4328, 'godfather': 1927, 'musicals': 2948, 'moody': 2899, 'oliver': 3102, 'dozens': 1339, 'dancers': 1105, 'disappear': 1270, 'mountains': 2918, 'spirited': 4114, 'touched': 4534, 'range': 3516, 'brave': 567, 'tree': 4576, 'spiritual': 4116, 'riding': 3695, 'nonsense': 3030, 'stereotype': 4178, 'drunken': 1376, 'wouldve': 4959, 'tear': 4379, 'monkey': 2890, 'couldve': 1009, 'seasons': 3844, 'surprises': 4314, 'skin': 4015, 'pacino': 3164, 'nowadays': 3055, 'rachel': 3500, 'lucy': 2684, 'legend': 2564, 'horrendous': 2162, 'ensemble': 1492, 'troubled': 4593, 'occurred': 3077, 'survivors': 4325, 'understandable': 4644, 'thoughts': 4464, 'complexity': 924, 'mature': 2773, 'sleeping': 4025, 'strength': 4219, 'virtually': 4751, 'reached': 3537, 'drop': 1369, 'shocking': 3940, 'loss': 2659, 'pops': 3332, 'redemption': 3578, 'seek': 3858, 'rule': 3753, 'exploration': 1593, 'excitement': 1562, 'depicts': 1186, 'buildings': 616, 'suggested': 4281, 'implausible': 2245, 'importance': 2246, 'winds': 4895, 'mysteries': 2954, 'suffer': 4275, 'universe': 4666, 'talked': 4359, 'nine': 3017, 'subjects': 4254, 'latter': 2528, 'altogether': 202, 'overcome': 3151, 'perry': 3237, 'incident': 2260, 'controversial': 978, 'planning': 3291, 'chilling': 794, 'assumed': 329, 'motives': 2916, 'harsh': 2040, 'possibilities': 3348, 'butler': 637, 'opinions': 3119, 'pathetic': 3210, 'grinch': 1975, 'stole': 4194, 'suck': 4269, 'screens': 3832, 'degree': 1164, 'guide': 1993, 'previously': 3388, 'hadnt': 2004, 'literature': 2623, 'abc': 63, 'conflicts': 940, 'nostalgic': 3039, 'confidence': 938, 'builds': 617, 'enormous': 1490, 'hbo': 2055, 'horrid': 2165, 'catholic': 720, 'operation': 3117, 'doom': 1326, 'sincere': 3991, 'lesbian': 2573, 'incomprehensible': 2267, 'sudden': 4272, 'scientists': 3819, 'allowing': 191, 'pan': 3180, 'interview': 2329, 'shirt': 3937, 'player': 3298, 'dropping': 1371, 'photos': 3261, 'miike': 2837, 'carrie': 697, 'fisher': 1739, 'hence': 2083, 'destruction': 1216, 'nation': 2969, 'hunting': 2201, 'hunt': 2198, 'complex': 923, 'characterization': 759, 'evident': 1547, 'generous': 1886, 'lloyd': 2630, 'noble': 3021, 'record': 3573, 'prior': 3400, 'handed': 2016, 'shape': 3919, 'accomplished': 87, 'sitcom': 4004, 'donna': 1323, 'hyde': 2206, 'chapter': 757, 'warren': 4801, 'wasted': 4809, 'charlie': 765, 'covered': 1023, '70': 55, 'rap': 3520, 'rangers': 3517, 'teenagers': 4391, 'fighting': 1709, 'kidnapped': 2466, 'replaced': 3634, 'blatant': 502, 'dragon': 1344, 'wilson': 4891, 'seventies': 3904, 'correct': 1000, 'fields': 1705, 'superbly': 4297, 'dirty': 1268, 'clint': 850, 'karen': 2444, 'signed': 3971, 'warning': 4800, 'cabin': 643, 'secondly': 3847, 'props': 3439, 'term': 4405, 'highest': 2102, 'aid': 160, 'fond': 1776, 'jon': 2416, 'ham': 2011, 'segment': 3867, 'jaw': 2384, 'rex': 3683, 'goldberg': 1933, 'designs': 1204, 'caliber': 649, 'jessica': 2398, 'teaching': 4377, 'entertain': 1497, 'ingredients': 2289, 'bo': 521, 'gross': 1978, 'unpleasant': 4674, 'menace': 2806, 'fighter': 1708, 'dick': 1239, 'powell': 3358, 'boss': 546, 'kane': 2442, 'yelling': 4980, 'championship': 745, 'spots': 4132, 'continued': 970, 'breathtaking': 574, 'kennedy': 2454, 'santa': 3783, 'contest': 967, 'featured': 1679, 'per': 3223, 'blair': 497, 'hip': 2114, 'displays': 1293, 'mexican': 2826, 'blockbuster': 509, 'amy': 222, 'adams': 112, 'beneath': 464, 'eyed': 1612, 'sappy': 3784, 'quick': 3490, 'unhappy': 4656, 'multi': 2935, 'attracted': 349, 'pays': 3218, 'drinking': 1362, 'display': 1291, 'supposedly': 4307, 'williams': 4888, 'april': 284, 'stunt': 4245, 'closed': 854, 'compelled': 915, 'beer': 439, 'topless': 4527, 'comics': 895, 'bakshi': 386, 'lesser': 2576, 'extent': 1605, 'borrowed': 545, 'experiences': 1582, 'examples': 1554, 'jet': 2400, 'causing': 726, 'downhill': 1336, 'portion': 3338, 'hoffman': 2128, 'ethan': 1528, 'sidney': 3968, 'lumet': 2688, 'shy': 3962, 'hart': 2041, 'existed': 1570, 'established': 1524, 'accompanied': 86, 'cost': 1003, 'resulting': 3661, 'tarzan': 4367, 'swim': 4337, 'apes': 267, 'throwing': 4480, 'awards': 367, 'adequate': 120, 'intrigued': 2334, 'flow': 1762, 'fill': 1714, 'ignored': 2225, 'afraid': 140, 'reasonable': 3558, 'unbelievably': 4635, 'purely': 3472, 'lies': 2591, 'vegas': 4717, 'neighbors': 2994, 'population': 3335, 'appalling': 268, '2003': 33, 'tooth': 4524, 'vengeance': 4719, 'target': 4366, 'savage': 3793, 'vampire': 4711, 'dressing': 1359, 'punk': 3468, 'twins': 4616, 'till': 4493, 'walken': 4777, 'homeless': 2143, 'passes': 3203, 'round': 3742, 'unpredictable': 4675, 'serve': 3893, 'directions': 1262, 'warn': 4797, 'samurai': 3779, 'simplistic': 3985, 'existence': 1571, 'web': 4833, 'bergman': 466, 'poverty': 3357, 'surfing': 4311, 'cutting': 1092, 'ridden': 3691, 'bone': 533, 'clip': 851, 'captivating': 675, 'hamilton': 2012, '3d': 46, 'tender': 4401, '18': 10, 'legs': 2566, 'boredom': 542, 'imagination': 2236, 'talks': 4361, 'psychological': 3458, 'requires': 3642, 'vote': 4766, 'rental': 3627, 'sellers': 3872, 'bible': 477, 'site': 4005, 'haunting': 2051, 'attempting': 342, 'tortured': 4530, 'desperation': 1210, 'profound': 3423, 'vulnerable': 4768, 'repeatedly': 3632, 'segments': 3868, 'silver': 3977, 'blown': 516, 'core': 995, 'maker': 2714, 'conversation': 980, 'september': 3884, 'names': 2963, 'choreography': 802, 'originality': 3130, 'campy': 664, 'fabulous': 1615, 'ticket': 4487, 'promised': 3431, 'mentally': 2809, 'progresses': 3426, 'funeral': 1849, 'overdone': 3152, 'sentimental': 3882, 'poetry': 3314, 'dislike': 1288, 'mere': 2814, 'kenneth': 2455, 'pages': 3168, 'reasons': 3560, 'criticism': 1063, 'comparing': 913, 'frankenstein': 1822, 'pig': 3274, 'unrealistic': 4677, 'amateurish': 207, 'devils': 1229, 'ghosts': 1903, 'eva': 1531, 'lake': 2509, 'failure': 1629, 'uninspired': 4657, 'overwhelming': 3157, 'terrifying': 4410, 'eaten': 1412, 'hideous': 2098, 'edward': 1426, 'uncomfortable': 4637, 'doomed': 1327, 'capturing': 679, 'gotta': 1946, 'icon': 2211, 'arrived': 301, 'bound': 553, 'neil': 2995, 'proper': 3436, 'triumph': 4590, 'fame': 1642, 'green': 1971, 'stealing': 4171, 'bride': 577, 'territory': 4411, 'initial': 2290, 'seed': 3856, 'facts': 1624, 'severe': 3906, 'diamond': 1236, 'flaw': 1749, 'listed': 2618, 'itll': 2369, 'bbc': 417, 'midnight': 2834, 'unaware': 4632, 'toilet': 4512, 'hamlet': 2013, 'germans': 1897, 'corporate': 998, 'jesus': 2399, 'catches': 715, 'brand': 565, '12': 3, 'easier': 1405, 'chooses': 800, 'potentially': 3356, 'superman': 4301, 'mile': 2842, 'hollow': 2135, 'storm': 4206, 'ruthless': 3764, 'amanda': 205, 'dialogues': 1235, 'threw': 4470, 'discussion': 1284, 'thru': 4483, 'amitabh': 216, 'laura': 2536, 'sophisticated': 4075, 'parties': 3196, 'weapon': 4828, 'nonsensical': 3031, 'lion': 2614, 'annoyed': 248, 'belongs': 460, 'alongside': 196, 'cliche': 843, 'grace': 1950, 'conversations': 981, 'witches': 4910, 'familiar': 1643, 'planned': 3290, 'craft': 1028, 'stones': 4198, 'rocks': 3722, 'aimed': 162, 'offering': 3089, 'pokemon': 3320, 'faster': 1662, '1970s': 17, 'dinner': 1254, 'basement': 405, 'cheating': 776, 'depicted': 1183, 'pet': 3246, 'matthew': 2772, 'screenwriter': 3833, 'gabriel': 1859, 'claimed': 829, 'inevitable': 2282, 'alcohol': 176, 'judging': 2425, 'recording': 3575, 'phone': 3255, 'jobs': 2406, 'duty': 1390, 'narrator': 2967, 'broadcast': 591, '20th': 38, 'unsettling': 4679, 'jumps': 2432, 'overlooked': 3154, 'simpson': 3987, 'translation': 4562, 'shortly': 3947, 'unintentional': 4658, 'jake': 2377, 'underlying': 4641, 'pretending': 3382, 'cusack': 1088, 'determined': 1221, 'journalist': 2420, 'sharp': 3922, 'host': 2173, 'neighborhood': 2993, 'staring': 4152, 'desired': 1206, 'returned': 3666, 'picks': 3268, 'amounts': 220, 'diana': 1237, 'stops': 4203, 'vivid': 4760, 'homosexual': 2145, 'via': 4726, 'merit': 2816, 'spread': 4133, 'meat': 2787, 'dialogs': 1233, 'buffs': 612, 'elvis': 1451, 'considerable': 950, 'covers': 1024, 'companion': 909, 'philosophical': 3253, 'fired': 1735, 'multiple': 2936, 'viewings': 4741, 'cake': 648, 'demand': 1174, 'subtitles': 4259, 'halfway': 2008, 'anime': 243, 'styles': 4250, 'creativity': 1042, 'floating': 1758, 'specific': 4099, 'spirits': 4115, 'kidding': 2465, 'todays': 4509, 'andy': 230, 'laurel': 2537, 'foreign': 1790, 'thomas': 4458, 'careful': 688, 'females': 1694, 'foul': 1810, 'villains': 4745, 'bands': 392, 'bugs': 613, 'kay': 2447, 'buried': 624, 'classical': 836, 'decisions': 1152, 'contained': 963, 'spain': 4091, 'schools': 3814, 'pilot': 3276, 'express': 1600, 'chan': 746, 'kung': 2498, 'fu': 1844, 'hong': 2149, 'kong': 2494, 'likewise': 2603, 'frankly': 1823, 'abilities': 64, 'mall': 2720, 'testament': 4417, 'discuss': 1283, 'matrix': 2767, 'dolph': 1317, 'deaf': 1134, 'undoubtedly': 4648, 'settle': 3902, 'groups': 1981, 'remarks': 3615, 'thumbs': 4485, 'grim': 1974, 'advertising': 132, 'bacall': 377, 'adding': 117, 'kapoor': 2443, 'anger': 235, 'adorable': 124, 'carter': 703, 'gruesome': 1986, 'capital': 673, 'punishment': 3467, 'criminals': 1058, 'balance': 387, 'kings': 2481, 'inevitably': 2283, 'mickey': 2831, 'lewis': 2586, '13th': 5, 'forms': 1801, 'credibility': 1047, 'reflection': 3585, 'illness': 2230, 'screaming': 3827, 'calm': 655, 'cried': 1054, 'carpenter': 694, 'ninja': 3018, 'choreographed': 801, 'showdown': 3955, 'denzel': 1181, 'techniques': 4384, 'parallel': 3185, 'dubbing': 1380, 'delivering': 1171, 'alice': 182, 'showcase': 3954, 'month': 2896, 'installment': 2303, 'waited': 4771, 'specifically': 4100, 'luckily': 2682, 'winter': 4900, 'combined': 885, 'relations': 3596, 'bullets': 621, 'noise': 3024, 'wounded': 4961, 'neck': 2985, 'fed': 1682, 'letting': 2583, 'portrait': 3339, 'sid': 3964, 'june': 2433, 'nurse': 3063, 'fifteen': 1706, 'irony': 2357, 'levels': 2585, 'risk': 3704, 'richards': 3687, 'focusing': 1769, 'inappropriate': 2259, 'virgin': 4749, 'trashy': 4566, 'gary': 1873, 'market': 2740, 'invisible': 2344, 'ape': 266, 'dracula': 1341, 'polanski': 3321, 'preview': 3386, 'panic': 3181, 'unoriginal': 4673, 'grasp': 1960, 'ritter': 3705, 'dalton': 1098, 'writes': 4970, 'trite': 4589, 'embarrassment': 1455, 'singers': 3994, 'household': 2179, 'nightmares': 3015, 'album': 175, 'discovers': 1281, 'draws': 1352, 'enjoys': 1489, 'broadway': 592, 'interaction': 2322, 'suited': 4286, 'table': 4346, 'newspaper': 3006, 'enthusiasm': 1501, 'admire': 121, 'gundam': 1997, 'unintentionally': 4659, 'kissing': 2484, 'passed': 3202, 'forgive': 1795, 'freak': 1824, 'tends': 4402, 'enemies': 1476, 'randomly': 3515, 'clumsy': 866, 'photographer': 3259, 'nightmare': 3014, 'bang': 393, 'stopped': 4202, 'devoid': 1230, 'genres': 1889, 'muslim': 2949, 'widmark': 4882, 'directs': 1267, 'remotely': 3623, 'zombies': 4998, 'stretch': 4221, 'mayor': 2777, 'painting': 3175, 'germany': 1898, 'birds': 485, 'paulie': 3215, 'disturbed': 1299, 'hysterical': 2208, 'namely': 2962, 'disappoint': 1272, 'tame': 4363, 'bargain': 400, 'pamela': 3179, 'hop': 2154, 'sunday': 4293, '1996': 26, 'jesse': 2397, 'demons': 1178, 'warriors': 4803, 'complain': 919, 'serial': 3889, 'burn': 625, 'satisfy': 3790, 'rooms': 3736, 'bobby': 525, 'superhero': 4299, 'traveling': 4568, 'resort': 3650, 'lisa': 2616, 'sinister': 3998, 'georges': 1894, 'simplicity': 3984, 'steven': 4182, 'blob': 507, 'brazil': 568, 'spin': 4112, 'politically': 3325, 'diane': 1238, 'chances': 748, 'worthwhile': 4955, 'von': 4765, 'repetitive': 3633, 'pie': 3271, 'hitler': 2124, 'eccentric': 1414, 'margaret': 2735, 'calls': 654, 'manager': 2724, 'blacks': 494, 'charlotte': 766, 'jaws': 2385, 'whale': 4857, 'tad': 4347, 'judy': 2426, 'brooklyn': 595, 'creators': 1044, 'fish': 1738, 'christians': 809, 'merits': 2817, 'hippie': 2115, 'airplane': 166, 'dust': 1388, 'creation': 1040, 'slap': 4018, 'purposes': 3475, 'satisfied': 3789, 'lust': 2689, 'raped': 3522, 'helen': 2075, 'fever': 1699, 'disease': 1285, 'subplots': 4256, 'motivation': 2914, 'bettie': 473, 'blah': 496, 'riveting': 3708, 'dentist': 1180, 'pitch': 3279, 'react': 3540, 'lou': 2663, 'rat': 3525, 'demon': 1177, 'tied': 4489, 'limits': 2607, 'afford': 138, 'dvds': 1392, 'selfish': 3870, 'corruption': 1002, 'fay': 1674, 'houses': 2180, 'ramones': 3512, 'bay': 416, 'cringe': 1059, 'jeffrey': 2391, 'hook': 2152, 'cousin': 1021, 'colour': 880, 'bottle': 550, 'pal': 3177, 'karloff': 2445, 'prom': 3429, 'warmth': 4796, 'richardson': 3688, 'rocky': 3723, 'voight': 4764, 'ratings': 3530, 'represents': 3639, 'teachers': 4376, 'walls': 4783, 'grandmother': 1955, 'awfully': 373, 'unexpected': 4650, 'sexuality': 3909, 'intentionally': 2320, 'visible': 4753, 'behave': 445, 'scripts': 3836, 'thief': 4448, 'foster': 1809, 'unit': 4663, 'troubles': 4594, 'lit': 2621, 'mummy': 2937, 'swear': 4334, 'che': 773, 'frustration': 1843, 'elderly': 1440, 'cruise': 1071, 'accepted': 82, 'seagal': 3839, 'spike': 4111, 'holly': 2136, 'pursuit': 3476, 'simmons': 3981, 'secretary': 3850, 'elegant': 1441, 'ego': 1435, 'fulci': 1845, 'der': 1191, 'miracle': 2860, 'widow': 4883, 'survived': 4322, 'hung': 2197, 'impress': 2250, 'robbins': 3712, 'ellen': 1446, 'montana': 2895, 'someones': 4065, 'neo': 2998, 'affect': 136, 'doll': 1313, 'lab': 2501, 'equipment': 1511, 'shirley': 3936, 'gripping': 1976, 'kurt': 2499, 'finger': 1731, 'wholly': 4874, 'user': 4696, 'ireland': 2352, 'monk': 2889, 'ashley': 313, 'trained': 4557, 'monkeys': 2891, 'trademark': 4548, 'possessed': 3347, 'dig': 1250, 'chases': 771, 'cup': 1080, 'priest': 3392, 'arguably': 289, 'pseudo': 3454, 'opened': 3113, 'frequent': 1831, 'peters': 3248, 'consistent': 953, 'eighties': 1437, 'ruby': 3749, 'harvey': 2042, 'gandhi': 1866, 'exposure': 1599, 'justin': 2440, 'satan': 3787, 'methods': 2825, 'baseball': 403, 'miserably': 2864, 'cg': 739, 'streisand': 4218, 'feminist': 1695, 'nervous': 2999, 'devoted': 1231, 'slightest': 4028, 'chicago': 785, '2005': 35, 'edgar': 1417, 'mildred': 2841, 'beast': 422, 'modesty': 2883, 'outcome': 3142, 'stood': 4199, 'restaurant': 3658, 'senseless': 3878, 'snake': 4042, 'beats': 426, '1933': 12, 'swedish': 4335, 'da': 1094, 'davies': 1125, 'cannibal': 669, 'greedy': 1969, 'hello': 2078, 'balls': 390, 'latin': 2527, 'exotic': 1574, 'patients': 3212, 'enterprise': 1495, 'melting': 2799, 'duke': 1383, 'jenny': 2393, 'mars': 2746, 'hints': 2113, 'matthau': 2771, 'goofy': 1939, '1984': 23, 'kirk': 2482, '1983': 22, 'domino': 1319, 'rats': 3531, 'smoke': 4039, 'chicks': 787, 'iron': 2354, 'omen': 3104, 'emphasis': 1463, 'raising': 3509, '1973': 19, '35': 45, 'lemmon': 2567, 'felix': 1689, 'chess': 783, 'atlantis': 332, 'uwe': 4703, 'boll': 529, '1990': 24, 'rochester': 3719, 'eyre': 1614, 'carradine': 695, 'scarecrow': 3804, 'slick': 4026, 'authority': 360, 'francis': 1818, 'turner': 4607, 'virus': 4752, 'prisoners': 3403, 'bud': 607, 'stargate': 4151, 'elm': 1447, 'li': 2587}\n"
     ]
    }
   ],
   "source": [
    "print(str(vocabulary))"
   ]
  },
  {
   "cell_type": "markdown",
   "metadata": {},
   "source": [
    "Once you have added the endpoint name to the Lambda function, click on **Save**. Your Lambda function is now up and running. Next we need to create a way for our web app to execute the Lambda function."
   ]
  },
  {
   "cell_type": "markdown",
   "metadata": {},
   "source": [
    "### Setting up API Gateway\n",
    "\n",
    "Now that our Lambda function is set up, it is time to create a new API using API Gateway that will trigger the Lambda function we have just created.\n",
    "\n",
    "Using AWS Console, navigate to **Amazon API Gateway** and then click on **Get started**.\n",
    "\n",
    "On the next page, make sure that **New API** is selected and give the new api a name, for example, `sentiment_analysis_web_app`. Then, click on **Create API**.\n",
    "\n",
    "Now we have created an API, however it doesn't currently do anything. What we want it to do is to trigger the Lambda function that we created earlier.\n",
    "\n",
    "Select the **Actions** dropdown menu and click **Create Method**. A new blank method will be created, select its dropdown menu and select **POST**, then click on the check mark beside it.\n",
    "\n",
    "For the integration point, make sure that **Lambda Function** is selected and click on the **Use Lambda Proxy integration**. This option makes sure that the data that is sent to the API is then sent directly to the Lambda function with no processing. It also means that the return value must be a proper response object as it will also not be processed by API Gateway.\n",
    "\n",
    "Type the name of the Lambda function you created earlier into the **Lambda Function** text entry box and then click on **Save**. Click on **OK** in the pop-up box that then appears, giving permission to API Gateway to invoke the Lambda function you created.\n",
    "\n",
    "The last step in creating the API Gateway is to select the **Actions** dropdown and click on **Deploy API**. You will need to create a new Deployment stage and name it anything you like, for example `prod`.\n",
    "\n",
    "You have now successfully set up a public API to access your SageMaker model. Make sure to copy or write down the URL provided to invoke your newly created public API as this will be needed in the next step. This URL can be found at the top of the page, highlighted in blue next to the text **Invoke URL**."
   ]
  },
  {
   "cell_type": "markdown",
   "metadata": {},
   "source": [
    "## Step 7: Deploying our web app\n",
    "\n",
    "Now that we have a publicly available API, we can start using it in a web app. For our purposes, we have provided a simple static html file which can make use of the public api you created earlier.\n",
    "\n",
    "In the `website` folder there should be a file called `index.html`. Download the file to your computer and open that file up in a text editor of your choice. There should be a line which contains **\\*\\*REPLACE WITH PUBLIC API URL\\*\\***. Replace this string with the url that you wrote down in the last step and then save the file.\n",
    "\n",
    "Now, if you open `index.html` on your local computer, your browser will behave as a local web server and you can use the provided site to interact with your SageMaker model.\n",
    "\n",
    "If you'd like to go further, you can host this html file anywhere you'd like, for example using github or hosting a static site on Amazon's S3. Once you have done this you can share the link with anyone you'd like and have them play with it too!\n",
    "\n",
    "> **Important Note** In order for the web app to communicate with the SageMaker endpoint, the endpoint has to actually be deployed and running. This means that you are paying for it. Make sure that the endpoint is running when you want to use the web app but that you shut it down when you don't need it, otherwise you will end up with a surprisingly large AWS bill."
   ]
  },
  {
   "cell_type": "markdown",
   "metadata": {},
   "source": [
    "### Delete the endpoint\n",
    "\n",
    "Remember to always shut down your endpoint if you are no longer using it. You are charged for the length of time that the endpoint is running so if you forget and leave it on you could end up with an unexpectedly large bill."
   ]
  },
  {
   "cell_type": "code",
   "execution_count": 52,
   "metadata": {},
   "outputs": [],
   "source": [
    "xgb_predictor.delete_endpoint()"
   ]
  },
  {
   "cell_type": "markdown",
   "metadata": {},
   "source": [
    "## Optional: Clean up\n",
    "\n",
    "The default notebook instance on SageMaker doesn't have a lot of excess disk space available. As you continue to complete and execute notebooks you will eventually fill up this disk space, leading to errors which can be difficult to diagnose. Once you are completely finished using a notebook it is a good idea to remove the files that you created along the way. Of course, you can do this from the terminal or from the notebook hub if you would like. The cell below contains some commands to clean up the created files from within the notebook."
   ]
  },
  {
   "cell_type": "code",
   "execution_count": 53,
   "metadata": {},
   "outputs": [],
   "source": [
    "# First we will remove all of the files contained in the data_dir directory\n",
    "!rm $data_dir/*\n",
    "\n",
    "# And then we delete the directory itself\n",
    "!rmdir $data_dir\n",
    "\n",
    "# Similarly we remove the files in the cache_dir directory and the directory itself\n",
    "!rm $cache_dir/*\n",
    "!rmdir $cache_dir"
   ]
  },
  {
   "cell_type": "code",
   "execution_count": null,
   "metadata": {},
   "outputs": [],
   "source": []
  }
 ],
 "metadata": {
  "kernelspec": {
   "display_name": "conda_pytorch_p36",
   "language": "python",
   "name": "conda_pytorch_p36"
  },
  "language_info": {
   "codemirror_mode": {
    "name": "ipython",
    "version": 3
   },
   "file_extension": ".py",
   "mimetype": "text/x-python",
   "name": "python",
   "nbconvert_exporter": "python",
   "pygments_lexer": "ipython3",
   "version": "3.6.13"
  }
 },
 "nbformat": 4,
 "nbformat_minor": 2
}
